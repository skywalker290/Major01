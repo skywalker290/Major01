{
  "cells": [
    {
      "cell_type": "code",
      "execution_count": 2,
      "metadata": {
        "colab": {
          "base_uri": "https://localhost:8080/"
        },
        "id": "OShHKBLsiZ3F",
        "outputId": "f294d01a-c6ca-4cb4-ea8b-40921e0b42ce"
      },
      "outputs": [
        {
          "output_type": "stream",
          "name": "stdout",
          "text": [
            "Requirement already satisfied: transformers in /usr/local/lib/python3.10/dist-packages (4.44.2)\n",
            "Requirement already satisfied: datasets in /usr/local/lib/python3.10/dist-packages (3.1.0)\n",
            "Requirement already satisfied: filelock in /usr/local/lib/python3.10/dist-packages (from transformers) (3.16.1)\n",
            "Requirement already satisfied: huggingface-hub<1.0,>=0.23.2 in /usr/local/lib/python3.10/dist-packages (from transformers) (0.24.7)\n",
            "Requirement already satisfied: numpy>=1.17 in /usr/local/lib/python3.10/dist-packages (from transformers) (1.26.4)\n",
            "Requirement already satisfied: packaging>=20.0 in /usr/local/lib/python3.10/dist-packages (from transformers) (24.1)\n",
            "Requirement already satisfied: pyyaml>=5.1 in /usr/local/lib/python3.10/dist-packages (from transformers) (6.0.2)\n",
            "Requirement already satisfied: regex!=2019.12.17 in /usr/local/lib/python3.10/dist-packages (from transformers) (2024.9.11)\n",
            "Requirement already satisfied: requests in /usr/local/lib/python3.10/dist-packages (from transformers) (2.32.3)\n",
            "Requirement already satisfied: safetensors>=0.4.1 in /usr/local/lib/python3.10/dist-packages (from transformers) (0.4.5)\n",
            "Requirement already satisfied: tokenizers<0.20,>=0.19 in /usr/local/lib/python3.10/dist-packages (from transformers) (0.19.1)\n",
            "Requirement already satisfied: tqdm>=4.27 in /usr/local/lib/python3.10/dist-packages (from transformers) (4.66.6)\n",
            "Requirement already satisfied: pyarrow>=15.0.0 in /usr/local/lib/python3.10/dist-packages (from datasets) (17.0.0)\n",
            "Requirement already satisfied: dill<0.3.9,>=0.3.0 in /usr/local/lib/python3.10/dist-packages (from datasets) (0.3.8)\n",
            "Requirement already satisfied: pandas in /usr/local/lib/python3.10/dist-packages (from datasets) (2.2.2)\n",
            "Requirement already satisfied: xxhash in /usr/local/lib/python3.10/dist-packages (from datasets) (3.5.0)\n",
            "Requirement already satisfied: multiprocess<0.70.17 in /usr/local/lib/python3.10/dist-packages (from datasets) (0.70.16)\n",
            "Requirement already satisfied: fsspec<=2024.9.0,>=2023.1.0 in /usr/local/lib/python3.10/dist-packages (from fsspec[http]<=2024.9.0,>=2023.1.0->datasets) (2024.9.0)\n",
            "Requirement already satisfied: aiohttp in /usr/local/lib/python3.10/dist-packages (from datasets) (3.10.10)\n",
            "Requirement already satisfied: aiohappyeyeballs>=2.3.0 in /usr/local/lib/python3.10/dist-packages (from aiohttp->datasets) (2.4.3)\n",
            "Requirement already satisfied: aiosignal>=1.1.2 in /usr/local/lib/python3.10/dist-packages (from aiohttp->datasets) (1.3.1)\n",
            "Requirement already satisfied: attrs>=17.3.0 in /usr/local/lib/python3.10/dist-packages (from aiohttp->datasets) (24.2.0)\n",
            "Requirement already satisfied: frozenlist>=1.1.1 in /usr/local/lib/python3.10/dist-packages (from aiohttp->datasets) (1.5.0)\n",
            "Requirement already satisfied: multidict<7.0,>=4.5 in /usr/local/lib/python3.10/dist-packages (from aiohttp->datasets) (6.1.0)\n",
            "Requirement already satisfied: yarl<2.0,>=1.12.0 in /usr/local/lib/python3.10/dist-packages (from aiohttp->datasets) (1.17.0)\n",
            "Requirement already satisfied: async-timeout<5.0,>=4.0 in /usr/local/lib/python3.10/dist-packages (from aiohttp->datasets) (4.0.3)\n",
            "Requirement already satisfied: typing-extensions>=3.7.4.3 in /usr/local/lib/python3.10/dist-packages (from huggingface-hub<1.0,>=0.23.2->transformers) (4.12.2)\n",
            "Requirement already satisfied: charset-normalizer<4,>=2 in /usr/local/lib/python3.10/dist-packages (from requests->transformers) (3.4.0)\n",
            "Requirement already satisfied: idna<4,>=2.5 in /usr/local/lib/python3.10/dist-packages (from requests->transformers) (3.10)\n",
            "Requirement already satisfied: urllib3<3,>=1.21.1 in /usr/local/lib/python3.10/dist-packages (from requests->transformers) (2.2.3)\n",
            "Requirement already satisfied: certifi>=2017.4.17 in /usr/local/lib/python3.10/dist-packages (from requests->transformers) (2024.8.30)\n",
            "Requirement already satisfied: python-dateutil>=2.8.2 in /usr/local/lib/python3.10/dist-packages (from pandas->datasets) (2.8.2)\n",
            "Requirement already satisfied: pytz>=2020.1 in /usr/local/lib/python3.10/dist-packages (from pandas->datasets) (2024.2)\n",
            "Requirement already satisfied: tzdata>=2022.7 in /usr/local/lib/python3.10/dist-packages (from pandas->datasets) (2024.2)\n",
            "Requirement already satisfied: six>=1.5 in /usr/local/lib/python3.10/dist-packages (from python-dateutil>=2.8.2->pandas->datasets) (1.16.0)\n",
            "Requirement already satisfied: propcache>=0.2.0 in /usr/local/lib/python3.10/dist-packages (from yarl<2.0,>=1.12.0->aiohttp->datasets) (0.2.0)\n"
          ]
        }
      ],
      "source": [
        "# Transformers installation\n",
        "! pip install transformers datasets\n",
        "# To install from source instead of the last release, comment the command above and uncomment the following one.\n",
        "# ! pip install git+https://github.com/huggingface/transformers.git"
      ]
    },
    {
      "cell_type": "markdown",
      "metadata": {
        "id": "ABq69U9riZ3H"
      },
      "source": [
        "# Video classification"
      ]
    },
    {
      "cell_type": "markdown",
      "metadata": {
        "id": "hfeSI2NliZ3I"
      },
      "source": [
        "Video classification is the task of assigning a label or class to an entire video. Videos are expected to have only one class for each video. Video classification models take a video as input and return a prediction about which class the video belongs to. These models can be used to categorize what a video is all about. A real-world application of video classification is action / activity recognition, which is useful for fitness applications. It is also helpful for vision-impaired individuals, especially when they are commuting.\n",
        "\n",
        "This guide will show you how to:\n",
        "\n",
        "1. Fine-tune [VideoMAE](https://huggingface.co/docs/transformers/main/en/model_doc/videomae) on a subset of the [UCF101](https://www.crcv.ucf.edu/data/UCF101.php) dataset.\n",
        "2. Use your fine-tuned model for inference.\n",
        "\n",
        "<Tip>\n",
        "The task illustrated in this tutorial is supported by the following model architectures:\n",
        "\n",
        "<!--This tip is automatically generated by `make fix-copies`, do not fill manually!-->\n",
        "\n",
        "[TimeSformer](https://huggingface.co/docs/transformers/main/en/tasks/../model_doc/timesformer), [VideoMAE](https://huggingface.co/docs/transformers/main/en/tasks/../model_doc/videomae)\n",
        "\n",
        "<!--End of the generated tip-->\n",
        "\n",
        "</Tip>\n",
        "\n",
        "Before you begin, make sure you have all the necessary libraries installed:\n",
        "\n",
        "```bash\n",
        "pip install -q pytorchvideo transformers evaluate\n",
        "```\n",
        "\n",
        "You will use [PyTorchVideo](https://pytorchvideo.org/) (dubbed `pytorchvideo`) to process and prepare the videos.\n",
        "\n",
        "We encourage you to log in to your Hugging Face account so you can upload and share your model with the community. When prompted, enter your token to log in:"
      ]
    },
    {
      "cell_type": "code",
      "source": [
        "!pip install -q pytorchvideo transformers evaluate\n"
      ],
      "metadata": {
        "id": "N7w_3g4zi59a"
      },
      "execution_count": 3,
      "outputs": []
    },
    {
      "cell_type": "code",
      "execution_count": 4,
      "metadata": {
        "colab": {
          "base_uri": "https://localhost:8080/",
          "height": 145,
          "referenced_widgets": [
            "6b1ca730df0245f4b841e5b50f90007d",
            "c7167fd834b140b580dae6fe5a9615b5",
            "ca6191bf92bf45abab7fdf66546a975b",
            "7046024bef844908aa40fecef4ce281d",
            "10c2247b39f04100b61092970f54c6a1",
            "066f88bf4bcf4d4c93890a1c25f0d1d4",
            "d621efdef33d4ee08d61775e24223bb7",
            "1abcafea31f94790addb0e9fc1926b3e",
            "2443bed6f7074cc89652852d9e765f75",
            "ced56fe8daa441c286db68f9a5e28da8",
            "0a955c81b0b143b6a4e7408516edc8eb",
            "bf54159232ad4d758789aa8ce71f92cb",
            "6ce2692d95734749bbf769e8e8a41575",
            "69d2d6de1b664ea78027b3b0b1314bef",
            "cc62c052248e413683fa3652cef58a96",
            "d1454fe9e7724580b9b0fe3a7bad374c",
            "4d911a942876426f94e134a1786c1ec0",
            "2e328280c53247818063fdd6111e14a7",
            "d9abeeb722824bf582ad0f5dec8b4772",
            "dc5b7ff4df294bd58f4ab23c2890c4b4",
            "514081c2f3d8456cb9ed70b51e289200",
            "b04f6d14fd1a45dcbfd97774b879ba31",
            "eec945013f744b1c8c4d2e34805a0724",
            "1e25e0aeaa2a4668a6d0dcaf48b0c014",
            "ac9cbf24b945441a8b9a1f83f8a0443d",
            "993a77f36dd8429fbd6e8db51cf5e6be",
            "1d9f054d9cee43e18060b9da865065bb",
            "8f2d0f6bc013483690bce790c7855134",
            "4e343e976783418c8cc8400a2065137c",
            "73a12640ba2748e282f02fab146361cb",
            "541032313b944dcbb05c386df99a6f3b",
            "ecb7c24647384fcfb8f9423506b9398e"
          ]
        },
        "id": "jLmEpFMeiZ3J",
        "outputId": "230acf21-95da-4cc7-e952-8a709391aec7"
      },
      "outputs": [
        {
          "output_type": "display_data",
          "data": {
            "text/plain": [
              "VBox(children=(HTML(value='<center> <img\\nsrc=https://huggingface.co/front/assets/huggingface_logo-noborder.sv…"
            ],
            "application/vnd.jupyter.widget-view+json": {
              "version_major": 2,
              "version_minor": 0,
              "model_id": "6b1ca730df0245f4b841e5b50f90007d"
            }
          },
          "metadata": {}
        }
      ],
      "source": [
        "from huggingface_hub import notebook_login\n",
        "\n",
        "notebook_login()"
      ]
    },
    {
      "cell_type": "markdown",
      "metadata": {
        "id": "5yovJUBCiZ3J"
      },
      "source": [
        "## Load UCF101 dataset"
      ]
    },
    {
      "cell_type": "markdown",
      "metadata": {
        "id": "IbCSjmLSiZ3J"
      },
      "source": [
        "Start by loading a subset of the [UCF-101 dataset](https://www.crcv.ucf.edu/data/UCF101.php). This will give you a chance to experiment and make sure everything works before spending more time training on the full dataset."
      ]
    },
    {
      "cell_type": "code",
      "execution_count": 5,
      "metadata": {
        "colab": {
          "base_uri": "https://localhost:8080/"
        },
        "id": "nGpxUCuHiZ3K",
        "outputId": "3ab38938-b123-49cb-c0ea-a38f5ac8402b"
      },
      "outputs": [
        {
          "output_type": "stream",
          "name": "stderr",
          "text": [
            "/usr/local/lib/python3.10/dist-packages/huggingface_hub/utils/_token.py:89: UserWarning: \n",
            "The secret `HF_TOKEN` does not exist in your Colab secrets.\n",
            "To authenticate with the Hugging Face Hub, create a token in your settings tab (https://huggingface.co/settings/tokens), set it as secret in your Google Colab and restart your session.\n",
            "You will be able to reuse this secret in all of your notebooks.\n",
            "Please note that authentication is recommended but still optional to access public models or datasets.\n",
            "  warnings.warn(\n"
          ]
        }
      ],
      "source": [
        "from huggingface_hub import hf_hub_download\n",
        "\n",
        "hf_dataset_identifier = \"sayakpaul/ucf101-subset\"\n",
        "filename = \"UCF101_subset.tar.gz\"\n",
        "file_path = hf_hub_download(repo_id=hf_dataset_identifier, filename=filename, repo_type=\"dataset\")"
      ]
    },
    {
      "cell_type": "markdown",
      "metadata": {
        "id": "mxh1NEA3iZ3K"
      },
      "source": [
        "After the subset has been downloaded, you need to extract the compressed archive:"
      ]
    },
    {
      "cell_type": "code",
      "execution_count": 6,
      "metadata": {
        "id": "GxfMzzOWiZ3K"
      },
      "outputs": [],
      "source": [
        "import tarfile\n",
        "\n",
        "with tarfile.open(file_path) as t:\n",
        "     t.extractall(\".\")"
      ]
    },
    {
      "cell_type": "markdown",
      "metadata": {
        "id": "Sxo99WdtiZ3K"
      },
      "source": [
        "At a high level, the dataset is organized like so:\n",
        "\n",
        "```bash\n",
        "UCF101_subset/\n",
        "    train/\n",
        "        BandMarching/\n",
        "            video_1.mp4\n",
        "            video_2.mp4\n",
        "            ...\n",
        "        Archery\n",
        "            video_1.mp4\n",
        "            video_2.mp4\n",
        "            ...\n",
        "        ...\n",
        "    val/\n",
        "        BandMarching/\n",
        "            video_1.mp4\n",
        "            video_2.mp4\n",
        "            ...\n",
        "        Archery\n",
        "            video_1.mp4\n",
        "            video_2.mp4\n",
        "            ...\n",
        "        ...\n",
        "    test/\n",
        "        BandMarching/\n",
        "            video_1.mp4\n",
        "            video_2.mp4\n",
        "            ...\n",
        "        Archery\n",
        "            video_1.mp4\n",
        "            video_2.mp4\n",
        "            ...\n",
        "        ...\n",
        "```\n",
        "\n",
        "The (`sorted`) video paths appear like so:\n",
        "\n",
        "```bash\n",
        "...\n",
        "'UCF101_subset/train/ApplyEyeMakeup/v_ApplyEyeMakeup_g07_c04.avi',\n",
        "'UCF101_subset/train/ApplyEyeMakeup/v_ApplyEyeMakeup_g07_c06.avi',\n",
        "'UCF101_subset/train/ApplyEyeMakeup/v_ApplyEyeMakeup_g08_c01.avi',\n",
        "'UCF101_subset/train/ApplyEyeMakeup/v_ApplyEyeMakeup_g09_c02.avi',\n",
        "'UCF101_subset/train/ApplyEyeMakeup/v_ApplyEyeMakeup_g09_c06.avi'\n",
        "...\n",
        "```\n",
        "\n",
        "You will notice that there are video clips belonging to the same group / scene where group is denoted by `g` in the video file paths. `v_ApplyEyeMakeup_g07_c04.avi` and `v_ApplyEyeMakeup_g07_c06.avi`, for example.\n",
        "\n",
        "For the validation and evaluation splits, you wouldn't want to have video clips from the same group / scene to prevent [data leakage](https://www.kaggle.com/code/alexisbcook/data-leakage). The subset that you are using in this tutorial takes this information into account.\n",
        "\n",
        "Next up, you will derive the set of labels present in the dataset. Also, create two dictionaries that'll be helpful when initializing the model:\n",
        "\n",
        "* `label2id`: maps the class names to integers.\n",
        "* `id2label`: maps the integers to class names."
      ]
    },
    {
      "cell_type": "code",
      "source": [
        "# prompt: define all_video_file_paths which contain file path of all the videos in the directory /content/UCF101_subset\n",
        "\n",
        "import os\n",
        "\n",
        "all_video_file_paths = []\n",
        "for root, _, files in os.walk(\"/content/UCF101_subset\"):\n",
        "    for file in files:\n",
        "        if file.endswith((\".mp4\", \".avi\")):  # Add other video extensions if needed\n",
        "            all_video_file_paths.append(os.path.join(root, file))"
      ],
      "metadata": {
        "id": "zqZy7IpRjWFz"
      },
      "execution_count": 7,
      "outputs": []
    },
    {
      "cell_type": "code",
      "source": [
        "all_video_file_paths"
      ],
      "metadata": {
        "colab": {
          "base_uri": "https://localhost:8080/"
        },
        "id": "gQBMa42Djwr3",
        "outputId": "2e1a2009-6300-4893-ddc1-e94d6101ed52"
      },
      "execution_count": 8,
      "outputs": [
        {
          "output_type": "execute_result",
          "data": {
            "text/plain": [
              "['/content/UCF101_subset/test/ApplyLipstick/v_ApplyLipstick_g14_c01.avi',\n",
              " '/content/UCF101_subset/test/ApplyLipstick/v_ApplyLipstick_g16_c04.avi',\n",
              " '/content/UCF101_subset/test/ApplyLipstick/v_ApplyLipstick_g14_c03.avi',\n",
              " '/content/UCF101_subset/test/ApplyLipstick/v_ApplyLipstick_g16_c02.avi',\n",
              " '/content/UCF101_subset/test/BandMarching/v_BandMarching_g22_c04.avi',\n",
              " '/content/UCF101_subset/test/BandMarching/v_BandMarching_g11_c03.avi',\n",
              " '/content/UCF101_subset/test/BandMarching/v_BandMarching_g22_c02.avi',\n",
              " '/content/UCF101_subset/test/BandMarching/v_BandMarching_g05_c06.avi',\n",
              " '/content/UCF101_subset/test/BandMarching/v_BandMarching_g11_c05.avi',\n",
              " '/content/UCF101_subset/test/BandMarching/v_BandMarching_g11_c07.avi',\n",
              " '/content/UCF101_subset/test/BandMarching/v_BandMarching_g05_c04.avi',\n",
              " '/content/UCF101_subset/test/BandMarching/v_BandMarching_g11_c01.avi',\n",
              " '/content/UCF101_subset/test/BandMarching/v_BandMarching_g05_c02.avi',\n",
              " '/content/UCF101_subset/test/BasketballDunk/v_BasketballDunk_g12_c03.avi',\n",
              " '/content/UCF101_subset/test/BasketballDunk/v_BasketballDunk_g12_c01.avi',\n",
              " '/content/UCF101_subset/test/BasketballDunk/v_BasketballDunk_g14_c02.avi',\n",
              " '/content/UCF101_subset/test/BasketballDunk/v_BasketballDunk_g12_c05.avi',\n",
              " '/content/UCF101_subset/test/BasketballDunk/v_BasketballDunk_g14_c06.avi',\n",
              " '/content/UCF101_subset/test/BasketballDunk/v_BasketballDunk_g14_c04.avi',\n",
              " '/content/UCF101_subset/test/Archery/v_Archery_g16_c03.avi',\n",
              " '/content/UCF101_subset/test/Archery/v_Archery_g17_c04.avi',\n",
              " '/content/UCF101_subset/test/Archery/v_Archery_g17_c02.avi',\n",
              " '/content/UCF101_subset/test/Archery/v_Archery_g21_c04.avi',\n",
              " '/content/UCF101_subset/test/Archery/v_Archery_g21_c02.avi',\n",
              " '/content/UCF101_subset/test/Archery/v_Archery_g16_c05.avi',\n",
              " '/content/UCF101_subset/test/Archery/v_Archery_g16_c01.avi',\n",
              " '/content/UCF101_subset/test/Basketball/v_Basketball_g24_c04.avi',\n",
              " '/content/UCF101_subset/test/Basketball/v_Basketball_g02_c02.avi',\n",
              " '/content/UCF101_subset/test/Basketball/v_Basketball_g02_c04.avi',\n",
              " '/content/UCF101_subset/test/Basketball/v_Basketball_g18_c02.avi',\n",
              " '/content/UCF101_subset/test/Basketball/v_Basketball_g18_c04.avi',\n",
              " '/content/UCF101_subset/test/Basketball/v_Basketball_g06_c04.avi',\n",
              " '/content/UCF101_subset/test/Basketball/v_Basketball_g05_c04.avi',\n",
              " '/content/UCF101_subset/test/Basketball/v_Basketball_g24_c02.avi',\n",
              " '/content/UCF101_subset/test/Basketball/v_Basketball_g05_c02.avi',\n",
              " '/content/UCF101_subset/test/Basketball/v_Basketball_g06_c02.avi',\n",
              " '/content/UCF101_subset/test/Basketball/v_Basketball_g02_c06.avi',\n",
              " '/content/UCF101_subset/test/BalanceBeam/v_BalanceBeam_g20_c01.avi',\n",
              " '/content/UCF101_subset/test/BalanceBeam/v_BalanceBeam_g20_c03.avi',\n",
              " '/content/UCF101_subset/test/BalanceBeam/v_BalanceBeam_g11_c02.avi',\n",
              " '/content/UCF101_subset/test/BalanceBeam/v_BalanceBeam_g11_c04.avi',\n",
              " '/content/UCF101_subset/test/BaseballPitch/v_BaseballPitch_g22_c02.avi',\n",
              " '/content/UCF101_subset/test/BaseballPitch/v_BaseballPitch_g22_c04.avi',\n",
              " '/content/UCF101_subset/test/BaseballPitch/v_BaseballPitch_g20_c04.avi',\n",
              " '/content/UCF101_subset/test/BaseballPitch/v_BaseballPitch_g24_c02.avi',\n",
              " '/content/UCF101_subset/test/BaseballPitch/v_BaseballPitch_g22_c06.avi',\n",
              " '/content/UCF101_subset/test/BaseballPitch/v_BaseballPitch_g11_c02.avi',\n",
              " '/content/UCF101_subset/test/BaseballPitch/v_BaseballPitch_g24_c04.avi',\n",
              " '/content/UCF101_subset/test/BaseballPitch/v_BaseballPitch_g24_c06.avi',\n",
              " '/content/UCF101_subset/test/BaseballPitch/v_BaseballPitch_g11_c04.avi',\n",
              " '/content/UCF101_subset/test/BaseballPitch/v_BaseballPitch_g20_c02.avi',\n",
              " '/content/UCF101_subset/test/BabyCrawling/v_BabyCrawling_g22_c06.avi',\n",
              " '/content/UCF101_subset/test/BabyCrawling/v_BabyCrawling_g22_c02.avi',\n",
              " '/content/UCF101_subset/test/BabyCrawling/v_BabyCrawling_g03_c03.avi',\n",
              " '/content/UCF101_subset/test/BabyCrawling/v_BabyCrawling_g19_c02.avi',\n",
              " '/content/UCF101_subset/test/BabyCrawling/v_BabyCrawling_g22_c04.avi',\n",
              " '/content/UCF101_subset/test/BabyCrawling/v_BabyCrawling_g19_c04.avi',\n",
              " '/content/UCF101_subset/test/BabyCrawling/v_BabyCrawling_g04_c01.avi',\n",
              " '/content/UCF101_subset/test/BabyCrawling/v_BabyCrawling_g03_c01.avi',\n",
              " '/content/UCF101_subset/test/BabyCrawling/v_BabyCrawling_g04_c03.avi',\n",
              " '/content/UCF101_subset/test/BenchPress/v_BenchPress_g25_c04.avi',\n",
              " '/content/UCF101_subset/test/BenchPress/v_BenchPress_g09_c04.avi',\n",
              " '/content/UCF101_subset/test/BenchPress/v_BenchPress_g05_c02.avi',\n",
              " '/content/UCF101_subset/test/BenchPress/v_BenchPress_g25_c06.avi',\n",
              " '/content/UCF101_subset/test/BenchPress/v_BenchPress_g05_c04.avi',\n",
              " '/content/UCF101_subset/test/BenchPress/v_BenchPress_g09_c02.avi',\n",
              " '/content/UCF101_subset/test/BenchPress/v_BenchPress_g25_c02.avi',\n",
              " '/content/UCF101_subset/test/BenchPress/v_BenchPress_g09_c06.avi',\n",
              " '/content/UCF101_subset/test/BenchPress/v_BenchPress_g05_c06.avi',\n",
              " '/content/UCF101_subset/test/ApplyEyeMakeup/v_ApplyEyeMakeup_g03_c05.avi',\n",
              " '/content/UCF101_subset/test/ApplyEyeMakeup/v_ApplyEyeMakeup_g23_c04.avi',\n",
              " '/content/UCF101_subset/test/ApplyEyeMakeup/v_ApplyEyeMakeup_g23_c02.avi',\n",
              " '/content/UCF101_subset/test/ApplyEyeMakeup/v_ApplyEyeMakeup_g03_c03.avi',\n",
              " '/content/UCF101_subset/test/ApplyEyeMakeup/v_ApplyEyeMakeup_g23_c06.avi',\n",
              " '/content/UCF101_subset/test/ApplyEyeMakeup/v_ApplyEyeMakeup_g03_c01.avi',\n",
              " '/content/UCF101_subset/train/ApplyLipstick/v_ApplyLipstick_g01_c02.avi',\n",
              " '/content/UCF101_subset/train/ApplyLipstick/v_ApplyLipstick_g18_c04.avi',\n",
              " '/content/UCF101_subset/train/ApplyLipstick/v_ApplyLipstick_g07_c02.avi',\n",
              " '/content/UCF101_subset/train/ApplyLipstick/v_ApplyLipstick_g23_c03.avi',\n",
              " '/content/UCF101_subset/train/ApplyLipstick/v_ApplyLipstick_g21_c01.avi',\n",
              " '/content/UCF101_subset/train/ApplyLipstick/v_ApplyLipstick_g17_c01.avi',\n",
              " '/content/UCF101_subset/train/ApplyLipstick/v_ApplyLipstick_g21_c03.avi',\n",
              " '/content/UCF101_subset/train/ApplyLipstick/v_ApplyLipstick_g17_c03.avi',\n",
              " '/content/UCF101_subset/train/ApplyLipstick/v_ApplyLipstick_g19_c02.avi',\n",
              " '/content/UCF101_subset/train/ApplyLipstick/v_ApplyLipstick_g22_c02.avi',\n",
              " '/content/UCF101_subset/train/ApplyLipstick/v_ApplyLipstick_g04_c01.avi',\n",
              " '/content/UCF101_subset/train/ApplyLipstick/v_ApplyLipstick_g08_c02.avi',\n",
              " '/content/UCF101_subset/train/ApplyLipstick/v_ApplyLipstick_g02_c01.avi',\n",
              " '/content/UCF101_subset/train/ApplyLipstick/v_ApplyLipstick_g05_c02.avi',\n",
              " '/content/UCF101_subset/train/ApplyLipstick/v_ApplyLipstick_g12_c04.avi',\n",
              " '/content/UCF101_subset/train/ApplyLipstick/v_ApplyLipstick_g02_c03.avi',\n",
              " '/content/UCF101_subset/train/ApplyLipstick/v_ApplyLipstick_g22_c06.avi',\n",
              " '/content/UCF101_subset/train/ApplyLipstick/v_ApplyLipstick_g15_c03.avi',\n",
              " '/content/UCF101_subset/train/ApplyLipstick/v_ApplyLipstick_g22_c04.avi',\n",
              " '/content/UCF101_subset/train/ApplyLipstick/v_ApplyLipstick_g11_c04.avi',\n",
              " '/content/UCF101_subset/train/ApplyLipstick/v_ApplyLipstick_g01_c04.avi',\n",
              " '/content/UCF101_subset/train/ApplyLipstick/v_ApplyLipstick_g06_c03.avi',\n",
              " '/content/UCF101_subset/train/ApplyLipstick/v_ApplyLipstick_g24_c05.avi',\n",
              " '/content/UCF101_subset/train/ApplyLipstick/v_ApplyLipstick_g04_c05.avi',\n",
              " '/content/UCF101_subset/train/ApplyLipstick/v_ApplyLipstick_g03_c01.avi',\n",
              " '/content/UCF101_subset/train/ApplyLipstick/v_ApplyLipstick_g18_c02.avi',\n",
              " '/content/UCF101_subset/train/ApplyLipstick/v_ApplyLipstick_g13_c03.avi',\n",
              " '/content/UCF101_subset/train/ApplyLipstick/v_ApplyLipstick_g03_c03.avi',\n",
              " '/content/UCF101_subset/train/ApplyLipstick/v_ApplyLipstick_g09_c04.avi',\n",
              " '/content/UCF101_subset/train/ApplyLipstick/v_ApplyLipstick_g19_c04.avi',\n",
              " '/content/UCF101_subset/train/BandMarching/v_BandMarching_g14_c05.avi',\n",
              " '/content/UCF101_subset/train/BandMarching/v_BandMarching_g18_c03.avi',\n",
              " '/content/UCF101_subset/train/BandMarching/v_BandMarching_g03_c01.avi',\n",
              " '/content/UCF101_subset/train/BandMarching/v_BandMarching_g10_c06.avi',\n",
              " '/content/UCF101_subset/train/BandMarching/v_BandMarching_g04_c02.avi',\n",
              " '/content/UCF101_subset/train/BandMarching/v_BandMarching_g09_c07.avi',\n",
              " '/content/UCF101_subset/train/BandMarching/v_BandMarching_g08_c02.avi',\n",
              " '/content/UCF101_subset/train/BandMarching/v_BandMarching_g07_c05.avi',\n",
              " '/content/UCF101_subset/train/BandMarching/v_BandMarching_g16_c06.avi',\n",
              " '/content/UCF101_subset/train/BandMarching/v_BandMarching_g12_c02.avi',\n",
              " '/content/UCF101_subset/train/BandMarching/v_BandMarching_g02_c06.avi',\n",
              " '/content/UCF101_subset/train/BandMarching/v_BandMarching_g07_c07.avi',\n",
              " '/content/UCF101_subset/train/BandMarching/v_BandMarching_g01_c01.avi',\n",
              " '/content/UCF101_subset/train/BandMarching/v_BandMarching_g09_c03.avi',\n",
              " '/content/UCF101_subset/train/BandMarching/v_BandMarching_g21_c06.avi',\n",
              " '/content/UCF101_subset/train/BandMarching/v_BandMarching_g15_c05.avi',\n",
              " '/content/UCF101_subset/train/BandMarching/v_BandMarching_g21_c02.avi',\n",
              " '/content/UCF101_subset/train/BandMarching/v_BandMarching_g25_c05.avi',\n",
              " '/content/UCF101_subset/train/BandMarching/v_BandMarching_g19_c05.avi',\n",
              " '/content/UCF101_subset/train/BandMarching/v_BandMarching_g04_c04.avi',\n",
              " '/content/UCF101_subset/train/BandMarching/v_BandMarching_g06_c01.avi',\n",
              " '/content/UCF101_subset/train/BandMarching/v_BandMarching_g03_c03.avi',\n",
              " '/content/UCF101_subset/train/BandMarching/v_BandMarching_g02_c02.avi',\n",
              " '/content/UCF101_subset/train/BandMarching/v_BandMarching_g07_c03.avi',\n",
              " '/content/UCF101_subset/train/BandMarching/v_BandMarching_g25_c07.avi',\n",
              " '/content/UCF101_subset/train/BandMarching/v_BandMarching_g24_c01.avi',\n",
              " '/content/UCF101_subset/train/BandMarching/v_BandMarching_g03_c05.avi',\n",
              " '/content/UCF101_subset/train/BandMarching/v_BandMarching_g10_c02.avi',\n",
              " '/content/UCF101_subset/train/BandMarching/v_BandMarching_g19_c03.avi',\n",
              " '/content/UCF101_subset/train/BandMarching/v_BandMarching_g13_c04.avi',\n",
              " '/content/UCF101_subset/train/BasketballDunk/v_BasketballDunk_g20_c05.avi',\n",
              " '/content/UCF101_subset/train/BasketballDunk/v_BasketballDunk_g17_c02.avi',\n",
              " '/content/UCF101_subset/train/BasketballDunk/v_BasketballDunk_g08_c05.avi',\n",
              " '/content/UCF101_subset/train/BasketballDunk/v_BasketballDunk_g06_c01.avi',\n",
              " '/content/UCF101_subset/train/BasketballDunk/v_BasketballDunk_g13_c02.avi',\n",
              " '/content/UCF101_subset/train/BasketballDunk/v_BasketballDunk_g19_c03.avi',\n",
              " '/content/UCF101_subset/train/BasketballDunk/v_BasketballDunk_g25_c01.avi',\n",
              " '/content/UCF101_subset/train/BasketballDunk/v_BasketballDunk_g02_c03.avi',\n",
              " '/content/UCF101_subset/train/BasketballDunk/v_BasketballDunk_g15_c03.avi',\n",
              " '/content/UCF101_subset/train/BasketballDunk/v_BasketballDunk_g01_c02.avi',\n",
              " '/content/UCF101_subset/train/BasketballDunk/v_BasketballDunk_g16_c04.avi',\n",
              " '/content/UCF101_subset/train/BasketballDunk/v_BasketballDunk_g24_c04.avi',\n",
              " '/content/UCF101_subset/train/BasketballDunk/v_BasketballDunk_g07_c03.avi',\n",
              " '/content/UCF101_subset/train/BasketballDunk/v_BasketballDunk_g23_c01.avi',\n",
              " '/content/UCF101_subset/train/BasketballDunk/v_BasketballDunk_g23_c05.avi',\n",
              " '/content/UCF101_subset/train/BasketballDunk/v_BasketballDunk_g11_c04.avi',\n",
              " '/content/UCF101_subset/train/BasketballDunk/v_BasketballDunk_g09_c02.avi',\n",
              " '/content/UCF101_subset/train/BasketballDunk/v_BasketballDunk_g04_c01.avi',\n",
              " '/content/UCF101_subset/train/BasketballDunk/v_BasketballDunk_g03_c03.avi',\n",
              " '/content/UCF101_subset/train/BasketballDunk/v_BasketballDunk_g16_c02.avi',\n",
              " '/content/UCF101_subset/train/BasketballDunk/v_BasketballDunk_g21_c03.avi',\n",
              " '/content/UCF101_subset/train/BasketballDunk/v_BasketballDunk_g15_c05.avi',\n",
              " '/content/UCF101_subset/train/BasketballDunk/v_BasketballDunk_g10_c01.avi',\n",
              " '/content/UCF101_subset/train/BasketballDunk/v_BasketballDunk_g01_c04.avi',\n",
              " '/content/UCF101_subset/train/BasketballDunk/v_BasketballDunk_g07_c05.avi',\n",
              " '/content/UCF101_subset/train/BasketballDunk/v_BasketballDunk_g21_c01.avi',\n",
              " '/content/UCF101_subset/train/BasketballDunk/v_BasketballDunk_g18_c05.avi',\n",
              " '/content/UCF101_subset/train/BasketballDunk/v_BasketballDunk_g22_c03.avi',\n",
              " '/content/UCF101_subset/train/BasketballDunk/v_BasketballDunk_g15_c01.avi',\n",
              " '/content/UCF101_subset/train/BasketballDunk/v_BasketballDunk_g16_c06.avi',\n",
              " '/content/UCF101_subset/train/Archery/v_Archery_g24_c06.avi',\n",
              " '/content/UCF101_subset/train/Archery/v_Archery_g09_c02.avi',\n",
              " '/content/UCF101_subset/train/Archery/v_Archery_g04_c03.avi',\n",
              " '/content/UCF101_subset/train/Archery/v_Archery_g08_c01.avi',\n",
              " '/content/UCF101_subset/train/Archery/v_Archery_g11_c06.avi',\n",
              " '/content/UCF101_subset/train/Archery/v_Archery_g14_c04.avi',\n",
              " '/content/UCF101_subset/train/Archery/v_Archery_g07_c05.avi',\n",
              " '/content/UCF101_subset/train/Archery/v_Archery_g24_c04.avi',\n",
              " '/content/UCF101_subset/train/Archery/v_Archery_g13_c03.avi',\n",
              " '/content/UCF101_subset/train/Archery/v_Archery_g04_c01.avi',\n",
              " '/content/UCF101_subset/train/Archery/v_Archery_g06_c03.avi',\n",
              " '/content/UCF101_subset/train/Archery/v_Archery_g06_c05.avi',\n",
              " '/content/UCF101_subset/train/Archery/v_Archery_g07_c01.avi',\n",
              " '/content/UCF101_subset/train/Archery/v_Archery_g06_c01.avi',\n",
              " '/content/UCF101_subset/train/Archery/v_Archery_g10_c05.avi',\n",
              " '/content/UCF101_subset/train/Archery/v_Archery_g22_c02.avi',\n",
              " '/content/UCF101_subset/train/Archery/v_Archery_g02_c05.avi',\n",
              " '/content/UCF101_subset/train/Archery/v_Archery_g03_c02.avi',\n",
              " '/content/UCF101_subset/train/Archery/v_Archery_g02_c01.avi',\n",
              " '/content/UCF101_subset/train/Archery/v_Archery_g23_c05.avi',\n",
              " '/content/UCF101_subset/train/Archery/v_Archery_g15_c02.avi',\n",
              " '/content/UCF101_subset/train/Archery/v_Archery_g05_c04.avi',\n",
              " '/content/UCF101_subset/train/Archery/v_Archery_g11_c04.avi',\n",
              " '/content/UCF101_subset/train/Archery/v_Archery_g13_c07.avi',\n",
              " '/content/UCF101_subset/train/Archery/v_Archery_g10_c03.avi',\n",
              " '/content/UCF101_subset/train/Archery/v_Archery_g01_c04.avi',\n",
              " '/content/UCF101_subset/train/Archery/v_Archery_g20_c05.avi',\n",
              " '/content/UCF101_subset/train/Archery/v_Archery_g19_c03.avi',\n",
              " '/content/UCF101_subset/train/Archery/v_Archery_g25_c04.avi',\n",
              " '/content/UCF101_subset/train/Archery/v_Archery_g22_c04.avi',\n",
              " '/content/UCF101_subset/train/Basketball/v_Basketball_g13_c04.avi',\n",
              " '/content/UCF101_subset/train/Basketball/v_Basketball_g03_c04.avi',\n",
              " '/content/UCF101_subset/train/Basketball/v_Basketball_g23_c06.avi',\n",
              " '/content/UCF101_subset/train/Basketball/v_Basketball_g21_c03.avi',\n",
              " '/content/UCF101_subset/train/Basketball/v_Basketball_g08_c04.avi',\n",
              " '/content/UCF101_subset/train/Basketball/v_Basketball_g04_c04.avi',\n",
              " '/content/UCF101_subset/train/Basketball/v_Basketball_g16_c06.avi',\n",
              " '/content/UCF101_subset/train/Basketball/v_Basketball_g13_c02.avi',\n",
              " '/content/UCF101_subset/train/Basketball/v_Basketball_g12_c01.avi',\n",
              " '/content/UCF101_subset/train/Basketball/v_Basketball_g25_c02.avi',\n",
              " '/content/UCF101_subset/train/Basketball/v_Basketball_g01_c03.avi',\n",
              " '/content/UCF101_subset/train/Basketball/v_Basketball_g03_c06.avi',\n",
              " '/content/UCF101_subset/train/Basketball/v_Basketball_g09_c02.avi',\n",
              " '/content/UCF101_subset/train/Basketball/v_Basketball_g14_c04.avi',\n",
              " '/content/UCF101_subset/train/Basketball/v_Basketball_g07_c02.avi',\n",
              " '/content/UCF101_subset/train/Basketball/v_Basketball_g01_c01.avi',\n",
              " '/content/UCF101_subset/train/Basketball/v_Basketball_g22_c05.avi',\n",
              " '/content/UCF101_subset/train/Basketball/v_Basketball_g01_c07.avi',\n",
              " '/content/UCF101_subset/train/Basketball/v_Basketball_g16_c02.avi',\n",
              " '/content/UCF101_subset/train/Basketball/v_Basketball_g14_c02.avi',\n",
              " '/content/UCF101_subset/train/Basketball/v_Basketball_g11_c02.avi',\n",
              " '/content/UCF101_subset/train/Basketball/v_Basketball_g09_c04.avi',\n",
              " '/content/UCF101_subset/train/Basketball/v_Basketball_g19_c07.avi',\n",
              " '/content/UCF101_subset/train/Basketball/v_Basketball_g15_c01.avi',\n",
              " '/content/UCF101_subset/train/Basketball/v_Basketball_g17_c04.avi',\n",
              " '/content/UCF101_subset/train/Basketball/v_Basketball_g23_c04.avi',\n",
              " '/content/UCF101_subset/train/Basketball/v_Basketball_g01_c05.avi',\n",
              " '/content/UCF101_subset/train/Basketball/v_Basketball_g04_c02.avi',\n",
              " '/content/UCF101_subset/train/Basketball/v_Basketball_g15_c07.avi',\n",
              " '/content/UCF101_subset/train/Basketball/v_Basketball_g19_c05.avi',\n",
              " '/content/UCF101_subset/train/BalanceBeam/v_BalanceBeam_g19_c01.avi',\n",
              " '/content/UCF101_subset/train/BalanceBeam/v_BalanceBeam_g06_c05.avi',\n",
              " '/content/UCF101_subset/train/BalanceBeam/v_BalanceBeam_g10_c02.avi',\n",
              " '/content/UCF101_subset/train/BalanceBeam/v_BalanceBeam_g12_c04.avi',\n",
              " '/content/UCF101_subset/train/BalanceBeam/v_BalanceBeam_g23_c04.avi',\n",
              " '/content/UCF101_subset/train/BalanceBeam/v_BalanceBeam_g21_c03.avi',\n",
              " '/content/UCF101_subset/train/BalanceBeam/v_BalanceBeam_g24_c03.avi',\n",
              " '/content/UCF101_subset/train/BalanceBeam/v_BalanceBeam_g06_c03.avi',\n",
              " '/content/UCF101_subset/train/BalanceBeam/v_BalanceBeam_g05_c01.avi',\n",
              " '/content/UCF101_subset/train/BalanceBeam/v_BalanceBeam_g07_c02.avi',\n",
              " '/content/UCF101_subset/train/BalanceBeam/v_BalanceBeam_g08_c04.avi',\n",
              " '/content/UCF101_subset/train/BalanceBeam/v_BalanceBeam_g14_c01.avi',\n",
              " '/content/UCF101_subset/train/BalanceBeam/v_BalanceBeam_g09_c02.avi',\n",
              " '/content/UCF101_subset/train/BalanceBeam/v_BalanceBeam_g01_c03.avi',\n",
              " '/content/UCF101_subset/train/BalanceBeam/v_BalanceBeam_g03_c03.avi',\n",
              " '/content/UCF101_subset/train/BalanceBeam/v_BalanceBeam_g18_c03.avi',\n",
              " '/content/UCF101_subset/train/BalanceBeam/v_BalanceBeam_g02_c03.avi',\n",
              " '/content/UCF101_subset/train/BalanceBeam/v_BalanceBeam_g05_c03.avi',\n",
              " '/content/UCF101_subset/train/BalanceBeam/v_BalanceBeam_g15_c03.avi',\n",
              " '/content/UCF101_subset/train/BalanceBeam/v_BalanceBeam_g08_c02.avi',\n",
              " '/content/UCF101_subset/train/BalanceBeam/v_BalanceBeam_g04_c01.avi',\n",
              " '/content/UCF101_subset/train/BalanceBeam/v_BalanceBeam_g21_c05.avi',\n",
              " '/content/UCF101_subset/train/BalanceBeam/v_BalanceBeam_g14_c03.avi',\n",
              " '/content/UCF101_subset/train/BalanceBeam/v_BalanceBeam_g03_c01.avi',\n",
              " '/content/UCF101_subset/train/BalanceBeam/v_BalanceBeam_g06_c01.avi',\n",
              " '/content/UCF101_subset/train/BalanceBeam/v_BalanceBeam_g04_c03.avi',\n",
              " '/content/UCF101_subset/train/BalanceBeam/v_BalanceBeam_g19_c03.avi',\n",
              " '/content/UCF101_subset/train/BalanceBeam/v_BalanceBeam_g17_c01.avi',\n",
              " '/content/UCF101_subset/train/BalanceBeam/v_BalanceBeam_g10_c04.avi',\n",
              " '/content/UCF101_subset/train/BalanceBeam/v_BalanceBeam_g25_c01.avi',\n",
              " '/content/UCF101_subset/train/BaseballPitch/v_BaseballPitch_g15_c06.avi',\n",
              " '/content/UCF101_subset/train/BaseballPitch/v_BaseballPitch_g19_c05.avi',\n",
              " '/content/UCF101_subset/train/BaseballPitch/v_BaseballPitch_g06_c07.avi',\n",
              " '/content/UCF101_subset/train/BaseballPitch/v_BaseballPitch_g04_c01.avi',\n",
              " '/content/UCF101_subset/train/BaseballPitch/v_BaseballPitch_g23_c01.avi',\n",
              " '/content/UCF101_subset/train/BaseballPitch/v_BaseballPitch_g14_c04.avi',\n",
              " '/content/UCF101_subset/train/BaseballPitch/v_BaseballPitch_g08_c05.avi',\n",
              " '/content/UCF101_subset/train/BaseballPitch/v_BaseballPitch_g03_c02.avi',\n",
              " '/content/UCF101_subset/train/BaseballPitch/v_BaseballPitch_g18_c06.avi',\n",
              " '/content/UCF101_subset/train/BaseballPitch/v_BaseballPitch_g13_c07.avi',\n",
              " '/content/UCF101_subset/train/BaseballPitch/v_BaseballPitch_g10_c03.avi',\n",
              " '/content/UCF101_subset/train/BaseballPitch/v_BaseballPitch_g18_c04.avi',\n",
              " '/content/UCF101_subset/train/BaseballPitch/v_BaseballPitch_g25_c01.avi',\n",
              " '/content/UCF101_subset/train/BaseballPitch/v_BaseballPitch_g17_c05.avi',\n",
              " '/content/UCF101_subset/train/BaseballPitch/v_BaseballPitch_g13_c05.avi',\n",
              " '/content/UCF101_subset/train/BaseballPitch/v_BaseballPitch_g21_c02.avi',\n",
              " '/content/UCF101_subset/train/BaseballPitch/v_BaseballPitch_g08_c01.avi',\n",
              " '/content/UCF101_subset/train/BaseballPitch/v_BaseballPitch_g13_c03.avi',\n",
              " '/content/UCF101_subset/train/BaseballPitch/v_BaseballPitch_g05_c06.avi',\n",
              " '/content/UCF101_subset/train/BaseballPitch/v_BaseballPitch_g02_c02.avi',\n",
              " '/content/UCF101_subset/train/BaseballPitch/v_BaseballPitch_g02_c04.avi',\n",
              " '/content/UCF101_subset/train/BaseballPitch/v_BaseballPitch_g19_c03.avi',\n",
              " '/content/UCF101_subset/train/BaseballPitch/v_BaseballPitch_g16_c03.avi',\n",
              " '/content/UCF101_subset/train/BaseballPitch/v_BaseballPitch_g23_c03.avi',\n",
              " '/content/UCF101_subset/train/BaseballPitch/v_BaseballPitch_g14_c02.avi',\n",
              " '/content/UCF101_subset/train/BaseballPitch/v_BaseballPitch_g01_c02.avi',\n",
              " '/content/UCF101_subset/train/BaseballPitch/v_BaseballPitch_g08_c07.avi',\n",
              " '/content/UCF101_subset/train/BaseballPitch/v_BaseballPitch_g01_c04.avi',\n",
              " '/content/UCF101_subset/train/BaseballPitch/v_BaseballPitch_g03_c04.avi',\n",
              " '/content/UCF101_subset/train/BaseballPitch/v_BaseballPitch_g06_c05.avi',\n",
              " '/content/UCF101_subset/train/BabyCrawling/v_BabyCrawling_g25_c01.avi',\n",
              " '/content/UCF101_subset/train/BabyCrawling/v_BabyCrawling_g17_c01.avi',\n",
              " '/content/UCF101_subset/train/BabyCrawling/v_BabyCrawling_g06_c04.avi',\n",
              " '/content/UCF101_subset/train/BabyCrawling/v_BabyCrawling_g23_c01.avi',\n",
              " '/content/UCF101_subset/train/BabyCrawling/v_BabyCrawling_g15_c01.avi',\n",
              " '/content/UCF101_subset/train/BabyCrawling/v_BabyCrawling_g14_c01.avi',\n",
              " '/content/UCF101_subset/train/BabyCrawling/v_BabyCrawling_g12_c03.avi',\n",
              " '/content/UCF101_subset/train/BabyCrawling/v_BabyCrawling_g11_c01.avi',\n",
              " '/content/UCF101_subset/train/BabyCrawling/v_BabyCrawling_g20_c05.avi',\n",
              " '/content/UCF101_subset/train/BabyCrawling/v_BabyCrawling_g10_c04.avi',\n",
              " '/content/UCF101_subset/train/BabyCrawling/v_BabyCrawling_g18_c02.avi',\n",
              " '/content/UCF101_subset/train/BabyCrawling/v_BabyCrawling_g16_c05.avi',\n",
              " '/content/UCF101_subset/train/BabyCrawling/v_BabyCrawling_g07_c02.avi',\n",
              " '/content/UCF101_subset/train/BabyCrawling/v_BabyCrawling_g02_c05.avi',\n",
              " '/content/UCF101_subset/train/BabyCrawling/v_BabyCrawling_g02_c03.avi',\n",
              " '/content/UCF101_subset/train/BabyCrawling/v_BabyCrawling_g15_c05.avi',\n",
              " '/content/UCF101_subset/train/BabyCrawling/v_BabyCrawling_g15_c03.avi',\n",
              " '/content/UCF101_subset/train/BabyCrawling/v_BabyCrawling_g11_c03.avi',\n",
              " '/content/UCF101_subset/train/BabyCrawling/v_BabyCrawling_g05_c01.avi',\n",
              " '/content/UCF101_subset/train/BabyCrawling/v_BabyCrawling_g08_c04.avi',\n",
              " '/content/UCF101_subset/train/BabyCrawling/v_BabyCrawling_g20_c07.avi',\n",
              " '/content/UCF101_subset/train/BabyCrawling/v_BabyCrawling_g17_c05.avi',\n",
              " '/content/UCF101_subset/train/BabyCrawling/v_BabyCrawling_g01_c03.avi',\n",
              " '/content/UCF101_subset/train/BabyCrawling/v_BabyCrawling_g14_c03.avi',\n",
              " '/content/UCF101_subset/train/BabyCrawling/v_BabyCrawling_g07_c06.avi',\n",
              " '/content/UCF101_subset/train/BabyCrawling/v_BabyCrawling_g20_c03.avi',\n",
              " '/content/UCF101_subset/train/BabyCrawling/v_BabyCrawling_g24_c05.avi',\n",
              " '/content/UCF101_subset/train/BabyCrawling/v_BabyCrawling_g24_c01.avi',\n",
              " '/content/UCF101_subset/train/BabyCrawling/v_BabyCrawling_g02_c01.avi',\n",
              " '/content/UCF101_subset/train/BabyCrawling/v_BabyCrawling_g08_c02.avi',\n",
              " '/content/UCF101_subset/train/BenchPress/v_BenchPress_g24_c05.avi',\n",
              " '/content/UCF101_subset/train/BenchPress/v_BenchPress_g12_c06.avi',\n",
              " '/content/UCF101_subset/train/BenchPress/v_BenchPress_g10_c03.avi',\n",
              " '/content/UCF101_subset/train/BenchPress/v_BenchPress_g06_c01.avi',\n",
              " '/content/UCF101_subset/train/BenchPress/v_BenchPress_g22_c01.avi',\n",
              " '/content/UCF101_subset/train/BenchPress/v_BenchPress_g02_c01.avi',\n",
              " '/content/UCF101_subset/train/BenchPress/v_BenchPress_g06_c05.avi',\n",
              " '/content/UCF101_subset/train/BenchPress/v_BenchPress_g07_c04.avi',\n",
              " '/content/UCF101_subset/train/BenchPress/v_BenchPress_g13_c05.avi',\n",
              " '/content/UCF101_subset/train/BenchPress/v_BenchPress_g03_c04.avi',\n",
              " '/content/UCF101_subset/train/BenchPress/v_BenchPress_g03_c02.avi',\n",
              " '/content/UCF101_subset/train/BenchPress/v_BenchPress_g13_c01.avi',\n",
              " '/content/UCF101_subset/train/BenchPress/v_BenchPress_g13_c07.avi',\n",
              " '/content/UCF101_subset/train/BenchPress/v_BenchPress_g20_c04.avi',\n",
              " '/content/UCF101_subset/train/BenchPress/v_BenchPress_g18_c03.avi',\n",
              " '/content/UCF101_subset/train/BenchPress/v_BenchPress_g07_c02.avi',\n",
              " '/content/UCF101_subset/train/BenchPress/v_BenchPress_g21_c03.avi',\n",
              " '/content/UCF101_subset/train/BenchPress/v_BenchPress_g19_c06.avi',\n",
              " '/content/UCF101_subset/train/BenchPress/v_BenchPress_g23_c02.avi',\n",
              " '/content/UCF101_subset/train/BenchPress/v_BenchPress_g21_c01.avi',\n",
              " '/content/UCF101_subset/train/BenchPress/v_BenchPress_g14_c02.avi',\n",
              " '/content/UCF101_subset/train/BenchPress/v_BenchPress_g02_c03.avi',\n",
              " '/content/UCF101_subset/train/BenchPress/v_BenchPress_g04_c01.avi',\n",
              " '/content/UCF101_subset/train/BenchPress/v_BenchPress_g15_c05.avi',\n",
              " '/content/UCF101_subset/train/BenchPress/v_BenchPress_g04_c05.avi',\n",
              " '/content/UCF101_subset/train/BenchPress/v_BenchPress_g03_c06.avi',\n",
              " '/content/UCF101_subset/train/BenchPress/v_BenchPress_g22_c03.avi',\n",
              " '/content/UCF101_subset/train/BenchPress/v_BenchPress_g16_c05.avi',\n",
              " '/content/UCF101_subset/train/BenchPress/v_BenchPress_g01_c05.avi',\n",
              " '/content/UCF101_subset/train/BenchPress/v_BenchPress_g08_c05.avi',\n",
              " '/content/UCF101_subset/train/ApplyEyeMakeup/v_ApplyEyeMakeup_g11_c04.avi',\n",
              " '/content/UCF101_subset/train/ApplyEyeMakeup/v_ApplyEyeMakeup_g22_c01.avi',\n",
              " '/content/UCF101_subset/train/ApplyEyeMakeup/v_ApplyEyeMakeup_g21_c04.avi',\n",
              " '/content/UCF101_subset/train/ApplyEyeMakeup/v_ApplyEyeMakeup_g05_c02.avi',\n",
              " '/content/UCF101_subset/train/ApplyEyeMakeup/v_ApplyEyeMakeup_g18_c03.avi',\n",
              " '/content/UCF101_subset/train/ApplyEyeMakeup/v_ApplyEyeMakeup_g25_c05.avi',\n",
              " '/content/UCF101_subset/train/ApplyEyeMakeup/v_ApplyEyeMakeup_g10_c01.avi',\n",
              " '/content/UCF101_subset/train/ApplyEyeMakeup/v_ApplyEyeMakeup_g25_c03.avi',\n",
              " '/content/UCF101_subset/train/ApplyEyeMakeup/v_ApplyEyeMakeup_g07_c06.avi',\n",
              " '/content/UCF101_subset/train/ApplyEyeMakeup/v_ApplyEyeMakeup_g16_c03.avi',\n",
              " '/content/UCF101_subset/train/ApplyEyeMakeup/v_ApplyEyeMakeup_g05_c06.avi',\n",
              " '/content/UCF101_subset/train/ApplyEyeMakeup/v_ApplyEyeMakeup_g19_c02.avi',\n",
              " '/content/UCF101_subset/train/ApplyEyeMakeup/v_ApplyEyeMakeup_g17_c04.avi',\n",
              " '/content/UCF101_subset/train/ApplyEyeMakeup/v_ApplyEyeMakeup_g15_c06.avi',\n",
              " '/content/UCF101_subset/train/ApplyEyeMakeup/v_ApplyEyeMakeup_g25_c01.avi',\n",
              " '/content/UCF101_subset/train/ApplyEyeMakeup/v_ApplyEyeMakeup_g09_c06.avi',\n",
              " '/content/UCF101_subset/train/ApplyEyeMakeup/v_ApplyEyeMakeup_g07_c04.avi',\n",
              " '/content/UCF101_subset/train/ApplyEyeMakeup/v_ApplyEyeMakeup_g10_c05.avi',\n",
              " '/content/UCF101_subset/train/ApplyEyeMakeup/v_ApplyEyeMakeup_g22_c05.avi',\n",
              " '/content/UCF101_subset/train/ApplyEyeMakeup/v_ApplyEyeMakeup_g04_c07.avi',\n",
              " '/content/UCF101_subset/train/ApplyEyeMakeup/v_ApplyEyeMakeup_g13_c05.avi',\n",
              " '/content/UCF101_subset/train/ApplyEyeMakeup/v_ApplyEyeMakeup_g18_c01.avi',\n",
              " '/content/UCF101_subset/train/ApplyEyeMakeup/v_ApplyEyeMakeup_g12_c05.avi',\n",
              " '/content/UCF101_subset/train/ApplyEyeMakeup/v_ApplyEyeMakeup_g11_c02.avi',\n",
              " '/content/UCF101_subset/train/ApplyEyeMakeup/v_ApplyEyeMakeup_g06_c03.avi',\n",
              " '/content/UCF101_subset/train/ApplyEyeMakeup/v_ApplyEyeMakeup_g25_c07.avi',\n",
              " '/content/UCF101_subset/train/ApplyEyeMakeup/v_ApplyEyeMakeup_g24_c02.avi',\n",
              " '/content/UCF101_subset/train/ApplyEyeMakeup/v_ApplyEyeMakeup_g02_c03.avi',\n",
              " '/content/UCF101_subset/train/ApplyEyeMakeup/v_ApplyEyeMakeup_g08_c01.avi',\n",
              " '/content/UCF101_subset/train/ApplyEyeMakeup/v_ApplyEyeMakeup_g09_c02.avi',\n",
              " '/content/UCF101_subset/val/ApplyLipstick/v_ApplyLipstick_g25_c02.avi',\n",
              " '/content/UCF101_subset/val/ApplyLipstick/v_ApplyLipstick_g20_c04.avi',\n",
              " '/content/UCF101_subset/val/ApplyLipstick/v_ApplyLipstick_g10_c04.avi',\n",
              " '/content/UCF101_subset/val/BandMarching/v_BandMarching_g20_c04.avi',\n",
              " '/content/UCF101_subset/val/BandMarching/v_BandMarching_g17_c01.avi',\n",
              " '/content/UCF101_subset/val/BandMarching/v_BandMarching_g23_c03.avi',\n",
              " '/content/UCF101_subset/val/BasketballDunk/v_BasketballDunk_g05_c03.avi',\n",
              " '/content/UCF101_subset/val/BasketballDunk/v_BasketballDunk_g05_c05.avi',\n",
              " '/content/UCF101_subset/val/BasketballDunk/v_BasketballDunk_g05_c01.avi',\n",
              " '/content/UCF101_subset/val/Archery/v_Archery_g18_c02.avi',\n",
              " '/content/UCF101_subset/val/Archery/v_Archery_g12_c03.avi',\n",
              " '/content/UCF101_subset/val/Archery/v_Archery_g18_c06.avi',\n",
              " '/content/UCF101_subset/val/Basketball/v_Basketball_g10_c03.avi',\n",
              " '/content/UCF101_subset/val/Basketball/v_Basketball_g20_c02.avi',\n",
              " '/content/UCF101_subset/val/Basketball/v_Basketball_g20_c04.avi',\n",
              " '/content/UCF101_subset/val/BalanceBeam/v_BalanceBeam_g16_c01.avi',\n",
              " '/content/UCF101_subset/val/BalanceBeam/v_BalanceBeam_g22_c02.avi',\n",
              " '/content/UCF101_subset/val/BalanceBeam/v_BalanceBeam_g13_c02.avi',\n",
              " '/content/UCF101_subset/val/BaseballPitch/v_BaseballPitch_g09_c02.avi',\n",
              " '/content/UCF101_subset/val/BaseballPitch/v_BaseballPitch_g12_c01.avi',\n",
              " '/content/UCF101_subset/val/BaseballPitch/v_BaseballPitch_g07_c02.avi',\n",
              " '/content/UCF101_subset/val/BabyCrawling/v_BabyCrawling_g13_c05.avi',\n",
              " '/content/UCF101_subset/val/BabyCrawling/v_BabyCrawling_g09_c06.avi',\n",
              " '/content/UCF101_subset/val/BabyCrawling/v_BabyCrawling_g21_c04.avi',\n",
              " '/content/UCF101_subset/val/BenchPress/v_BenchPress_g17_c02.avi',\n",
              " '/content/UCF101_subset/val/BenchPress/v_BenchPress_g17_c06.avi',\n",
              " '/content/UCF101_subset/val/BenchPress/v_BenchPress_g11_c05.avi',\n",
              " '/content/UCF101_subset/val/ApplyEyeMakeup/v_ApplyEyeMakeup_g20_c04.avi',\n",
              " '/content/UCF101_subset/val/ApplyEyeMakeup/v_ApplyEyeMakeup_g14_c05.avi',\n",
              " '/content/UCF101_subset/val/ApplyEyeMakeup/v_ApplyEyeMakeup_g01_c01.avi']"
            ]
          },
          "metadata": {},
          "execution_count": 8
        }
      ]
    },
    {
      "cell_type": "code",
      "execution_count": 9,
      "metadata": {
        "colab": {
          "base_uri": "https://localhost:8080/"
        },
        "id": "EotvyyVxiZ3K",
        "outputId": "72ca89c7-f64a-4bfc-eaa4-e987cbaed51f"
      },
      "outputs": [
        {
          "output_type": "stream",
          "name": "stdout",
          "text": [
            "Unique classes: ['ApplyEyeMakeup', 'ApplyLipstick', 'Archery', 'BabyCrawling', 'BalanceBeam', 'BandMarching', 'BaseballPitch', 'Basketball', 'BasketballDunk', 'BenchPress'].\n"
          ]
        }
      ],
      "source": [
        "class_labels = sorted({str(path).split(\"/\")[4] for path in all_video_file_paths})\n",
        "label2id = {label: i for i, label in enumerate(class_labels)}\n",
        "id2label = {i: label for label, i in label2id.items()}\n",
        "\n",
        "print(f\"Unique classes: {list(label2id.keys())}.\")"
      ]
    },
    {
      "cell_type": "markdown",
      "metadata": {
        "id": "ih8rj5C_iZ3L"
      },
      "source": [
        "There are 10 unique classes. For each class, there are 30 videos in the training set."
      ]
    },
    {
      "cell_type": "markdown",
      "metadata": {
        "id": "DEsCLCwkiZ3L"
      },
      "source": [
        "## Load a model to fine-tune"
      ]
    },
    {
      "cell_type": "markdown",
      "metadata": {
        "id": "USDcxTtTiZ3L"
      },
      "source": [
        "Instantiate a video classification model from a pretrained checkpoint and its associated image processor. The model's encoder comes with pre-trained parameters, and the classification head is randomly initialized. The image processor will come in handy when writing the preprocessing pipeline for our dataset."
      ]
    },
    {
      "cell_type": "code",
      "execution_count": 10,
      "metadata": {
        "colab": {
          "base_uri": "https://localhost:8080/"
        },
        "id": "sB4HAx_wiZ3M",
        "outputId": "8372f6d3-29df-4c6c-d1d2-2e2e9671a0ba"
      },
      "outputs": [
        {
          "output_type": "stream",
          "name": "stderr",
          "text": [
            "Some weights of VideoMAEForVideoClassification were not initialized from the model checkpoint at MCG-NJU/videomae-base and are newly initialized: ['classifier.bias', 'classifier.weight']\n",
            "You should probably TRAIN this model on a down-stream task to be able to use it for predictions and inference.\n"
          ]
        }
      ],
      "source": [
        "from transformers import VideoMAEImageProcessor, VideoMAEForVideoClassification\n",
        "\n",
        "model_ckpt = \"MCG-NJU/videomae-base\"\n",
        "image_processor = VideoMAEImageProcessor.from_pretrained(model_ckpt)\n",
        "model = VideoMAEForVideoClassification.from_pretrained(\n",
        "    model_ckpt,\n",
        "    label2id=label2id,\n",
        "    id2label=id2label,\n",
        "    ignore_mismatched_sizes=True,  # provide this in case you're planning to fine-tune an already fine-tuned checkpoint\n",
        ")"
      ]
    },
    {
      "cell_type": "markdown",
      "metadata": {
        "id": "qnswZe7DiZ3M"
      },
      "source": [
        "While the model is loading, you might notice the following warning:\n",
        "\n",
        "```bash\n",
        "Some weights of the model checkpoint at MCG-NJU/videomae-base were not used when initializing VideoMAEForVideoClassification: [..., 'decoder.decoder_layers.1.attention.output.dense.bias', 'decoder.decoder_layers.2.attention.attention.key.weight']\n",
        "- This IS expected if you are initializing VideoMAEForVideoClassification from the checkpoint of a model trained on another task or with another architecture (e.g. initializing a BertForSequenceClassification model from a BertForPreTraining model).\n",
        "- This IS NOT expected if you are initializing VideoMAEForVideoClassification from the checkpoint of a model that you expect to be exactly identical (initializing a BertForSequenceClassification model from a BertForSequenceClassification model).\n",
        "Some weights of VideoMAEForVideoClassification were not initialized from the model checkpoint at MCG-NJU/videomae-base and are newly initialized: ['classifier.bias', 'classifier.weight']\n",
        "You should probably TRAIN this model on a down-stream task to be able to use it for predictions and inference.\n",
        "```\n",
        "\n",
        "The warning is telling us we are throwing away some weights (e.g. the weights and bias of the `classifier` layer) and randomly initializing some others (the weights and bias of a new `classifier` layer). This is expected in this case, because we are adding a new head for which we don't have pretrained weights, so the library warns us we should fine-tune this model before using it for inference, which is exactly what we are going to do.\n",
        "\n",
        "**Note** that [this checkpoint](https://huggingface.co/MCG-NJU/videomae-base-finetuned-kinetics) leads to better performance on this task as the checkpoint was obtained fine-tuning on a similar downstream task having considerable domain overlap. You can check out [this checkpoint](https://huggingface.co/sayakpaul/videomae-base-finetuned-kinetics-finetuned-ucf101-subset) which was obtained by fine-tuning `MCG-NJU/videomae-base-finetuned-kinetics`."
      ]
    },
    {
      "cell_type": "markdown",
      "metadata": {
        "id": "jrYifOZiiZ3N"
      },
      "source": [
        "## Prepare the datasets for training"
      ]
    },
    {
      "cell_type": "markdown",
      "metadata": {
        "id": "5wkRBnzCiZ3N"
      },
      "source": [
        "For preprocessing the videos, you will leverage the [PyTorchVideo library](https://pytorchvideo.org/). Start by importing the dependencies we need."
      ]
    },
    {
      "cell_type": "code",
      "source": [
        "# prompt: no module named torchvision.transforms.functional_tensor'\n",
        "\n",
        "import torchvision"
      ],
      "metadata": {
        "id": "VNgWVlQ2kP6F"
      },
      "execution_count": 11,
      "outputs": []
    },
    {
      "cell_type": "code",
      "source": [],
      "metadata": {
        "id": "FMIse9KslnUS"
      },
      "execution_count": 11,
      "outputs": []
    },
    {
      "cell_type": "code",
      "execution_count": 12,
      "metadata": {
        "colab": {
          "base_uri": "https://localhost:8080/"
        },
        "id": "PJZzijj6iZ3N",
        "outputId": "6e5082a9-be8c-42b2-9f09-21081bd143ef"
      },
      "outputs": [
        {
          "output_type": "stream",
          "name": "stdout",
          "text": [
            "Requirement already satisfied: pytorchvideo==0.1.1 in /usr/local/lib/python3.10/dist-packages (0.1.1)\n",
            "Requirement already satisfied: fvcore>=0.1.4 in /usr/local/lib/python3.10/dist-packages (from pytorchvideo==0.1.1) (0.1.5.post20221221)\n",
            "Requirement already satisfied: av in /usr/local/lib/python3.10/dist-packages (from pytorchvideo==0.1.1) (13.1.0)\n",
            "Requirement already satisfied: parameterized in /usr/local/lib/python3.10/dist-packages (from pytorchvideo==0.1.1) (0.9.0)\n",
            "Requirement already satisfied: iopath in /usr/local/lib/python3.10/dist-packages (from pytorchvideo==0.1.1) (0.1.10)\n",
            "Requirement already satisfied: numpy in /usr/local/lib/python3.10/dist-packages (from fvcore>=0.1.4->pytorchvideo==0.1.1) (1.26.4)\n",
            "Requirement already satisfied: yacs>=0.1.6 in /usr/local/lib/python3.10/dist-packages (from fvcore>=0.1.4->pytorchvideo==0.1.1) (0.1.8)\n",
            "Requirement already satisfied: pyyaml>=5.1 in /usr/local/lib/python3.10/dist-packages (from fvcore>=0.1.4->pytorchvideo==0.1.1) (6.0.2)\n",
            "Requirement already satisfied: tqdm in /usr/local/lib/python3.10/dist-packages (from fvcore>=0.1.4->pytorchvideo==0.1.1) (4.66.6)\n",
            "Requirement already satisfied: termcolor>=1.1 in /usr/local/lib/python3.10/dist-packages (from fvcore>=0.1.4->pytorchvideo==0.1.1) (2.5.0)\n",
            "Requirement already satisfied: Pillow in /usr/local/lib/python3.10/dist-packages (from fvcore>=0.1.4->pytorchvideo==0.1.1) (10.4.0)\n",
            "Requirement already satisfied: tabulate in /usr/local/lib/python3.10/dist-packages (from fvcore>=0.1.4->pytorchvideo==0.1.1) (0.9.0)\n",
            "Requirement already satisfied: typing-extensions in /usr/local/lib/python3.10/dist-packages (from iopath->pytorchvideo==0.1.1) (4.12.2)\n",
            "Requirement already satisfied: portalocker in /usr/local/lib/python3.10/dist-packages (from iopath->pytorchvideo==0.1.1) (2.10.1)\n"
          ]
        }
      ],
      "source": [
        "!pip install pytorchvideo==0.1.1\n",
        "import pytorchvideo.data\n",
        "\n",
        "from pytorchvideo.transforms import (\n",
        "    ApplyTransformToKey,\n",
        "    Normalize,\n",
        "    RandomShortSideScale,\n",
        "    RemoveKey,\n",
        "    ShortSideScale,\n",
        "    UniformTemporalSubsample,\n",
        ")\n",
        "\n",
        "from torchvision.transforms import (\n",
        "    Compose,\n",
        "    Lambda,\n",
        "    RandomCrop,\n",
        "    RandomHorizontalFlip,\n",
        "    Resize,\n",
        ")"
      ]
    },
    {
      "cell_type": "markdown",
      "metadata": {
        "id": "arhhOM83iZ3N"
      },
      "source": [
        "For the training dataset transformations, use a combination of uniform temporal subsampling, pixel normalization, random cropping, and random horizontal flipping. For the validation and evaluation dataset transformations, keep the same transformation chain except for random cropping and horizontal flipping. To learn more about the details of these transformations check out the [official documentation of PyTorchVideo](https://pytorchvideo.org).  \n",
        "\n",
        "Use the `image_processor` associated with the pre-trained model to obtain the following information:\n",
        "\n",
        "* Image mean and standard deviation with which the video frame pixels will be normalized.\n",
        "* Spatial resolution to which the video frames will be resized.\n",
        "\n",
        "Start by defining some constants."
      ]
    },
    {
      "cell_type": "code",
      "execution_count": 13,
      "metadata": {
        "id": "Lq25wNojiZ3O"
      },
      "outputs": [],
      "source": [
        "mean = image_processor.image_mean\n",
        "std = image_processor.image_std\n",
        "if \"shortest_edge\" in image_processor.size:\n",
        "    height = width = image_processor.size[\"shortest_edge\"]\n",
        "else:\n",
        "    height = image_processor.size[\"height\"]\n",
        "    width = image_processor.size[\"width\"]\n",
        "resize_to = (height, width)\n",
        "\n",
        "num_frames_to_sample = model.config.num_frames\n",
        "sample_rate = 4\n",
        "fps = 30\n",
        "clip_duration = num_frames_to_sample * sample_rate / fps"
      ]
    },
    {
      "cell_type": "markdown",
      "metadata": {
        "id": "gI1T0kd7iZ3O"
      },
      "source": [
        "Now, define the dataset-specific transformations and the datasets respectively. Starting with the training set:"
      ]
    },
    {
      "cell_type": "code",
      "source": [
        "dataset_root_path = \"/content/UCF101_subset\""
      ],
      "metadata": {
        "id": "j8GyG5oJmvW4"
      },
      "execution_count": 15,
      "outputs": []
    },
    {
      "cell_type": "code",
      "execution_count": 16,
      "metadata": {
        "id": "xq5od3tPiZ3O"
      },
      "outputs": [],
      "source": [
        "train_transform = Compose(\n",
        "    [\n",
        "        ApplyTransformToKey(\n",
        "            key=\"video\",\n",
        "            transform=Compose(\n",
        "                [\n",
        "                    UniformTemporalSubsample(num_frames_to_sample),\n",
        "                    Lambda(lambda x: x / 255.0),\n",
        "                    Normalize(mean, std),\n",
        "                    RandomShortSideScale(min_size=256, max_size=320),\n",
        "                    RandomCrop(resize_to),\n",
        "                    RandomHorizontalFlip(p=0.5),\n",
        "                ]\n",
        "            ),\n",
        "        ),\n",
        "    ]\n",
        ")\n",
        "\n",
        "train_dataset = pytorchvideo.data.Ucf101(\n",
        "    data_path=os.path.join(dataset_root_path, \"train\"),\n",
        "    clip_sampler=pytorchvideo.data.make_clip_sampler(\"random\", clip_duration),\n",
        "    decode_audio=False,\n",
        "    transform=train_transform,\n",
        ")"
      ]
    },
    {
      "cell_type": "markdown",
      "metadata": {
        "id": "DfhJdP6diZ3O"
      },
      "source": [
        "The same sequence of workflow can be applied to the validation and evaluation sets:"
      ]
    },
    {
      "cell_type": "code",
      "execution_count": 17,
      "metadata": {
        "id": "hoPtIXWhiZ3O"
      },
      "outputs": [],
      "source": [
        "val_transform = Compose(\n",
        "    [\n",
        "        ApplyTransformToKey(\n",
        "            key=\"video\",\n",
        "            transform=Compose(\n",
        "                [\n",
        "                    UniformTemporalSubsample(num_frames_to_sample),\n",
        "                    Lambda(lambda x: x / 255.0),\n",
        "                    Normalize(mean, std),\n",
        "                    Resize(resize_to),\n",
        "                ]\n",
        "            ),\n",
        "        ),\n",
        "    ]\n",
        ")\n",
        "\n",
        "val_dataset = pytorchvideo.data.Ucf101(\n",
        "    data_path=os.path.join(dataset_root_path, \"val\"),\n",
        "    clip_sampler=pytorchvideo.data.make_clip_sampler(\"uniform\", clip_duration),\n",
        "    decode_audio=False,\n",
        "    transform=val_transform,\n",
        ")\n",
        "\n",
        "test_dataset = pytorchvideo.data.Ucf101(\n",
        "    data_path=os.path.join(dataset_root_path, \"test\"),\n",
        "    clip_sampler=pytorchvideo.data.make_clip_sampler(\"uniform\", clip_duration),\n",
        "    decode_audio=False,\n",
        "    transform=val_transform,\n",
        ")"
      ]
    },
    {
      "cell_type": "markdown",
      "metadata": {
        "id": "yI-D2GDbiZ3P"
      },
      "source": [
        "**Note**: The above dataset pipelines are taken from the [official PyTorchVideo example](https://pytorchvideo.org/docs/tutorial_classification#dataset). We're using the [`pytorchvideo.data.Ucf101()`](https://pytorchvideo.readthedocs.io/en/latest/api/data/data.html#pytorchvideo.data.Ucf101) function because it's tailored for the UCF-101 dataset. Under the hood, it returns a [`pytorchvideo.data.labeled_video_dataset.LabeledVideoDataset`](https://pytorchvideo.readthedocs.io/en/latest/api/data/data.html#pytorchvideo.data.LabeledVideoDataset) object. `LabeledVideoDataset` class is the base class for all things video in the PyTorchVideo dataset. So, if you want to use a custom dataset not supported off-the-shelf by PyTorchVideo, you can extend the `LabeledVideoDataset` class accordingly. Refer to the `data` API [documentation to](https://pytorchvideo.readthedocs.io/en/latest/api/data/data.html) learn more. Also, if your dataset follows a similar structure (as shown above), then using the `pytorchvideo.data.Ucf101()` should work just fine.\n",
        "\n",
        "You can access the `num_videos` argument to know the number of videos in the dataset."
      ]
    },
    {
      "cell_type": "code",
      "execution_count": 18,
      "metadata": {
        "colab": {
          "base_uri": "https://localhost:8080/"
        },
        "id": "FQ4qqU3XiZ3P",
        "outputId": "28961753-12ec-49a5-a524-53d4b72abfd1"
      },
      "outputs": [
        {
          "output_type": "stream",
          "name": "stdout",
          "text": [
            "300 30 75\n"
          ]
        }
      ],
      "source": [
        "print(train_dataset.num_videos, val_dataset.num_videos, test_dataset.num_videos)"
      ]
    },
    {
      "cell_type": "markdown",
      "metadata": {
        "id": "gf-93sQsiZ3P"
      },
      "source": [
        "## Visualize the preprocessed video for better debugging"
      ]
    },
    {
      "cell_type": "code",
      "execution_count": 19,
      "metadata": {
        "colab": {
          "base_uri": "https://localhost:8080/",
          "height": 241
        },
        "id": "OPazyKIZiZ3P",
        "outputId": "1b78d9b1-6355-4c91-d2b6-84833e992a9d"
      },
      "outputs": [
        {
          "output_type": "execute_result",
          "data": {
            "image/gif": "[encoded data removed]",
            "text/plain": [
              "<IPython.core.display.Image object>"
            ]
          },
          "metadata": {},
          "execution_count": 19
        }
      ],
      "source": [
        "import imageio\n",
        "import numpy as np\n",
        "from IPython.display import Image\n",
        "\n",
        "def unnormalize_img(img):\n",
        "    \"\"\"Un-normalizes the image pixels.\"\"\"\n",
        "    img = (img * std) + mean\n",
        "    img = (img * 255).astype(\"uint8\")\n",
        "    return img.clip(0, 255)\n",
        "\n",
        "def create_gif(video_tensor, filename=\"sample.gif\"):\n",
        "    \"\"\"Prepares a GIF from a video tensor.\n",
        "\n",
        "    The video tensor is expected to have the following shape:\n",
        "    (num_frames, num_channels, height, width).\n",
        "    \"\"\"\n",
        "    frames = []\n",
        "    for video_frame in video_tensor:\n",
        "        frame_unnormalized = unnormalize_img(video_frame.permute(1, 2, 0).numpy())\n",
        "        frames.append(frame_unnormalized)\n",
        "    kargs = {\"duration\": 0.25}\n",
        "    imageio.mimsave(filename, frames, \"GIF\", **kargs)\n",
        "    return filename\n",
        "\n",
        "def display_gif(video_tensor, gif_name=\"sample.gif\"):\n",
        "    \"\"\"Prepares and displays a GIF from a video tensor.\"\"\"\n",
        "    video_tensor = video_tensor.permute(1, 0, 2, 3)\n",
        "    gif_filename = create_gif(video_tensor, gif_name)\n",
        "    return Image(filename=gif_filename)\n",
        "\n",
        "sample_video = next(iter(train_dataset))\n",
        "video_tensor = sample_video[\"video\"]\n",
        "display_gif(video_tensor)"
      ]
    },
    {
      "cell_type": "markdown",
      "metadata": {
        "id": "CbqaarkNiZ3Q"
      },
      "source": [
        "<div class=\"flex justify-center\">\n",
        "    <img src=\"https://huggingface.co/datasets/huggingface/documentation-images/resolve/main/transformers/tasks/sample_gif.gif\" alt=\"Person playing basketball\"/>\n",
        "</div>"
      ]
    },
    {
      "cell_type": "markdown",
      "metadata": {
        "id": "dQ-zkaRxiZ3Q"
      },
      "source": [
        "## Train the model"
      ]
    },
    {
      "cell_type": "markdown",
      "metadata": {
        "id": "j2Cwo7LKiZ3Q"
      },
      "source": [
        "Leverage [`Trainer`](https://huggingface.co/docs/transformers/main_classes/trainer) from  🤗 Transformers for training the model. To instantiate a `Trainer`, you need to define the training configuration and an evaluation metric. The most important is the [`TrainingArguments`](https://huggingface.co/transformers/main_classes/trainer.html#transformers.TrainingArguments), which is a class that contains all the attributes to configure the training. It requires an output folder name, which will be used to save the checkpoints of the model. It also helps sync all the information in the model repository on 🤗 Hub.\n",
        "\n",
        "Most of the training arguments are self-explanatory, but one that is quite important here is `remove_unused_columns=False`. This one will drop any features not used by the model's call function. By default it's `True` because usually it's ideal to drop unused feature columns, making it easier to unpack inputs into the model's call function. But, in this case, you need the unused features ('video' in particular) in order to create `pixel_values` (which is a mandatory key our model expects in its inputs)."
      ]
    },
    {
      "cell_type": "code",
      "source": [
        "batch_size = 3"
      ],
      "metadata": {
        "id": "CbCteqglm-LS"
      },
      "execution_count": 30,
      "outputs": []
    },
    {
      "cell_type": "code",
      "execution_count": 31,
      "metadata": {
        "colab": {
          "base_uri": "https://localhost:8080/"
        },
        "id": "DiX8JoeyiZ3Q",
        "outputId": "802f6e04-d35a-4a36-e9f0-45a535ed3ea7"
      },
      "outputs": [
        {
          "output_type": "stream",
          "name": "stderr",
          "text": [
            "/usr/local/lib/python3.10/dist-packages/transformers/training_args.py:1525: FutureWarning: `evaluation_strategy` is deprecated and will be removed in version 4.46 of 🤗 Transformers. Use `eval_strategy` instead\n",
            "  warnings.warn(\n"
          ]
        }
      ],
      "source": [
        "from transformers import TrainingArguments, Trainer\n",
        "\n",
        "model_name = model_ckpt.split(\"/\")[-1]\n",
        "new_model_name = f\"{model_name}-finetuned-ucf101-subset\"\n",
        "num_epochs = 4\n",
        "\n",
        "args = TrainingArguments(\n",
        "    new_model_name,\n",
        "    remove_unused_columns=False,\n",
        "    evaluation_strategy=\"epoch\",\n",
        "    save_strategy=\"epoch\",\n",
        "    learning_rate=5e-5,\n",
        "    per_device_train_batch_size=batch_size,\n",
        "    per_device_eval_batch_size=batch_size,\n",
        "    warmup_ratio=0.1,\n",
        "    logging_steps=10,\n",
        "    load_best_model_at_end=True,\n",
        "    metric_for_best_model=\"accuracy\",\n",
        "    push_to_hub=True,\n",
        "    max_steps=(train_dataset.num_videos // batch_size) * num_epochs,\n",
        ")"
      ]
    },
    {
      "cell_type": "markdown",
      "metadata": {
        "id": "QeHPcy94iZ3R"
      },
      "source": [
        "The dataset returned by `pytorchvideo.data.Ucf101()` doesn't implement the `__len__` method. As such, we must define `max_steps` when instantiating `TrainingArguments`.\n",
        "\n",
        "Next, you need to define a function to compute the metrics from the predictions, which will use the `metric` you'll load now. The only preprocessing you have to do is to take the argmax of our predicted logits:"
      ]
    },
    {
      "cell_type": "code",
      "execution_count": 32,
      "metadata": {
        "id": "eoBQuClgiZ3R"
      },
      "outputs": [],
      "source": [
        "import evaluate\n",
        "\n",
        "metric = evaluate.load(\"accuracy\")\n",
        "\n",
        "\n",
        "def compute_metrics(eval_pred):\n",
        "    predictions = np.argmax(eval_pred.predictions, axis=1)\n",
        "    return metric.compute(predictions=predictions, references=eval_pred.label_ids)"
      ]
    },
    {
      "cell_type": "markdown",
      "metadata": {
        "id": "NzPXVM5TiZ3R"
      },
      "source": [
        "**A note on evaluation**:\n",
        "\n",
        "In the [VideoMAE paper](https://arxiv.org/abs/2203.12602), the authors use the following evaluation strategy. They evaluate the model on several clips from test videos and apply different crops to those clips and report the aggregate score. However, in the interest of simplicity and brevity, we don't consider that in this tutorial.\n",
        "\n",
        "Also, define a `collate_fn`, which will be used to batch examples together. Each batch consists of 2 keys, namely `pixel_values` and `labels`."
      ]
    },
    {
      "cell_type": "code",
      "execution_count": 33,
      "metadata": {
        "id": "yFBexmtxiZ3R"
      },
      "outputs": [],
      "source": [
        "def collate_fn(examples):\n",
        "    # permute to (num_frames, num_channels, height, width)\n",
        "    pixel_values = torch.stack(\n",
        "        [example[\"video\"].permute(1, 0, 2, 3) for example in examples]\n",
        "    )\n",
        "    labels = torch.tensor([example[\"label\"] for example in examples])\n",
        "    return {\"pixel_values\": pixel_values, \"labels\": labels}"
      ]
    },
    {
      "cell_type": "markdown",
      "metadata": {
        "id": "QoKFuGbZiZ3R"
      },
      "source": [
        "Then you just pass all of this along with the datasets to `Trainer`:"
      ]
    },
    {
      "cell_type": "code",
      "execution_count": 34,
      "metadata": {
        "colab": {
          "base_uri": "https://localhost:8080/"
        },
        "id": "u5EndLcuiZ3R",
        "outputId": "8489809b-4276-4ec8-b4f2-8defc4fe999e"
      },
      "outputs": [
        {
          "output_type": "stream",
          "name": "stderr",
          "text": [
            "max_steps is given, it will override any value given in num_train_epochs\n"
          ]
        }
      ],
      "source": [
        "trainer = Trainer(\n",
        "    model,\n",
        "    args,\n",
        "    train_dataset=train_dataset,\n",
        "    eval_dataset=val_dataset,\n",
        "    tokenizer=image_processor,\n",
        "    compute_metrics=compute_metrics,\n",
        "    data_collator=collate_fn,\n",
        ")"
      ]
    },
    {
      "cell_type": "markdown",
      "metadata": {
        "id": "xVlfbirZiZ3V"
      },
      "source": [
        "You might wonder why you passed along the `image_processor` as a tokenizer when you preprocessed the data already. This is only to make sure the image processor configuration file (stored as JSON) will also be uploaded to the repo on the Hub.\n",
        "\n",
        "Now fine-tune our model by calling the `train` method:"
      ]
    },
    {
      "cell_type": "code",
      "source": [
        "import torch"
      ],
      "metadata": {
        "id": "7RchPCUpokWE"
      },
      "execution_count": 35,
      "outputs": []
    },
    {
      "cell_type": "code",
      "execution_count": 40,
      "metadata": {
        "colab": {
          "base_uri": "https://localhost:8080/",
          "height": 201
        },
        "id": "ndp_a4EriZ3V",
        "outputId": "2f1ed670-533c-4f82-e9ab-679851145d04"
      },
      "outputs": [
        {
          "output_type": "display_data",
          "data": {
            "text/plain": [
              "<IPython.core.display.HTML object>"
            ],
            "text/html": [
              "\n",
              "    <div>\n",
              "      \n",
              "      <progress value='400' max='400' style='width:300px; height:20px; vertical-align: middle;'></progress>\n",
              "      [400/400 13:38, Epoch 3/9223372036854775807]\n",
              "    </div>\n",
              "    <table border=\"1\" class=\"dataframe\">\n",
              "  <thead>\n",
              " <tr style=\"text-align: left;\">\n",
              "      <th>Epoch</th>\n",
              "      <th>Training Loss</th>\n",
              "      <th>Validation Loss</th>\n",
              "      <th>Accuracy</th>\n",
              "    </tr>\n",
              "  </thead>\n",
              "  <tbody>\n",
              "    <tr>\n",
              "      <td>0</td>\n",
              "      <td>1.418500</td>\n",
              "      <td>1.535415</td>\n",
              "      <td>0.414286</td>\n",
              "    </tr>\n",
              "    <tr>\n",
              "      <td>1</td>\n",
              "      <td>0.475800</td>\n",
              "      <td>0.589732</td>\n",
              "      <td>0.785714</td>\n",
              "    </tr>\n",
              "    <tr>\n",
              "      <td>2</td>\n",
              "      <td>0.238200</td>\n",
              "      <td>0.335832</td>\n",
              "      <td>0.814286</td>\n",
              "    </tr>\n",
              "    <tr>\n",
              "      <td>3</td>\n",
              "      <td>0.098100</td>\n",
              "      <td>0.227595</td>\n",
              "      <td>0.885714</td>\n",
              "    </tr>\n",
              "  </tbody>\n",
              "</table><p>"
            ]
          },
          "metadata": {}
        }
      ],
      "source": [
        "train_results = trainer.train()"
      ]
    },
    {
      "cell_type": "markdown",
      "metadata": {
        "id": "EDhhK9DBiZ3V"
      },
      "source": [
        "Once training is completed, share your model to the Hub with the [push_to_hub()](https://huggingface.co/docs/transformers/main/en/main_classes/trainer#transformers.Trainer.push_to_hub) method so everyone can use your model:"
      ]
    },
    {
      "cell_type": "code",
      "source": [
        "# prompt: i want the model's last report on accuracy\n",
        "\n",
        "train_results"
      ],
      "metadata": {
        "colab": {
          "base_uri": "https://localhost:8080/"
        },
        "id": "cJLhzp-jo1gk",
        "outputId": "9335e07b-fe03-47e3-fc6c-d47c298d55d1"
      },
      "execution_count": 41,
      "outputs": [
        {
          "output_type": "execute_result",
          "data": {
            "text/plain": [
              "TrainOutput(global_step=400, training_loss=0.8354046046733856, metrics={'train_runtime': 822.0695, 'train_samples_per_second': 1.46, 'train_steps_per_second': 0.487, 'total_flos': 1.495384188125184e+18, 'train_loss': 0.8354046046733856, 'epoch': 3.25})"
            ]
          },
          "metadata": {},
          "execution_count": 41
        }
      ]
    },
    {
      "cell_type": "code",
      "execution_count": 51,
      "metadata": {
        "colab": {
          "base_uri": "https://localhost:8080/",
          "height": 86
        },
        "id": "Kf3S44eoiZ3V",
        "outputId": "0f3d3625-52e4-40d6-fa92-287212266338"
      },
      "outputs": [
        {
          "output_type": "execute_result",
          "data": {
            "text/plain": [
              "CommitInfo(commit_url='https://huggingface.co/skywalker290/videomae-base-finetuned-ucf101-subset/commit/8ce129a3d9237394088540960d483918b032a144', commit_message='End of training', commit_description='', oid='8ce129a3d9237394088540960d483918b032a144', pr_url=None, pr_revision=None, pr_num=None)"
            ],
            "application/vnd.google.colaboratory.intrinsic+json": {
              "type": "string"
            }
          },
          "metadata": {},
          "execution_count": 51
        }
      ],
      "source": [
        "trainer.push_to_hub()"
      ]
    },
    {
      "cell_type": "markdown",
      "metadata": {
        "id": "FtDxNhCoiZ3W"
      },
      "source": [
        "## Inference"
      ]
    },
    {
      "cell_type": "markdown",
      "metadata": {
        "id": "_C1F8ZeziZ3W"
      },
      "source": [
        "Great, now that you have fine-tuned a model, you can use it for inference!\n",
        "\n",
        "Load a video for inference:"
      ]
    },
    {
      "cell_type": "code",
      "execution_count": 52,
      "metadata": {
        "id": "DrLljY4fiZ3W"
      },
      "outputs": [],
      "source": [
        "sample_test_video = next(iter(test_dataset))"
      ]
    },
    {
      "cell_type": "markdown",
      "metadata": {
        "id": "SekBZMZciZ3W"
      },
      "source": [
        "<div class=\"flex justify-center\">\n",
        "    <img src=\"https://huggingface.co/datasets/huggingface/documentation-images/resolve/main/transformers/tasks/sample_gif_two.gif\" alt=\"Teams playing basketball\"/>\n",
        "</div>\n",
        "\n",
        "The simplest way to try out your fine-tuned model for inference is to use it in a [`pipeline`](https://huggingface.co/docs/transformers/main/en/main_classes/pipelines#transformers.VideoClassificationPipeline). Instantiate a `pipeline` for video classification with your model, and pass your video to it:"
      ]
    },
    {
      "cell_type": "code",
      "source": [
        "# prompt: huggging face login\n",
        "\n",
        "from huggingface_hub import notebook_login\n",
        "\n",
        "notebook_login()"
      ],
      "metadata": {
        "id": "7f39FV3rvCor",
        "outputId": "3d529c87-9f3c-4bd1-f505-b13c7aa0c5af",
        "colab": {
          "base_uri": "https://localhost:8080/",
          "height": 145,
          "referenced_widgets": [
            "fadaefea89fe4f29adb825e41019e721",
            "e96c2ae08ad344b7a6c48b23e4c0a5b5",
            "d1833f0aecb640559603c14b33a965bd",
            "0a0e689e25cd43859a5eeb5a2cafb9c6",
            "d415c2713e7d43519aee7085e61ca043",
            "367c9ccbea44474ca3752a1b2339dbb0",
            "dae29511cf414a7480a0dd0086c726e6",
            "352ab96926a843488f41675d0bb44824",
            "5657fb59595d44e5846a4b92e006d808",
            "80538a22314e45c4812732c59c740457",
            "e91fd9bb41c441e3a419c3f6daa0df56",
            "c69127470c684c7a8dfe4c7b3db0acfa",
            "e6199439c6884b30ae40da5df27712df",
            "f76a4dc7c2c44ff99bdd4532b372b7bf",
            "69f4854a782f4546bc3cf14003f27f0d",
            "8eb723890d584af683423ab91f0e6c51",
            "ab0857b12b05410db7ea9fd2b66c6899",
            "1a34fa8583664c7381c28a6ea7927b08",
            "b901cccfb80445be822b01a109629e12",
            "9b232d93f8e54157913e5e2a7227f2ba",
            "f12e5f1eb0e74a8bb21a362bbc50fd6a",
            "27c78a844fab4e3cb522e5328ea8d5b7",
            "21148fc6627246458399ad9cc8f8d7a0",
            "dd70207f06a04d4dac44bb2e5f23429b",
            "cd2a60b47a434851a994710925ddb65f",
            "1b18f60c0cc54b008c8963895816c3f0",
            "72033d4dbcb44e8b88c00a4e219a0143",
            "9a97051bed844853bcbfffef0842401c",
            "183bfb565f75415aa91474bc8fe9bd5d",
            "ffd3f44a86334306b59fd7d00e502b28",
            "92aba54705e745109455f7a61e81d1a3",
            "83b6172defd14fb08af1542e2da04ecd"
          ]
        }
      },
      "execution_count": 50,
      "outputs": [
        {
          "output_type": "display_data",
          "data": {
            "text/plain": [
              "VBox(children=(HTML(value='<center> <img\\nsrc=https://huggingface.co/front/assets/huggingface_logo-noborder.sv…"
            ],
            "application/vnd.jupyter.widget-view+json": {
              "version_major": 2,
              "version_minor": 0,
              "model_id": "fadaefea89fe4f29adb825e41019e721"
            }
          },
          "metadata": {}
        }
      ]
    },
    {
      "cell_type": "code",
      "execution_count": 54,
      "metadata": {
        "colab": {
          "base_uri": "https://localhost:8080/",
          "height": 272,
          "referenced_widgets": [
            "686b792b05624d238b8471945a294a0f",
            "2f7adf5b8e2641e4bc0427dac662dee6",
            "d1a1a021e3834a7a867e1e62283e1f5a",
            "ae9f4dd07eea44b0b529b634651975cc",
            "de0eba1497c342e89eadb2b4e4f921a3",
            "a8d2ebf35207462f977f551846e3ee8d",
            "33d62cfb533649748ef3e18b98f3a438",
            "c09df9188835432fb2f10c8d621acbbf",
            "97a14466e31c4ccbba5996cb32c6a3aa",
            "302178daab9d452ca0fee6bbf65511a1",
            "b92f8a1e5e2b43d098468399899103d6",
            "4192e95112664dbca7e17e206104c7ec",
            "bf0ea70e56f04c32afdbc6cd0fe38b6a",
            "8f0343f9299248ff890d2b17c0013c55",
            "ba94b2e4708647b789d70a133f1c8c06",
            "f6279b4e07714d7d8157a8073c007c0a",
            "e437373baefc41cb80bb720d9a53e2f6",
            "e9c8d5bcbdbf4d3db2aae67df1cb1dc9",
            "96726c33e0e44b388111a18d423e5eac",
            "d10e1bc2340f469aa6339d3cb71f45b9",
            "780e3866723941f3b8a2453a5205526d",
            "fd557495b02c49c090f3cb33a5af4de5",
            "7c4269ee388e45a6a0441be0ec7d7e1e",
            "5190f730250b4f67bbe907c21bcf2a5b",
            "7c6b584a98af42299a2a9a2359e62f62",
            "790fd922852c4104a7b44698081b371e",
            "826fe4a6cbfc44ae891c743212c20fe0",
            "9c8c9ffa5d814fe1a0d33758dac5da92",
            "b220381aa0924b8985dff13c970585d5",
            "357bf868bef844d297413a0ccf687af2",
            "2f4f8cc2662f4bfa8500a397bfae35b5",
            "d2b67b4ebefc420985abd335246d8ace",
            "c9202b1c941146e78086550812d1799a"
          ]
        },
        "id": "_Vg36Mp0iZ3W",
        "outputId": "d2f5b754-d0ff-4ff7-d249-f8eb85e801d2"
      },
      "outputs": [
        {
          "output_type": "display_data",
          "data": {
            "text/plain": [
              "config.json:   0%|          | 0.00/1.33k [00:00<?, ?B/s]"
            ],
            "application/vnd.jupyter.widget-view+json": {
              "version_major": 2,
              "version_minor": 0,
              "model_id": "686b792b05624d238b8471945a294a0f"
            }
          },
          "metadata": {}
        },
        {
          "output_type": "display_data",
          "data": {
            "text/plain": [
              "model.safetensors:   0%|          | 0.00/345M [00:00<?, ?B/s]"
            ],
            "application/vnd.jupyter.widget-view+json": {
              "version_major": 2,
              "version_minor": 0,
              "model_id": "4192e95112664dbca7e17e206104c7ec"
            }
          },
          "metadata": {}
        },
        {
          "output_type": "display_data",
          "data": {
            "text/plain": [
              "preprocessor_config.json:   0%|          | 0.00/415 [00:00<?, ?B/s]"
            ],
            "application/vnd.jupyter.widget-view+json": {
              "version_major": 2,
              "version_minor": 0,
              "model_id": "7c4269ee388e45a6a0441be0ec7d7e1e"
            }
          },
          "metadata": {}
        },
        {
          "output_type": "stream",
          "name": "stderr",
          "text": [
            "Hardware accelerator e.g. GPU is available in the environment, but no `device` argument is passed to the `Pipeline` object. Model will be on CPU.\n",
            "/usr/local/lib/python3.10/dist-packages/transformers/feature_extraction_utils.py:142: UserWarning: Creating a tensor from a list of numpy.ndarrays is extremely slow. Please consider converting the list to a single numpy.ndarray with numpy.array() before converting to a tensor. (Triggered internally at ../torch/csrc/utils/tensor_new.cpp:278.)\n",
            "  return torch.tensor(value)\n"
          ]
        },
        {
          "output_type": "execute_result",
          "data": {
            "text/plain": [
              "[{'score': 0.9862954020500183, 'label': 'BasketballDunk'},\n",
              " {'score': 0.0035604152362793684, 'label': 'BalanceBeam'},\n",
              " {'score': 0.0018723898101598024, 'label': 'BandMarching'},\n",
              " {'score': 0.001676619634963572, 'label': 'ApplyLipstick'},\n",
              " {'score': 0.001228079665452242, 'label': 'ApplyEyeMakeup'}]"
            ]
          },
          "metadata": {},
          "execution_count": 54
        }
      ],
      "source": [
        "from transformers import pipeline\n",
        "\n",
        "video_cls = pipeline(model=\"skywalker290/videomae-base-finetuned-ucf101-subset\")\n",
        "video_cls(\"https://huggingface.co/datasets/sayakpaul/ucf101-subset/resolve/main/v_BasketballDunk_g14_c06.avi\")"
      ]
    },
    {
      "cell_type": "markdown",
      "metadata": {
        "id": "XggNT9PIiZ3W"
      },
      "source": [
        "You can also manually replicate the results of the `pipeline` if you'd like."
      ]
    },
    {
      "cell_type": "code",
      "execution_count": 55,
      "metadata": {
        "id": "zs4uYc--iZ3W"
      },
      "outputs": [],
      "source": [
        "def run_inference(model, video):\n",
        "    # (num_frames, num_channels, height, width)\n",
        "    perumuted_sample_test_video = video.permute(1, 0, 2, 3)\n",
        "    inputs = {\n",
        "        \"pixel_values\": perumuted_sample_test_video.unsqueeze(0),\n",
        "        \"labels\": torch.tensor(\n",
        "            [sample_test_video[\"label\"]]\n",
        "        ),  # this can be skipped if you don't have labels available.\n",
        "    }\n",
        "\n",
        "    device = torch.device(\"cuda\" if torch.cuda.is_available() else \"cpu\")\n",
        "    inputs = {k: v.to(device) for k, v in inputs.items()}\n",
        "    model = model.to(device)\n",
        "\n",
        "    # forward pass\n",
        "    with torch.no_grad():\n",
        "        outputs = model(**inputs)\n",
        "        logits = outputs.logits\n",
        "\n",
        "    return logits"
      ]
    },
    {
      "cell_type": "markdown",
      "metadata": {
        "id": "owZWNrPPiZ3W"
      },
      "source": [
        "Now, pass your input to the model and return the `logits`:\n",
        "\n",
        "```\n",
        ">>> logits = run_inference(trained_model, sample_test_video[\"video\"])\n",
        "```\n",
        "\n",
        "Decoding the `logits`, we get:"
      ]
    },
    {
      "cell_type": "code",
      "source": [
        "logits = run_inference(model, sample_test_video[\"video\"])"
      ],
      "metadata": {
        "id": "25GWty5fwAyR"
      },
      "execution_count": 58,
      "outputs": []
    },
    {
      "cell_type": "code",
      "execution_count": 59,
      "metadata": {
        "colab": {
          "base_uri": "https://localhost:8080/"
        },
        "id": "Z2fhS8uwiZ3W",
        "outputId": "353b163c-4fcf-477d-86e6-83b9661af902"
      },
      "outputs": [
        {
          "output_type": "stream",
          "name": "stdout",
          "text": [
            "Predicted class: Basketball\n"
          ]
        }
      ],
      "source": [
        "predicted_class_idx = logits.argmax(-1).item()\n",
        "print(\"Predicted class:\", model.config.id2label[predicted_class_idx])"
      ]
    },
    {
      "cell_type": "code",
      "source": [],
      "metadata": {
        "id": "v0isWYr_v9tH"
      },
      "execution_count": null,
      "outputs": []
    }
  ],
  "metadata": {
    "colab": {
      "provenance": [],
      "gpuType": "T4"
    },
    "language_info": {
      "name": "python"
    },
    "kernelspec": {
      "name": "python3",
      "display_name": "Python 3"
    },
    "accelerator": "GPU",
    "widgets": {
      "application/vnd.jupyter.widget-state+json": {
        "6b1ca730df0245f4b841e5b50f90007d": {
          "model_module": "@jupyter-widgets/controls",
          "model_name": "VBoxModel",
          "model_module_version": "1.5.0",
          "state": {
            "_dom_classes": [],
            "_model_module": "@jupyter-widgets/controls",
            "_model_module_version": "1.5.0",
            "_model_name": "VBoxModel",
            "_view_count": null,
            "_view_module": "@jupyter-widgets/controls",
            "_view_module_version": "1.5.0",
            "_view_name": "VBoxView",
            "box_style": "",
            "children": [
              "IPY_MODEL_514081c2f3d8456cb9ed70b51e289200",
              "IPY_MODEL_b04f6d14fd1a45dcbfd97774b879ba31",
              "IPY_MODEL_eec945013f744b1c8c4d2e34805a0724",
              "IPY_MODEL_1e25e0aeaa2a4668a6d0dcaf48b0c014"
            ],
            "layout": "IPY_MODEL_d621efdef33d4ee08d61775e24223bb7"
          }
        },
        "c7167fd834b140b580dae6fe5a9615b5": {
          "model_module": "@jupyter-widgets/controls",
          "model_name": "HTMLModel",
          "model_module_version": "1.5.0",
          "state": {
            "_dom_classes": [],
            "_model_module": "@jupyter-widgets/controls",
            "_model_module_version": "1.5.0",
            "_model_name": "HTMLModel",
            "_view_count": null,
            "_view_module": "@jupyter-widgets/controls",
            "_view_module_version": "1.5.0",
            "_view_name": "HTMLView",
            "description": "",
            "description_tooltip": null,
            "layout": "IPY_MODEL_1abcafea31f94790addb0e9fc1926b3e",
            "placeholder": "​",
            "style": "IPY_MODEL_2443bed6f7074cc89652852d9e765f75",
            "value": "<center> <img\nsrc=https://huggingface.co/front/assets/huggingface_logo-noborder.svg\nalt='Hugging Face'> <br> Copy a token from <a\nhref=\"https://huggingface.co/settings/tokens\" target=\"_blank\">your Hugging Face\ntokens page</a> and paste it below. <br> Immediately click login after copying\nyour token or it might be stored in plain text in this notebook file. </center>"
          }
        },
        "ca6191bf92bf45abab7fdf66546a975b": {
          "model_module": "@jupyter-widgets/controls",
          "model_name": "PasswordModel",
          "model_module_version": "1.5.0",
          "state": {
            "_dom_classes": [],
            "_model_module": "@jupyter-widgets/controls",
            "_model_module_version": "1.5.0",
            "_model_name": "PasswordModel",
            "_view_count": null,
            "_view_module": "@jupyter-widgets/controls",
            "_view_module_version": "1.5.0",
            "_view_name": "PasswordView",
            "continuous_update": true,
            "description": "Token:",
            "description_tooltip": null,
            "disabled": false,
            "layout": "IPY_MODEL_ced56fe8daa441c286db68f9a5e28da8",
            "placeholder": "​",
            "style": "IPY_MODEL_0a955c81b0b143b6a4e7408516edc8eb",
            "value": ""
          }
        },
        "7046024bef844908aa40fecef4ce281d": {
          "model_module": "@jupyter-widgets/controls",
          "model_name": "CheckboxModel",
          "model_module_version": "1.5.0",
          "state": {
            "_dom_classes": [],
            "_model_module": "@jupyter-widgets/controls",
            "_model_module_version": "1.5.0",
            "_model_name": "CheckboxModel",
            "_view_count": null,
            "_view_module": "@jupyter-widgets/controls",
            "_view_module_version": "1.5.0",
            "_view_name": "CheckboxView",
            "description": "Add token as git credential?",
            "description_tooltip": null,
            "disabled": false,
            "indent": true,
            "layout": "IPY_MODEL_bf54159232ad4d758789aa8ce71f92cb",
            "style": "IPY_MODEL_6ce2692d95734749bbf769e8e8a41575",
            "value": true
          }
        },
        "10c2247b39f04100b61092970f54c6a1": {
          "model_module": "@jupyter-widgets/controls",
          "model_name": "ButtonModel",
          "model_module_version": "1.5.0",
          "state": {
            "_dom_classes": [],
            "_model_module": "@jupyter-widgets/controls",
            "_model_module_version": "1.5.0",
            "_model_name": "ButtonModel",
            "_view_count": null,
            "_view_module": "@jupyter-widgets/controls",
            "_view_module_version": "1.5.0",
            "_view_name": "ButtonView",
            "button_style": "",
            "description": "Login",
            "disabled": false,
            "icon": "",
            "layout": "IPY_MODEL_69d2d6de1b664ea78027b3b0b1314bef",
            "style": "IPY_MODEL_cc62c052248e413683fa3652cef58a96",
            "tooltip": ""
          }
        },
        "066f88bf4bcf4d4c93890a1c25f0d1d4": {
          "model_module": "@jupyter-widgets/controls",
          "model_name": "HTMLModel",
          "model_module_version": "1.5.0",
          "state": {
            "_dom_classes": [],
            "_model_module": "@jupyter-widgets/controls",
            "_model_module_version": "1.5.0",
            "_model_name": "HTMLModel",
            "_view_count": null,
            "_view_module": "@jupyter-widgets/controls",
            "_view_module_version": "1.5.0",
            "_view_name": "HTMLView",
            "description": "",
            "description_tooltip": null,
            "layout": "IPY_MODEL_d1454fe9e7724580b9b0fe3a7bad374c",
            "placeholder": "​",
            "style": "IPY_MODEL_4d911a942876426f94e134a1786c1ec0",
            "value": "\n<b>Pro Tip:</b> If you don't already have one, you can create a dedicated\n'notebooks' token with 'write' access, that you can then easily reuse for all\nnotebooks. </center>"
          }
        },
        "d621efdef33d4ee08d61775e24223bb7": {
          "model_module": "@jupyter-widgets/base",
          "model_name": "LayoutModel",
          "model_module_version": "1.2.0",
          "state": {
            "_model_module": "@jupyter-widgets/base",
            "_model_module_version": "1.2.0",
            "_model_name": "LayoutModel",
            "_view_count": null,
            "_view_module": "@jupyter-widgets/base",
            "_view_module_version": "1.2.0",
            "_view_name": "LayoutView",
            "align_content": null,
            "align_items": "center",
            "align_self": null,
            "border": null,
            "bottom": null,
            "display": "flex",
            "flex": null,
            "flex_flow": "column",
            "grid_area": null,
            "grid_auto_columns": null,
            "grid_auto_flow": null,
            "grid_auto_rows": null,
            "grid_column": null,
            "grid_gap": null,
            "grid_row": null,
            "grid_template_areas": null,
            "grid_template_columns": null,
            "grid_template_rows": null,
            "height": null,
            "justify_content": null,
            "justify_items": null,
            "left": null,
            "margin": null,
            "max_height": null,
            "max_width": null,
            "min_height": null,
            "min_width": null,
            "object_fit": null,
            "object_position": null,
            "order": null,
            "overflow": null,
            "overflow_x": null,
            "overflow_y": null,
            "padding": null,
            "right": null,
            "top": null,
            "visibility": null,
            "width": "50%"
          }
        },
        "1abcafea31f94790addb0e9fc1926b3e": {
          "model_module": "@jupyter-widgets/base",
          "model_name": "LayoutModel",
          "model_module_version": "1.2.0",
          "state": {
            "_model_module": "@jupyter-widgets/base",
            "_model_module_version": "1.2.0",
            "_model_name": "LayoutModel",
            "_view_count": null,
            "_view_module": "@jupyter-widgets/base",
            "_view_module_version": "1.2.0",
            "_view_name": "LayoutView",
            "align_content": null,
            "align_items": null,
            "align_self": null,
            "border": null,
            "bottom": null,
            "display": null,
            "flex": null,
            "flex_flow": null,
            "grid_area": null,
            "grid_auto_columns": null,
            "grid_auto_flow": null,
            "grid_auto_rows": null,
            "grid_column": null,
            "grid_gap": null,
            "grid_row": null,
            "grid_template_areas": null,
            "grid_template_columns": null,
            "grid_template_rows": null,
            "height": null,
            "justify_content": null,
            "justify_items": null,
            "left": null,
            "margin": null,
            "max_height": null,
            "max_width": null,
            "min_height": null,
            "min_width": null,
            "object_fit": null,
            "object_position": null,
            "order": null,
            "overflow": null,
            "overflow_x": null,
            "overflow_y": null,
            "padding": null,
            "right": null,
            "top": null,
            "visibility": null,
            "width": null
          }
        },
        "2443bed6f7074cc89652852d9e765f75": {
          "model_module": "@jupyter-widgets/controls",
          "model_name": "DescriptionStyleModel",
          "model_module_version": "1.5.0",
          "state": {
            "_model_module": "@jupyter-widgets/controls",
            "_model_module_version": "1.5.0",
            "_model_name": "DescriptionStyleModel",
            "_view_count": null,
            "_view_module": "@jupyter-widgets/base",
            "_view_module_version": "1.2.0",
            "_view_name": "StyleView",
            "description_width": ""
          }
        },
        "ced56fe8daa441c286db68f9a5e28da8": {
          "model_module": "@jupyter-widgets/base",
          "model_name": "LayoutModel",
          "model_module_version": "1.2.0",
          "state": {
            "_model_module": "@jupyter-widgets/base",
            "_model_module_version": "1.2.0",
            "_model_name": "LayoutModel",
            "_view_count": null,
            "_view_module": "@jupyter-widgets/base",
            "_view_module_version": "1.2.0",
            "_view_name": "LayoutView",
            "align_content": null,
            "align_items": null,
            "align_self": null,
            "border": null,
            "bottom": null,
            "display": null,
            "flex": null,
            "flex_flow": null,
            "grid_area": null,
            "grid_auto_columns": null,
            "grid_auto_flow": null,
            "grid_auto_rows": null,
            "grid_column": null,
            "grid_gap": null,
            "grid_row": null,
            "grid_template_areas": null,
            "grid_template_columns": null,
            "grid_template_rows": null,
            "height": null,
            "justify_content": null,
            "justify_items": null,
            "left": null,
            "margin": null,
            "max_height": null,
            "max_width": null,
            "min_height": null,
            "min_width": null,
            "object_fit": null,
            "object_position": null,
            "order": null,
            "overflow": null,
            "overflow_x": null,
            "overflow_y": null,
            "padding": null,
            "right": null,
            "top": null,
            "visibility": null,
            "width": null
          }
        },
        "0a955c81b0b143b6a4e7408516edc8eb": {
          "model_module": "@jupyter-widgets/controls",
          "model_name": "DescriptionStyleModel",
          "model_module_version": "1.5.0",
          "state": {
            "_model_module": "@jupyter-widgets/controls",
            "_model_module_version": "1.5.0",
            "_model_name": "DescriptionStyleModel",
            "_view_count": null,
            "_view_module": "@jupyter-widgets/base",
            "_view_module_version": "1.2.0",
            "_view_name": "StyleView",
            "description_width": ""
          }
        },
        "bf54159232ad4d758789aa8ce71f92cb": {
          "model_module": "@jupyter-widgets/base",
          "model_name": "LayoutModel",
          "model_module_version": "1.2.0",
          "state": {
            "_model_module": "@jupyter-widgets/base",
            "_model_module_version": "1.2.0",
            "_model_name": "LayoutModel",
            "_view_count": null,
            "_view_module": "@jupyter-widgets/base",
            "_view_module_version": "1.2.0",
            "_view_name": "LayoutView",
            "align_content": null,
            "align_items": null,
            "align_self": null,
            "border": null,
            "bottom": null,
            "display": null,
            "flex": null,
            "flex_flow": null,
            "grid_area": null,
            "grid_auto_columns": null,
            "grid_auto_flow": null,
            "grid_auto_rows": null,
            "grid_column": null,
            "grid_gap": null,
            "grid_row": null,
            "grid_template_areas": null,
            "grid_template_columns": null,
            "grid_template_rows": null,
            "height": null,
            "justify_content": null,
            "justify_items": null,
            "left": null,
            "margin": null,
            "max_height": null,
            "max_width": null,
            "min_height": null,
            "min_width": null,
            "object_fit": null,
            "object_position": null,
            "order": null,
            "overflow": null,
            "overflow_x": null,
            "overflow_y": null,
            "padding": null,
            "right": null,
            "top": null,
            "visibility": null,
            "width": null
          }
        },
        "6ce2692d95734749bbf769e8e8a41575": {
          "model_module": "@jupyter-widgets/controls",
          "model_name": "DescriptionStyleModel",
          "model_module_version": "1.5.0",
          "state": {
            "_model_module": "@jupyter-widgets/controls",
            "_model_module_version": "1.5.0",
            "_model_name": "DescriptionStyleModel",
            "_view_count": null,
            "_view_module": "@jupyter-widgets/base",
            "_view_module_version": "1.2.0",
            "_view_name": "StyleView",
            "description_width": ""
          }
        },
        "69d2d6de1b664ea78027b3b0b1314bef": {
          "model_module": "@jupyter-widgets/base",
          "model_name": "LayoutModel",
          "model_module_version": "1.2.0",
          "state": {
            "_model_module": "@jupyter-widgets/base",
            "_model_module_version": "1.2.0",
            "_model_name": "LayoutModel",
            "_view_count": null,
            "_view_module": "@jupyter-widgets/base",
            "_view_module_version": "1.2.0",
            "_view_name": "LayoutView",
            "align_content": null,
            "align_items": null,
            "align_self": null,
            "border": null,
            "bottom": null,
            "display": null,
            "flex": null,
            "flex_flow": null,
            "grid_area": null,
            "grid_auto_columns": null,
            "grid_auto_flow": null,
            "grid_auto_rows": null,
            "grid_column": null,
            "grid_gap": null,
            "grid_row": null,
            "grid_template_areas": null,
            "grid_template_columns": null,
            "grid_template_rows": null,
            "height": null,
            "justify_content": null,
            "justify_items": null,
            "left": null,
            "margin": null,
            "max_height": null,
            "max_width": null,
            "min_height": null,
            "min_width": null,
            "object_fit": null,
            "object_position": null,
            "order": null,
            "overflow": null,
            "overflow_x": null,
            "overflow_y": null,
            "padding": null,
            "right": null,
            "top": null,
            "visibility": null,
            "width": null
          }
        },
        "cc62c052248e413683fa3652cef58a96": {
          "model_module": "@jupyter-widgets/controls",
          "model_name": "ButtonStyleModel",
          "model_module_version": "1.5.0",
          "state": {
            "_model_module": "@jupyter-widgets/controls",
            "_model_module_version": "1.5.0",
            "_model_name": "ButtonStyleModel",
            "_view_count": null,
            "_view_module": "@jupyter-widgets/base",
            "_view_module_version": "1.2.0",
            "_view_name": "StyleView",
            "button_color": null,
            "font_weight": ""
          }
        },
        "d1454fe9e7724580b9b0fe3a7bad374c": {
          "model_module": "@jupyter-widgets/base",
          "model_name": "LayoutModel",
          "model_module_version": "1.2.0",
          "state": {
            "_model_module": "@jupyter-widgets/base",
            "_model_module_version": "1.2.0",
            "_model_name": "LayoutModel",
            "_view_count": null,
            "_view_module": "@jupyter-widgets/base",
            "_view_module_version": "1.2.0",
            "_view_name": "LayoutView",
            "align_content": null,
            "align_items": null,
            "align_self": null,
            "border": null,
            "bottom": null,
            "display": null,
            "flex": null,
            "flex_flow": null,
            "grid_area": null,
            "grid_auto_columns": null,
            "grid_auto_flow": null,
            "grid_auto_rows": null,
            "grid_column": null,
            "grid_gap": null,
            "grid_row": null,
            "grid_template_areas": null,
            "grid_template_columns": null,
            "grid_template_rows": null,
            "height": null,
            "justify_content": null,
            "justify_items": null,
            "left": null,
            "margin": null,
            "max_height": null,
            "max_width": null,
            "min_height": null,
            "min_width": null,
            "object_fit": null,
            "object_position": null,
            "order": null,
            "overflow": null,
            "overflow_x": null,
            "overflow_y": null,
            "padding": null,
            "right": null,
            "top": null,
            "visibility": null,
            "width": null
          }
        },
        "4d911a942876426f94e134a1786c1ec0": {
          "model_module": "@jupyter-widgets/controls",
          "model_name": "DescriptionStyleModel",
          "model_module_version": "1.5.0",
          "state": {
            "_model_module": "@jupyter-widgets/controls",
            "_model_module_version": "1.5.0",
            "_model_name": "DescriptionStyleModel",
            "_view_count": null,
            "_view_module": "@jupyter-widgets/base",
            "_view_module_version": "1.2.0",
            "_view_name": "StyleView",
            "description_width": ""
          }
        },
        "2e328280c53247818063fdd6111e14a7": {
          "model_module": "@jupyter-widgets/controls",
          "model_name": "LabelModel",
          "model_module_version": "1.5.0",
          "state": {
            "_dom_classes": [],
            "_model_module": "@jupyter-widgets/controls",
            "_model_module_version": "1.5.0",
            "_model_name": "LabelModel",
            "_view_count": null,
            "_view_module": "@jupyter-widgets/controls",
            "_view_module_version": "1.5.0",
            "_view_name": "LabelView",
            "description": "",
            "description_tooltip": null,
            "layout": "IPY_MODEL_d9abeeb722824bf582ad0f5dec8b4772",
            "placeholder": "​",
            "style": "IPY_MODEL_dc5b7ff4df294bd58f4ab23c2890c4b4",
            "value": "Connecting..."
          }
        },
        "d9abeeb722824bf582ad0f5dec8b4772": {
          "model_module": "@jupyter-widgets/base",
          "model_name": "LayoutModel",
          "model_module_version": "1.2.0",
          "state": {
            "_model_module": "@jupyter-widgets/base",
            "_model_module_version": "1.2.0",
            "_model_name": "LayoutModel",
            "_view_count": null,
            "_view_module": "@jupyter-widgets/base",
            "_view_module_version": "1.2.0",
            "_view_name": "LayoutView",
            "align_content": null,
            "align_items": null,
            "align_self": null,
            "border": null,
            "bottom": null,
            "display": null,
            "flex": null,
            "flex_flow": null,
            "grid_area": null,
            "grid_auto_columns": null,
            "grid_auto_flow": null,
            "grid_auto_rows": null,
            "grid_column": null,
            "grid_gap": null,
            "grid_row": null,
            "grid_template_areas": null,
            "grid_template_columns": null,
            "grid_template_rows": null,
            "height": null,
            "justify_content": null,
            "justify_items": null,
            "left": null,
            "margin": null,
            "max_height": null,
            "max_width": null,
            "min_height": null,
            "min_width": null,
            "object_fit": null,
            "object_position": null,
            "order": null,
            "overflow": null,
            "overflow_x": null,
            "overflow_y": null,
            "padding": null,
            "right": null,
            "top": null,
            "visibility": null,
            "width": null
          }
        },
        "dc5b7ff4df294bd58f4ab23c2890c4b4": {
          "model_module": "@jupyter-widgets/controls",
          "model_name": "DescriptionStyleModel",
          "model_module_version": "1.5.0",
          "state": {
            "_model_module": "@jupyter-widgets/controls",
            "_model_module_version": "1.5.0",
            "_model_name": "DescriptionStyleModel",
            "_view_count": null,
            "_view_module": "@jupyter-widgets/base",
            "_view_module_version": "1.2.0",
            "_view_name": "StyleView",
            "description_width": ""
          }
        },
        "514081c2f3d8456cb9ed70b51e289200": {
          "model_module": "@jupyter-widgets/controls",
          "model_name": "LabelModel",
          "model_module_version": "1.5.0",
          "state": {
            "_dom_classes": [],
            "_model_module": "@jupyter-widgets/controls",
            "_model_module_version": "1.5.0",
            "_model_name": "LabelModel",
            "_view_count": null,
            "_view_module": "@jupyter-widgets/controls",
            "_view_module_version": "1.5.0",
            "_view_name": "LabelView",
            "description": "",
            "description_tooltip": null,
            "layout": "IPY_MODEL_ac9cbf24b945441a8b9a1f83f8a0443d",
            "placeholder": "​",
            "style": "IPY_MODEL_993a77f36dd8429fbd6e8db51cf5e6be",
            "value": "Token is valid (permission: write)."
          }
        },
        "b04f6d14fd1a45dcbfd97774b879ba31": {
          "model_module": "@jupyter-widgets/controls",
          "model_name": "LabelModel",
          "model_module_version": "1.5.0",
          "state": {
            "_dom_classes": [],
            "_model_module": "@jupyter-widgets/controls",
            "_model_module_version": "1.5.0",
            "_model_name": "LabelModel",
            "_view_count": null,
            "_view_module": "@jupyter-widgets/controls",
            "_view_module_version": "1.5.0",
            "_view_name": "LabelView",
            "description": "",
            "description_tooltip": null,
            "layout": "IPY_MODEL_1d9f054d9cee43e18060b9da865065bb",
            "placeholder": "​",
            "style": "IPY_MODEL_8f2d0f6bc013483690bce790c7855134",
            "value": "Your token has been saved in your configured git credential helpers (store)."
          }
        },
        "eec945013f744b1c8c4d2e34805a0724": {
          "model_module": "@jupyter-widgets/controls",
          "model_name": "LabelModel",
          "model_module_version": "1.5.0",
          "state": {
            "_dom_classes": [],
            "_model_module": "@jupyter-widgets/controls",
            "_model_module_version": "1.5.0",
            "_model_name": "LabelModel",
            "_view_count": null,
            "_view_module": "@jupyter-widgets/controls",
            "_view_module_version": "1.5.0",
            "_view_name": "LabelView",
            "description": "",
            "description_tooltip": null,
            "layout": "IPY_MODEL_4e343e976783418c8cc8400a2065137c",
            "placeholder": "​",
            "style": "IPY_MODEL_73a12640ba2748e282f02fab146361cb",
            "value": "Your token has been saved to /root/.cache/huggingface/token"
          }
        },
        "1e25e0aeaa2a4668a6d0dcaf48b0c014": {
          "model_module": "@jupyter-widgets/controls",
          "model_name": "LabelModel",
          "model_module_version": "1.5.0",
          "state": {
            "_dom_classes": [],
            "_model_module": "@jupyter-widgets/controls",
            "_model_module_version": "1.5.0",
            "_model_name": "LabelModel",
            "_view_count": null,
            "_view_module": "@jupyter-widgets/controls",
            "_view_module_version": "1.5.0",
            "_view_name": "LabelView",
            "description": "",
            "description_tooltip": null,
            "layout": "IPY_MODEL_541032313b944dcbb05c386df99a6f3b",
            "placeholder": "​",
            "style": "IPY_MODEL_ecb7c24647384fcfb8f9423506b9398e",
            "value": "Login successful"
          }
        },
        "ac9cbf24b945441a8b9a1f83f8a0443d": {
          "model_module": "@jupyter-widgets/base",
          "model_name": "LayoutModel",
          "model_module_version": "1.2.0",
          "state": {
            "_model_module": "@jupyter-widgets/base",
            "_model_module_version": "1.2.0",
            "_model_name": "LayoutModel",
            "_view_count": null,
            "_view_module": "@jupyter-widgets/base",
            "_view_module_version": "1.2.0",
            "_view_name": "LayoutView",
            "align_content": null,
            "align_items": null,
            "align_self": null,
            "border": null,
            "bottom": null,
            "display": null,
            "flex": null,
            "flex_flow": null,
            "grid_area": null,
            "grid_auto_columns": null,
            "grid_auto_flow": null,
            "grid_auto_rows": null,
            "grid_column": null,
            "grid_gap": null,
            "grid_row": null,
            "grid_template_areas": null,
            "grid_template_columns": null,
            "grid_template_rows": null,
            "height": null,
            "justify_content": null,
            "justify_items": null,
            "left": null,
            "margin": null,
            "max_height": null,
            "max_width": null,
            "min_height": null,
            "min_width": null,
            "object_fit": null,
            "object_position": null,
            "order": null,
            "overflow": null,
            "overflow_x": null,
            "overflow_y": null,
            "padding": null,
            "right": null,
            "top": null,
            "visibility": null,
            "width": null
          }
        },
        "993a77f36dd8429fbd6e8db51cf5e6be": {
          "model_module": "@jupyter-widgets/controls",
          "model_name": "DescriptionStyleModel",
          "model_module_version": "1.5.0",
          "state": {
            "_model_module": "@jupyter-widgets/controls",
            "_model_module_version": "1.5.0",
            "_model_name": "DescriptionStyleModel",
            "_view_count": null,
            "_view_module": "@jupyter-widgets/base",
            "_view_module_version": "1.2.0",
            "_view_name": "StyleView",
            "description_width": ""
          }
        },
        "1d9f054d9cee43e18060b9da865065bb": {
          "model_module": "@jupyter-widgets/base",
          "model_name": "LayoutModel",
          "model_module_version": "1.2.0",
          "state": {
            "_model_module": "@jupyter-widgets/base",
            "_model_module_version": "1.2.0",
            "_model_name": "LayoutModel",
            "_view_count": null,
            "_view_module": "@jupyter-widgets/base",
            "_view_module_version": "1.2.0",
            "_view_name": "LayoutView",
            "align_content": null,
            "align_items": null,
            "align_self": null,
            "border": null,
            "bottom": null,
            "display": null,
            "flex": null,
            "flex_flow": null,
            "grid_area": null,
            "grid_auto_columns": null,
            "grid_auto_flow": null,
            "grid_auto_rows": null,
            "grid_column": null,
            "grid_gap": null,
            "grid_row": null,
            "grid_template_areas": null,
            "grid_template_columns": null,
            "grid_template_rows": null,
            "height": null,
            "justify_content": null,
            "justify_items": null,
            "left": null,
            "margin": null,
            "max_height": null,
            "max_width": null,
            "min_height": null,
            "min_width": null,
            "object_fit": null,
            "object_position": null,
            "order": null,
            "overflow": null,
            "overflow_x": null,
            "overflow_y": null,
            "padding": null,
            "right": null,
            "top": null,
            "visibility": null,
            "width": null
          }
        },
        "8f2d0f6bc013483690bce790c7855134": {
          "model_module": "@jupyter-widgets/controls",
          "model_name": "DescriptionStyleModel",
          "model_module_version": "1.5.0",
          "state": {
            "_model_module": "@jupyter-widgets/controls",
            "_model_module_version": "1.5.0",
            "_model_name": "DescriptionStyleModel",
            "_view_count": null,
            "_view_module": "@jupyter-widgets/base",
            "_view_module_version": "1.2.0",
            "_view_name": "StyleView",
            "description_width": ""
          }
        },
        "4e343e976783418c8cc8400a2065137c": {
          "model_module": "@jupyter-widgets/base",
          "model_name": "LayoutModel",
          "model_module_version": "1.2.0",
          "state": {
            "_model_module": "@jupyter-widgets/base",
            "_model_module_version": "1.2.0",
            "_model_name": "LayoutModel",
            "_view_count": null,
            "_view_module": "@jupyter-widgets/base",
            "_view_module_version": "1.2.0",
            "_view_name": "LayoutView",
            "align_content": null,
            "align_items": null,
            "align_self": null,
            "border": null,
            "bottom": null,
            "display": null,
            "flex": null,
            "flex_flow": null,
            "grid_area": null,
            "grid_auto_columns": null,
            "grid_auto_flow": null,
            "grid_auto_rows": null,
            "grid_column": null,
            "grid_gap": null,
            "grid_row": null,
            "grid_template_areas": null,
            "grid_template_columns": null,
            "grid_template_rows": null,
            "height": null,
            "justify_content": null,
            "justify_items": null,
            "left": null,
            "margin": null,
            "max_height": null,
            "max_width": null,
            "min_height": null,
            "min_width": null,
            "object_fit": null,
            "object_position": null,
            "order": null,
            "overflow": null,
            "overflow_x": null,
            "overflow_y": null,
            "padding": null,
            "right": null,
            "top": null,
            "visibility": null,
            "width": null
          }
        },
        "73a12640ba2748e282f02fab146361cb": {
          "model_module": "@jupyter-widgets/controls",
          "model_name": "DescriptionStyleModel",
          "model_module_version": "1.5.0",
          "state": {
            "_model_module": "@jupyter-widgets/controls",
            "_model_module_version": "1.5.0",
            "_model_name": "DescriptionStyleModel",
            "_view_count": null,
            "_view_module": "@jupyter-widgets/base",
            "_view_module_version": "1.2.0",
            "_view_name": "StyleView",
            "description_width": ""
          }
        },
        "541032313b944dcbb05c386df99a6f3b": {
          "model_module": "@jupyter-widgets/base",
          "model_name": "LayoutModel",
          "model_module_version": "1.2.0",
          "state": {
            "_model_module": "@jupyter-widgets/base",
            "_model_module_version": "1.2.0",
            "_model_name": "LayoutModel",
            "_view_count": null,
            "_view_module": "@jupyter-widgets/base",
            "_view_module_version": "1.2.0",
            "_view_name": "LayoutView",
            "align_content": null,
            "align_items": null,
            "align_self": null,
            "border": null,
            "bottom": null,
            "display": null,
            "flex": null,
            "flex_flow": null,
            "grid_area": null,
            "grid_auto_columns": null,
            "grid_auto_flow": null,
            "grid_auto_rows": null,
            "grid_column": null,
            "grid_gap": null,
            "grid_row": null,
            "grid_template_areas": null,
            "grid_template_columns": null,
            "grid_template_rows": null,
            "height": null,
            "justify_content": null,
            "justify_items": null,
            "left": null,
            "margin": null,
            "max_height": null,
            "max_width": null,
            "min_height": null,
            "min_width": null,
            "object_fit": null,
            "object_position": null,
            "order": null,
            "overflow": null,
            "overflow_x": null,
            "overflow_y": null,
            "padding": null,
            "right": null,
            "top": null,
            "visibility": null,
            "width": null
          }
        },
        "ecb7c24647384fcfb8f9423506b9398e": {
          "model_module": "@jupyter-widgets/controls",
          "model_name": "DescriptionStyleModel",
          "model_module_version": "1.5.0",
          "state": {
            "_model_module": "@jupyter-widgets/controls",
            "_model_module_version": "1.5.0",
            "_model_name": "DescriptionStyleModel",
            "_view_count": null,
            "_view_module": "@jupyter-widgets/base",
            "_view_module_version": "1.2.0",
            "_view_name": "StyleView",
            "description_width": ""
          }
        },
        "fadaefea89fe4f29adb825e41019e721": {
          "model_module": "@jupyter-widgets/controls",
          "model_name": "VBoxModel",
          "model_module_version": "1.5.0",
          "state": {
            "_dom_classes": [],
            "_model_module": "@jupyter-widgets/controls",
            "_model_module_version": "1.5.0",
            "_model_name": "VBoxModel",
            "_view_count": null,
            "_view_module": "@jupyter-widgets/controls",
            "_view_module_version": "1.5.0",
            "_view_name": "VBoxView",
            "box_style": "",
            "children": [
              "IPY_MODEL_f12e5f1eb0e74a8bb21a362bbc50fd6a",
              "IPY_MODEL_27c78a844fab4e3cb522e5328ea8d5b7",
              "IPY_MODEL_21148fc6627246458399ad9cc8f8d7a0",
              "IPY_MODEL_dd70207f06a04d4dac44bb2e5f23429b"
            ],
            "layout": "IPY_MODEL_dae29511cf414a7480a0dd0086c726e6"
          }
        },
        "e96c2ae08ad344b7a6c48b23e4c0a5b5": {
          "model_module": "@jupyter-widgets/controls",
          "model_name": "HTMLModel",
          "model_module_version": "1.5.0",
          "state": {
            "_dom_classes": [],
            "_model_module": "@jupyter-widgets/controls",
            "_model_module_version": "1.5.0",
            "_model_name": "HTMLModel",
            "_view_count": null,
            "_view_module": "@jupyter-widgets/controls",
            "_view_module_version": "1.5.0",
            "_view_name": "HTMLView",
            "description": "",
            "description_tooltip": null,
            "layout": "IPY_MODEL_352ab96926a843488f41675d0bb44824",
            "placeholder": "​",
            "style": "IPY_MODEL_5657fb59595d44e5846a4b92e006d808",
            "value": "<center> <img\nsrc=https://huggingface.co/front/assets/huggingface_logo-noborder.svg\nalt='Hugging Face'> <br> Copy a token from <a\nhref=\"https://huggingface.co/settings/tokens\" target=\"_blank\">your Hugging Face\ntokens page</a> and paste it below. <br> Immediately click login after copying\nyour token or it might be stored in plain text in this notebook file. </center>"
          }
        },
        "d1833f0aecb640559603c14b33a965bd": {
          "model_module": "@jupyter-widgets/controls",
          "model_name": "PasswordModel",
          "model_module_version": "1.5.0",
          "state": {
            "_dom_classes": [],
            "_model_module": "@jupyter-widgets/controls",
            "_model_module_version": "1.5.0",
            "_model_name": "PasswordModel",
            "_view_count": null,
            "_view_module": "@jupyter-widgets/controls",
            "_view_module_version": "1.5.0",
            "_view_name": "PasswordView",
            "continuous_update": true,
            "description": "Token:",
            "description_tooltip": null,
            "disabled": false,
            "layout": "IPY_MODEL_80538a22314e45c4812732c59c740457",
            "placeholder": "​",
            "style": "IPY_MODEL_e91fd9bb41c441e3a419c3f6daa0df56",
            "value": ""
          }
        },
        "0a0e689e25cd43859a5eeb5a2cafb9c6": {
          "model_module": "@jupyter-widgets/controls",
          "model_name": "CheckboxModel",
          "model_module_version": "1.5.0",
          "state": {
            "_dom_classes": [],
            "_model_module": "@jupyter-widgets/controls",
            "_model_module_version": "1.5.0",
            "_model_name": "CheckboxModel",
            "_view_count": null,
            "_view_module": "@jupyter-widgets/controls",
            "_view_module_version": "1.5.0",
            "_view_name": "CheckboxView",
            "description": "Add token as git credential?",
            "description_tooltip": null,
            "disabled": false,
            "indent": true,
            "layout": "IPY_MODEL_c69127470c684c7a8dfe4c7b3db0acfa",
            "style": "IPY_MODEL_e6199439c6884b30ae40da5df27712df",
            "value": true
          }
        },
        "d415c2713e7d43519aee7085e61ca043": {
          "model_module": "@jupyter-widgets/controls",
          "model_name": "ButtonModel",
          "model_module_version": "1.5.0",
          "state": {
            "_dom_classes": [],
            "_model_module": "@jupyter-widgets/controls",
            "_model_module_version": "1.5.0",
            "_model_name": "ButtonModel",
            "_view_count": null,
            "_view_module": "@jupyter-widgets/controls",
            "_view_module_version": "1.5.0",
            "_view_name": "ButtonView",
            "button_style": "",
            "description": "Login",
            "disabled": false,
            "icon": "",
            "layout": "IPY_MODEL_f76a4dc7c2c44ff99bdd4532b372b7bf",
            "style": "IPY_MODEL_69f4854a782f4546bc3cf14003f27f0d",
            "tooltip": ""
          }
        },
        "367c9ccbea44474ca3752a1b2339dbb0": {
          "model_module": "@jupyter-widgets/controls",
          "model_name": "HTMLModel",
          "model_module_version": "1.5.0",
          "state": {
            "_dom_classes": [],
            "_model_module": "@jupyter-widgets/controls",
            "_model_module_version": "1.5.0",
            "_model_name": "HTMLModel",
            "_view_count": null,
            "_view_module": "@jupyter-widgets/controls",
            "_view_module_version": "1.5.0",
            "_view_name": "HTMLView",
            "description": "",
            "description_tooltip": null,
            "layout": "IPY_MODEL_8eb723890d584af683423ab91f0e6c51",
            "placeholder": "​",
            "style": "IPY_MODEL_ab0857b12b05410db7ea9fd2b66c6899",
            "value": "\n<b>Pro Tip:</b> If you don't already have one, you can create a dedicated\n'notebooks' token with 'write' access, that you can then easily reuse for all\nnotebooks. </center>"
          }
        },
        "dae29511cf414a7480a0dd0086c726e6": {
          "model_module": "@jupyter-widgets/base",
          "model_name": "LayoutModel",
          "model_module_version": "1.2.0",
          "state": {
            "_model_module": "@jupyter-widgets/base",
            "_model_module_version": "1.2.0",
            "_model_name": "LayoutModel",
            "_view_count": null,
            "_view_module": "@jupyter-widgets/base",
            "_view_module_version": "1.2.0",
            "_view_name": "LayoutView",
            "align_content": null,
            "align_items": "center",
            "align_self": null,
            "border": null,
            "bottom": null,
            "display": "flex",
            "flex": null,
            "flex_flow": "column",
            "grid_area": null,
            "grid_auto_columns": null,
            "grid_auto_flow": null,
            "grid_auto_rows": null,
            "grid_column": null,
            "grid_gap": null,
            "grid_row": null,
            "grid_template_areas": null,
            "grid_template_columns": null,
            "grid_template_rows": null,
            "height": null,
            "justify_content": null,
            "justify_items": null,
            "left": null,
            "margin": null,
            "max_height": null,
            "max_width": null,
            "min_height": null,
            "min_width": null,
            "object_fit": null,
            "object_position": null,
            "order": null,
            "overflow": null,
            "overflow_x": null,
            "overflow_y": null,
            "padding": null,
            "right": null,
            "top": null,
            "visibility": null,
            "width": "50%"
          }
        },
        "352ab96926a843488f41675d0bb44824": {
          "model_module": "@jupyter-widgets/base",
          "model_name": "LayoutModel",
          "model_module_version": "1.2.0",
          "state": {
            "_model_module": "@jupyter-widgets/base",
            "_model_module_version": "1.2.0",
            "_model_name": "LayoutModel",
            "_view_count": null,
            "_view_module": "@jupyter-widgets/base",
            "_view_module_version": "1.2.0",
            "_view_name": "LayoutView",
            "align_content": null,
            "align_items": null,
            "align_self": null,
            "border": null,
            "bottom": null,
            "display": null,
            "flex": null,
            "flex_flow": null,
            "grid_area": null,
            "grid_auto_columns": null,
            "grid_auto_flow": null,
            "grid_auto_rows": null,
            "grid_column": null,
            "grid_gap": null,
            "grid_row": null,
            "grid_template_areas": null,
            "grid_template_columns": null,
            "grid_template_rows": null,
            "height": null,
            "justify_content": null,
            "justify_items": null,
            "left": null,
            "margin": null,
            "max_height": null,
            "max_width": null,
            "min_height": null,
            "min_width": null,
            "object_fit": null,
            "object_position": null,
            "order": null,
            "overflow": null,
            "overflow_x": null,
            "overflow_y": null,
            "padding": null,
            "right": null,
            "top": null,
            "visibility": null,
            "width": null
          }
        },
        "5657fb59595d44e5846a4b92e006d808": {
          "model_module": "@jupyter-widgets/controls",
          "model_name": "DescriptionStyleModel",
          "model_module_version": "1.5.0",
          "state": {
            "_model_module": "@jupyter-widgets/controls",
            "_model_module_version": "1.5.0",
            "_model_name": "DescriptionStyleModel",
            "_view_count": null,
            "_view_module": "@jupyter-widgets/base",
            "_view_module_version": "1.2.0",
            "_view_name": "StyleView",
            "description_width": ""
          }
        },
        "80538a22314e45c4812732c59c740457": {
          "model_module": "@jupyter-widgets/base",
          "model_name": "LayoutModel",
          "model_module_version": "1.2.0",
          "state": {
            "_model_module": "@jupyter-widgets/base",
            "_model_module_version": "1.2.0",
            "_model_name": "LayoutModel",
            "_view_count": null,
            "_view_module": "@jupyter-widgets/base",
            "_view_module_version": "1.2.0",
            "_view_name": "LayoutView",
            "align_content": null,
            "align_items": null,
            "align_self": null,
            "border": null,
            "bottom": null,
            "display": null,
            "flex": null,
            "flex_flow": null,
            "grid_area": null,
            "grid_auto_columns": null,
            "grid_auto_flow": null,
            "grid_auto_rows": null,
            "grid_column": null,
            "grid_gap": null,
            "grid_row": null,
            "grid_template_areas": null,
            "grid_template_columns": null,
            "grid_template_rows": null,
            "height": null,
            "justify_content": null,
            "justify_items": null,
            "left": null,
            "margin": null,
            "max_height": null,
            "max_width": null,
            "min_height": null,
            "min_width": null,
            "object_fit": null,
            "object_position": null,
            "order": null,
            "overflow": null,
            "overflow_x": null,
            "overflow_y": null,
            "padding": null,
            "right": null,
            "top": null,
            "visibility": null,
            "width": null
          }
        },
        "e91fd9bb41c441e3a419c3f6daa0df56": {
          "model_module": "@jupyter-widgets/controls",
          "model_name": "DescriptionStyleModel",
          "model_module_version": "1.5.0",
          "state": {
            "_model_module": "@jupyter-widgets/controls",
            "_model_module_version": "1.5.0",
            "_model_name": "DescriptionStyleModel",
            "_view_count": null,
            "_view_module": "@jupyter-widgets/base",
            "_view_module_version": "1.2.0",
            "_view_name": "StyleView",
            "description_width": ""
          }
        },
        "c69127470c684c7a8dfe4c7b3db0acfa": {
          "model_module": "@jupyter-widgets/base",
          "model_name": "LayoutModel",
          "model_module_version": "1.2.0",
          "state": {
            "_model_module": "@jupyter-widgets/base",
            "_model_module_version": "1.2.0",
            "_model_name": "LayoutModel",
            "_view_count": null,
            "_view_module": "@jupyter-widgets/base",
            "_view_module_version": "1.2.0",
            "_view_name": "LayoutView",
            "align_content": null,
            "align_items": null,
            "align_self": null,
            "border": null,
            "bottom": null,
            "display": null,
            "flex": null,
            "flex_flow": null,
            "grid_area": null,
            "grid_auto_columns": null,
            "grid_auto_flow": null,
            "grid_auto_rows": null,
            "grid_column": null,
            "grid_gap": null,
            "grid_row": null,
            "grid_template_areas": null,
            "grid_template_columns": null,
            "grid_template_rows": null,
            "height": null,
            "justify_content": null,
            "justify_items": null,
            "left": null,
            "margin": null,
            "max_height": null,
            "max_width": null,
            "min_height": null,
            "min_width": null,
            "object_fit": null,
            "object_position": null,
            "order": null,
            "overflow": null,
            "overflow_x": null,
            "overflow_y": null,
            "padding": null,
            "right": null,
            "top": null,
            "visibility": null,
            "width": null
          }
        },
        "e6199439c6884b30ae40da5df27712df": {
          "model_module": "@jupyter-widgets/controls",
          "model_name": "DescriptionStyleModel",
          "model_module_version": "1.5.0",
          "state": {
            "_model_module": "@jupyter-widgets/controls",
            "_model_module_version": "1.5.0",
            "_model_name": "DescriptionStyleModel",
            "_view_count": null,
            "_view_module": "@jupyter-widgets/base",
            "_view_module_version": "1.2.0",
            "_view_name": "StyleView",
            "description_width": ""
          }
        },
        "f76a4dc7c2c44ff99bdd4532b372b7bf": {
          "model_module": "@jupyter-widgets/base",
          "model_name": "LayoutModel",
          "model_module_version": "1.2.0",
          "state": {
            "_model_module": "@jupyter-widgets/base",
            "_model_module_version": "1.2.0",
            "_model_name": "LayoutModel",
            "_view_count": null,
            "_view_module": "@jupyter-widgets/base",
            "_view_module_version": "1.2.0",
            "_view_name": "LayoutView",
            "align_content": null,
            "align_items": null,
            "align_self": null,
            "border": null,
            "bottom": null,
            "display": null,
            "flex": null,
            "flex_flow": null,
            "grid_area": null,
            "grid_auto_columns": null,
            "grid_auto_flow": null,
            "grid_auto_rows": null,
            "grid_column": null,
            "grid_gap": null,
            "grid_row": null,
            "grid_template_areas": null,
            "grid_template_columns": null,
            "grid_template_rows": null,
            "height": null,
            "justify_content": null,
            "justify_items": null,
            "left": null,
            "margin": null,
            "max_height": null,
            "max_width": null,
            "min_height": null,
            "min_width": null,
            "object_fit": null,
            "object_position": null,
            "order": null,
            "overflow": null,
            "overflow_x": null,
            "overflow_y": null,
            "padding": null,
            "right": null,
            "top": null,
            "visibility": null,
            "width": null
          }
        },
        "69f4854a782f4546bc3cf14003f27f0d": {
          "model_module": "@jupyter-widgets/controls",
          "model_name": "ButtonStyleModel",
          "model_module_version": "1.5.0",
          "state": {
            "_model_module": "@jupyter-widgets/controls",
            "_model_module_version": "1.5.0",
            "_model_name": "ButtonStyleModel",
            "_view_count": null,
            "_view_module": "@jupyter-widgets/base",
            "_view_module_version": "1.2.0",
            "_view_name": "StyleView",
            "button_color": null,
            "font_weight": ""
          }
        },
        "8eb723890d584af683423ab91f0e6c51": {
          "model_module": "@jupyter-widgets/base",
          "model_name": "LayoutModel",
          "model_module_version": "1.2.0",
          "state": {
            "_model_module": "@jupyter-widgets/base",
            "_model_module_version": "1.2.0",
            "_model_name": "LayoutModel",
            "_view_count": null,
            "_view_module": "@jupyter-widgets/base",
            "_view_module_version": "1.2.0",
            "_view_name": "LayoutView",
            "align_content": null,
            "align_items": null,
            "align_self": null,
            "border": null,
            "bottom": null,
            "display": null,
            "flex": null,
            "flex_flow": null,
            "grid_area": null,
            "grid_auto_columns": null,
            "grid_auto_flow": null,
            "grid_auto_rows": null,
            "grid_column": null,
            "grid_gap": null,
            "grid_row": null,
            "grid_template_areas": null,
            "grid_template_columns": null,
            "grid_template_rows": null,
            "height": null,
            "justify_content": null,
            "justify_items": null,
            "left": null,
            "margin": null,
            "max_height": null,
            "max_width": null,
            "min_height": null,
            "min_width": null,
            "object_fit": null,
            "object_position": null,
            "order": null,
            "overflow": null,
            "overflow_x": null,
            "overflow_y": null,
            "padding": null,
            "right": null,
            "top": null,
            "visibility": null,
            "width": null
          }
        },
        "ab0857b12b05410db7ea9fd2b66c6899": {
          "model_module": "@jupyter-widgets/controls",
          "model_name": "DescriptionStyleModel",
          "model_module_version": "1.5.0",
          "state": {
            "_model_module": "@jupyter-widgets/controls",
            "_model_module_version": "1.5.0",
            "_model_name": "DescriptionStyleModel",
            "_view_count": null,
            "_view_module": "@jupyter-widgets/base",
            "_view_module_version": "1.2.0",
            "_view_name": "StyleView",
            "description_width": ""
          }
        },
        "1a34fa8583664c7381c28a6ea7927b08": {
          "model_module": "@jupyter-widgets/controls",
          "model_name": "LabelModel",
          "model_module_version": "1.5.0",
          "state": {
            "_dom_classes": [],
            "_model_module": "@jupyter-widgets/controls",
            "_model_module_version": "1.5.0",
            "_model_name": "LabelModel",
            "_view_count": null,
            "_view_module": "@jupyter-widgets/controls",
            "_view_module_version": "1.5.0",
            "_view_name": "LabelView",
            "description": "",
            "description_tooltip": null,
            "layout": "IPY_MODEL_b901cccfb80445be822b01a109629e12",
            "placeholder": "​",
            "style": "IPY_MODEL_9b232d93f8e54157913e5e2a7227f2ba",
            "value": "Connecting..."
          }
        },
        "b901cccfb80445be822b01a109629e12": {
          "model_module": "@jupyter-widgets/base",
          "model_name": "LayoutModel",
          "model_module_version": "1.2.0",
          "state": {
            "_model_module": "@jupyter-widgets/base",
            "_model_module_version": "1.2.0",
            "_model_name": "LayoutModel",
            "_view_count": null,
            "_view_module": "@jupyter-widgets/base",
            "_view_module_version": "1.2.0",
            "_view_name": "LayoutView",
            "align_content": null,
            "align_items": null,
            "align_self": null,
            "border": null,
            "bottom": null,
            "display": null,
            "flex": null,
            "flex_flow": null,
            "grid_area": null,
            "grid_auto_columns": null,
            "grid_auto_flow": null,
            "grid_auto_rows": null,
            "grid_column": null,
            "grid_gap": null,
            "grid_row": null,
            "grid_template_areas": null,
            "grid_template_columns": null,
            "grid_template_rows": null,
            "height": null,
            "justify_content": null,
            "justify_items": null,
            "left": null,
            "margin": null,
            "max_height": null,
            "max_width": null,
            "min_height": null,
            "min_width": null,
            "object_fit": null,
            "object_position": null,
            "order": null,
            "overflow": null,
            "overflow_x": null,
            "overflow_y": null,
            "padding": null,
            "right": null,
            "top": null,
            "visibility": null,
            "width": null
          }
        },
        "9b232d93f8e54157913e5e2a7227f2ba": {
          "model_module": "@jupyter-widgets/controls",
          "model_name": "DescriptionStyleModel",
          "model_module_version": "1.5.0",
          "state": {
            "_model_module": "@jupyter-widgets/controls",
            "_model_module_version": "1.5.0",
            "_model_name": "DescriptionStyleModel",
            "_view_count": null,
            "_view_module": "@jupyter-widgets/base",
            "_view_module_version": "1.2.0",
            "_view_name": "StyleView",
            "description_width": ""
          }
        },
        "f12e5f1eb0e74a8bb21a362bbc50fd6a": {
          "model_module": "@jupyter-widgets/controls",
          "model_name": "LabelModel",
          "model_module_version": "1.5.0",
          "state": {
            "_dom_classes": [],
            "_model_module": "@jupyter-widgets/controls",
            "_model_module_version": "1.5.0",
            "_model_name": "LabelModel",
            "_view_count": null,
            "_view_module": "@jupyter-widgets/controls",
            "_view_module_version": "1.5.0",
            "_view_name": "LabelView",
            "description": "",
            "description_tooltip": null,
            "layout": "IPY_MODEL_cd2a60b47a434851a994710925ddb65f",
            "placeholder": "​",
            "style": "IPY_MODEL_1b18f60c0cc54b008c8963895816c3f0",
            "value": "Token is valid (permission: write)."
          }
        },
        "27c78a844fab4e3cb522e5328ea8d5b7": {
          "model_module": "@jupyter-widgets/controls",
          "model_name": "LabelModel",
          "model_module_version": "1.5.0",
          "state": {
            "_dom_classes": [],
            "_model_module": "@jupyter-widgets/controls",
            "_model_module_version": "1.5.0",
            "_model_name": "LabelModel",
            "_view_count": null,
            "_view_module": "@jupyter-widgets/controls",
            "_view_module_version": "1.5.0",
            "_view_name": "LabelView",
            "description": "",
            "description_tooltip": null,
            "layout": "IPY_MODEL_72033d4dbcb44e8b88c00a4e219a0143",
            "placeholder": "​",
            "style": "IPY_MODEL_9a97051bed844853bcbfffef0842401c",
            "value": "Your token has been saved in your configured git credential helpers (store)."
          }
        },
        "21148fc6627246458399ad9cc8f8d7a0": {
          "model_module": "@jupyter-widgets/controls",
          "model_name": "LabelModel",
          "model_module_version": "1.5.0",
          "state": {
            "_dom_classes": [],
            "_model_module": "@jupyter-widgets/controls",
            "_model_module_version": "1.5.0",
            "_model_name": "LabelModel",
            "_view_count": null,
            "_view_module": "@jupyter-widgets/controls",
            "_view_module_version": "1.5.0",
            "_view_name": "LabelView",
            "description": "",
            "description_tooltip": null,
            "layout": "IPY_MODEL_183bfb565f75415aa91474bc8fe9bd5d",
            "placeholder": "​",
            "style": "IPY_MODEL_ffd3f44a86334306b59fd7d00e502b28",
            "value": "Your token has been saved to /root/.cache/huggingface/token"
          }
        },
        "dd70207f06a04d4dac44bb2e5f23429b": {
          "model_module": "@jupyter-widgets/controls",
          "model_name": "LabelModel",
          "model_module_version": "1.5.0",
          "state": {
            "_dom_classes": [],
            "_model_module": "@jupyter-widgets/controls",
            "_model_module_version": "1.5.0",
            "_model_name": "LabelModel",
            "_view_count": null,
            "_view_module": "@jupyter-widgets/controls",
            "_view_module_version": "1.5.0",
            "_view_name": "LabelView",
            "description": "",
            "description_tooltip": null,
            "layout": "IPY_MODEL_92aba54705e745109455f7a61e81d1a3",
            "placeholder": "​",
            "style": "IPY_MODEL_83b6172defd14fb08af1542e2da04ecd",
            "value": "Login successful"
          }
        },
        "cd2a60b47a434851a994710925ddb65f": {
          "model_module": "@jupyter-widgets/base",
          "model_name": "LayoutModel",
          "model_module_version": "1.2.0",
          "state": {
            "_model_module": "@jupyter-widgets/base",
            "_model_module_version": "1.2.0",
            "_model_name": "LayoutModel",
            "_view_count": null,
            "_view_module": "@jupyter-widgets/base",
            "_view_module_version": "1.2.0",
            "_view_name": "LayoutView",
            "align_content": null,
            "align_items": null,
            "align_self": null,
            "border": null,
            "bottom": null,
            "display": null,
            "flex": null,
            "flex_flow": null,
            "grid_area": null,
            "grid_auto_columns": null,
            "grid_auto_flow": null,
            "grid_auto_rows": null,
            "grid_column": null,
            "grid_gap": null,
            "grid_row": null,
            "grid_template_areas": null,
            "grid_template_columns": null,
            "grid_template_rows": null,
            "height": null,
            "justify_content": null,
            "justify_items": null,
            "left": null,
            "margin": null,
            "max_height": null,
            "max_width": null,
            "min_height": null,
            "min_width": null,
            "object_fit": null,
            "object_position": null,
            "order": null,
            "overflow": null,
            "overflow_x": null,
            "overflow_y": null,
            "padding": null,
            "right": null,
            "top": null,
            "visibility": null,
            "width": null
          }
        },
        "1b18f60c0cc54b008c8963895816c3f0": {
          "model_module": "@jupyter-widgets/controls",
          "model_name": "DescriptionStyleModel",
          "model_module_version": "1.5.0",
          "state": {
            "_model_module": "@jupyter-widgets/controls",
            "_model_module_version": "1.5.0",
            "_model_name": "DescriptionStyleModel",
            "_view_count": null,
            "_view_module": "@jupyter-widgets/base",
            "_view_module_version": "1.2.0",
            "_view_name": "StyleView",
            "description_width": ""
          }
        },
        "72033d4dbcb44e8b88c00a4e219a0143": {
          "model_module": "@jupyter-widgets/base",
          "model_name": "LayoutModel",
          "model_module_version": "1.2.0",
          "state": {
            "_model_module": "@jupyter-widgets/base",
            "_model_module_version": "1.2.0",
            "_model_name": "LayoutModel",
            "_view_count": null,
            "_view_module": "@jupyter-widgets/base",
            "_view_module_version": "1.2.0",
            "_view_name": "LayoutView",
            "align_content": null,
            "align_items": null,
            "align_self": null,
            "border": null,
            "bottom": null,
            "display": null,
            "flex": null,
            "flex_flow": null,
            "grid_area": null,
            "grid_auto_columns": null,
            "grid_auto_flow": null,
            "grid_auto_rows": null,
            "grid_column": null,
            "grid_gap": null,
            "grid_row": null,
            "grid_template_areas": null,
            "grid_template_columns": null,
            "grid_template_rows": null,
            "height": null,
            "justify_content": null,
            "justify_items": null,
            "left": null,
            "margin": null,
            "max_height": null,
            "max_width": null,
            "min_height": null,
            "min_width": null,
            "object_fit": null,
            "object_position": null,
            "order": null,
            "overflow": null,
            "overflow_x": null,
            "overflow_y": null,
            "padding": null,
            "right": null,
            "top": null,
            "visibility": null,
            "width": null
          }
        },
        "9a97051bed844853bcbfffef0842401c": {
          "model_module": "@jupyter-widgets/controls",
          "model_name": "DescriptionStyleModel",
          "model_module_version": "1.5.0",
          "state": {
            "_model_module": "@jupyter-widgets/controls",
            "_model_module_version": "1.5.0",
            "_model_name": "DescriptionStyleModel",
            "_view_count": null,
            "_view_module": "@jupyter-widgets/base",
            "_view_module_version": "1.2.0",
            "_view_name": "StyleView",
            "description_width": ""
          }
        },
        "183bfb565f75415aa91474bc8fe9bd5d": {
          "model_module": "@jupyter-widgets/base",
          "model_name": "LayoutModel",
          "model_module_version": "1.2.0",
          "state": {
            "_model_module": "@jupyter-widgets/base",
            "_model_module_version": "1.2.0",
            "_model_name": "LayoutModel",
            "_view_count": null,
            "_view_module": "@jupyter-widgets/base",
            "_view_module_version": "1.2.0",
            "_view_name": "LayoutView",
            "align_content": null,
            "align_items": null,
            "align_self": null,
            "border": null,
            "bottom": null,
            "display": null,
            "flex": null,
            "flex_flow": null,
            "grid_area": null,
            "grid_auto_columns": null,
            "grid_auto_flow": null,
            "grid_auto_rows": null,
            "grid_column": null,
            "grid_gap": null,
            "grid_row": null,
            "grid_template_areas": null,
            "grid_template_columns": null,
            "grid_template_rows": null,
            "height": null,
            "justify_content": null,
            "justify_items": null,
            "left": null,
            "margin": null,
            "max_height": null,
            "max_width": null,
            "min_height": null,
            "min_width": null,
            "object_fit": null,
            "object_position": null,
            "order": null,
            "overflow": null,
            "overflow_x": null,
            "overflow_y": null,
            "padding": null,
            "right": null,
            "top": null,
            "visibility": null,
            "width": null
          }
        },
        "ffd3f44a86334306b59fd7d00e502b28": {
          "model_module": "@jupyter-widgets/controls",
          "model_name": "DescriptionStyleModel",
          "model_module_version": "1.5.0",
          "state": {
            "_model_module": "@jupyter-widgets/controls",
            "_model_module_version": "1.5.0",
            "_model_name": "DescriptionStyleModel",
            "_view_count": null,
            "_view_module": "@jupyter-widgets/base",
            "_view_module_version": "1.2.0",
            "_view_name": "StyleView",
            "description_width": ""
          }
        },
        "92aba54705e745109455f7a61e81d1a3": {
          "model_module": "@jupyter-widgets/base",
          "model_name": "LayoutModel",
          "model_module_version": "1.2.0",
          "state": {
            "_model_module": "@jupyter-widgets/base",
            "_model_module_version": "1.2.0",
            "_model_name": "LayoutModel",
            "_view_count": null,
            "_view_module": "@jupyter-widgets/base",
            "_view_module_version": "1.2.0",
            "_view_name": "LayoutView",
            "align_content": null,
            "align_items": null,
            "align_self": null,
            "border": null,
            "bottom": null,
            "display": null,
            "flex": null,
            "flex_flow": null,
            "grid_area": null,
            "grid_auto_columns": null,
            "grid_auto_flow": null,
            "grid_auto_rows": null,
            "grid_column": null,
            "grid_gap": null,
            "grid_row": null,
            "grid_template_areas": null,
            "grid_template_columns": null,
            "grid_template_rows": null,
            "height": null,
            "justify_content": null,
            "justify_items": null,
            "left": null,
            "margin": null,
            "max_height": null,
            "max_width": null,
            "min_height": null,
            "min_width": null,
            "object_fit": null,
            "object_position": null,
            "order": null,
            "overflow": null,
            "overflow_x": null,
            "overflow_y": null,
            "padding": null,
            "right": null,
            "top": null,
            "visibility": null,
            "width": null
          }
        },
        "83b6172defd14fb08af1542e2da04ecd": {
          "model_module": "@jupyter-widgets/controls",
          "model_name": "DescriptionStyleModel",
          "model_module_version": "1.5.0",
          "state": {
            "_model_module": "@jupyter-widgets/controls",
            "_model_module_version": "1.5.0",
            "_model_name": "DescriptionStyleModel",
            "_view_count": null,
            "_view_module": "@jupyter-widgets/base",
            "_view_module_version": "1.2.0",
            "_view_name": "StyleView",
            "description_width": ""
          }
        },
        "686b792b05624d238b8471945a294a0f": {
          "model_module": "@jupyter-widgets/controls",
          "model_name": "HBoxModel",
          "model_module_version": "1.5.0",
          "state": {
            "_dom_classes": [],
            "_model_module": "@jupyter-widgets/controls",
            "_model_module_version": "1.5.0",
            "_model_name": "HBoxModel",
            "_view_count": null,
            "_view_module": "@jupyter-widgets/controls",
            "_view_module_version": "1.5.0",
            "_view_name": "HBoxView",
            "box_style": "",
            "children": [
              "IPY_MODEL_2f7adf5b8e2641e4bc0427dac662dee6",
              "IPY_MODEL_d1a1a021e3834a7a867e1e62283e1f5a",
              "IPY_MODEL_ae9f4dd07eea44b0b529b634651975cc"
            ],
            "layout": "IPY_MODEL_de0eba1497c342e89eadb2b4e4f921a3"
          }
        },
        "2f7adf5b8e2641e4bc0427dac662dee6": {
          "model_module": "@jupyter-widgets/controls",
          "model_name": "HTMLModel",
          "model_module_version": "1.5.0",
          "state": {
            "_dom_classes": [],
            "_model_module": "@jupyter-widgets/controls",
            "_model_module_version": "1.5.0",
            "_model_name": "HTMLModel",
            "_view_count": null,
            "_view_module": "@jupyter-widgets/controls",
            "_view_module_version": "1.5.0",
            "_view_name": "HTMLView",
            "description": "",
            "description_tooltip": null,
            "layout": "IPY_MODEL_a8d2ebf35207462f977f551846e3ee8d",
            "placeholder": "​",
            "style": "IPY_MODEL_33d62cfb533649748ef3e18b98f3a438",
            "value": "config.json: 100%"
          }
        },
        "d1a1a021e3834a7a867e1e62283e1f5a": {
          "model_module": "@jupyter-widgets/controls",
          "model_name": "FloatProgressModel",
          "model_module_version": "1.5.0",
          "state": {
            "_dom_classes": [],
            "_model_module": "@jupyter-widgets/controls",
            "_model_module_version": "1.5.0",
            "_model_name": "FloatProgressModel",
            "_view_count": null,
            "_view_module": "@jupyter-widgets/controls",
            "_view_module_version": "1.5.0",
            "_view_name": "ProgressView",
            "bar_style": "success",
            "description": "",
            "description_tooltip": null,
            "layout": "IPY_MODEL_c09df9188835432fb2f10c8d621acbbf",
            "max": 1333,
            "min": 0,
            "orientation": "horizontal",
            "style": "IPY_MODEL_97a14466e31c4ccbba5996cb32c6a3aa",
            "value": 1333
          }
        },
        "ae9f4dd07eea44b0b529b634651975cc": {
          "model_module": "@jupyter-widgets/controls",
          "model_name": "HTMLModel",
          "model_module_version": "1.5.0",
          "state": {
            "_dom_classes": [],
            "_model_module": "@jupyter-widgets/controls",
            "_model_module_version": "1.5.0",
            "_model_name": "HTMLModel",
            "_view_count": null,
            "_view_module": "@jupyter-widgets/controls",
            "_view_module_version": "1.5.0",
            "_view_name": "HTMLView",
            "description": "",
            "description_tooltip": null,
            "layout": "IPY_MODEL_302178daab9d452ca0fee6bbf65511a1",
            "placeholder": "​",
            "style": "IPY_MODEL_b92f8a1e5e2b43d098468399899103d6",
            "value": " 1.33k/1.33k [00:00&lt;00:00, 42.4kB/s]"
          }
        },
        "de0eba1497c342e89eadb2b4e4f921a3": {
          "model_module": "@jupyter-widgets/base",
          "model_name": "LayoutModel",
          "model_module_version": "1.2.0",
          "state": {
            "_model_module": "@jupyter-widgets/base",
            "_model_module_version": "1.2.0",
            "_model_name": "LayoutModel",
            "_view_count": null,
            "_view_module": "@jupyter-widgets/base",
            "_view_module_version": "1.2.0",
            "_view_name": "LayoutView",
            "align_content": null,
            "align_items": null,
            "align_self": null,
            "border": null,
            "bottom": null,
            "display": null,
            "flex": null,
            "flex_flow": null,
            "grid_area": null,
            "grid_auto_columns": null,
            "grid_auto_flow": null,
            "grid_auto_rows": null,
            "grid_column": null,
            "grid_gap": null,
            "grid_row": null,
            "grid_template_areas": null,
            "grid_template_columns": null,
            "grid_template_rows": null,
            "height": null,
            "justify_content": null,
            "justify_items": null,
            "left": null,
            "margin": null,
            "max_height": null,
            "max_width": null,
            "min_height": null,
            "min_width": null,
            "object_fit": null,
            "object_position": null,
            "order": null,
            "overflow": null,
            "overflow_x": null,
            "overflow_y": null,
            "padding": null,
            "right": null,
            "top": null,
            "visibility": null,
            "width": null
          }
        },
        "a8d2ebf35207462f977f551846e3ee8d": {
          "model_module": "@jupyter-widgets/base",
          "model_name": "LayoutModel",
          "model_module_version": "1.2.0",
          "state": {
            "_model_module": "@jupyter-widgets/base",
            "_model_module_version": "1.2.0",
            "_model_name": "LayoutModel",
            "_view_count": null,
            "_view_module": "@jupyter-widgets/base",
            "_view_module_version": "1.2.0",
            "_view_name": "LayoutView",
            "align_content": null,
            "align_items": null,
            "align_self": null,
            "border": null,
            "bottom": null,
            "display": null,
            "flex": null,
            "flex_flow": null,
            "grid_area": null,
            "grid_auto_columns": null,
            "grid_auto_flow": null,
            "grid_auto_rows": null,
            "grid_column": null,
            "grid_gap": null,
            "grid_row": null,
            "grid_template_areas": null,
            "grid_template_columns": null,
            "grid_template_rows": null,
            "height": null,
            "justify_content": null,
            "justify_items": null,
            "left": null,
            "margin": null,
            "max_height": null,
            "max_width": null,
            "min_height": null,
            "min_width": null,
            "object_fit": null,
            "object_position": null,
            "order": null,
            "overflow": null,
            "overflow_x": null,
            "overflow_y": null,
            "padding": null,
            "right": null,
            "top": null,
            "visibility": null,
            "width": null
          }
        },
        "33d62cfb533649748ef3e18b98f3a438": {
          "model_module": "@jupyter-widgets/controls",
          "model_name": "DescriptionStyleModel",
          "model_module_version": "1.5.0",
          "state": {
            "_model_module": "@jupyter-widgets/controls",
            "_model_module_version": "1.5.0",
            "_model_name": "DescriptionStyleModel",
            "_view_count": null,
            "_view_module": "@jupyter-widgets/base",
            "_view_module_version": "1.2.0",
            "_view_name": "StyleView",
            "description_width": ""
          }
        },
        "c09df9188835432fb2f10c8d621acbbf": {
          "model_module": "@jupyter-widgets/base",
          "model_name": "LayoutModel",
          "model_module_version": "1.2.0",
          "state": {
            "_model_module": "@jupyter-widgets/base",
            "_model_module_version": "1.2.0",
            "_model_name": "LayoutModel",
            "_view_count": null,
            "_view_module": "@jupyter-widgets/base",
            "_view_module_version": "1.2.0",
            "_view_name": "LayoutView",
            "align_content": null,
            "align_items": null,
            "align_self": null,
            "border": null,
            "bottom": null,
            "display": null,
            "flex": null,
            "flex_flow": null,
            "grid_area": null,
            "grid_auto_columns": null,
            "grid_auto_flow": null,
            "grid_auto_rows": null,
            "grid_column": null,
            "grid_gap": null,
            "grid_row": null,
            "grid_template_areas": null,
            "grid_template_columns": null,
            "grid_template_rows": null,
            "height": null,
            "justify_content": null,
            "justify_items": null,
            "left": null,
            "margin": null,
            "max_height": null,
            "max_width": null,
            "min_height": null,
            "min_width": null,
            "object_fit": null,
            "object_position": null,
            "order": null,
            "overflow": null,
            "overflow_x": null,
            "overflow_y": null,
            "padding": null,
            "right": null,
            "top": null,
            "visibility": null,
            "width": null
          }
        },
        "97a14466e31c4ccbba5996cb32c6a3aa": {
          "model_module": "@jupyter-widgets/controls",
          "model_name": "ProgressStyleModel",
          "model_module_version": "1.5.0",
          "state": {
            "_model_module": "@jupyter-widgets/controls",
            "_model_module_version": "1.5.0",
            "_model_name": "ProgressStyleModel",
            "_view_count": null,
            "_view_module": "@jupyter-widgets/base",
            "_view_module_version": "1.2.0",
            "_view_name": "StyleView",
            "bar_color": null,
            "description_width": ""
          }
        },
        "302178daab9d452ca0fee6bbf65511a1": {
          "model_module": "@jupyter-widgets/base",
          "model_name": "LayoutModel",
          "model_module_version": "1.2.0",
          "state": {
            "_model_module": "@jupyter-widgets/base",
            "_model_module_version": "1.2.0",
            "_model_name": "LayoutModel",
            "_view_count": null,
            "_view_module": "@jupyter-widgets/base",
            "_view_module_version": "1.2.0",
            "_view_name": "LayoutView",
            "align_content": null,
            "align_items": null,
            "align_self": null,
            "border": null,
            "bottom": null,
            "display": null,
            "flex": null,
            "flex_flow": null,
            "grid_area": null,
            "grid_auto_columns": null,
            "grid_auto_flow": null,
            "grid_auto_rows": null,
            "grid_column": null,
            "grid_gap": null,
            "grid_row": null,
            "grid_template_areas": null,
            "grid_template_columns": null,
            "grid_template_rows": null,
            "height": null,
            "justify_content": null,
            "justify_items": null,
            "left": null,
            "margin": null,
            "max_height": null,
            "max_width": null,
            "min_height": null,
            "min_width": null,
            "object_fit": null,
            "object_position": null,
            "order": null,
            "overflow": null,
            "overflow_x": null,
            "overflow_y": null,
            "padding": null,
            "right": null,
            "top": null,
            "visibility": null,
            "width": null
          }
        },
        "b92f8a1e5e2b43d098468399899103d6": {
          "model_module": "@jupyter-widgets/controls",
          "model_name": "DescriptionStyleModel",
          "model_module_version": "1.5.0",
          "state": {
            "_model_module": "@jupyter-widgets/controls",
            "_model_module_version": "1.5.0",
            "_model_name": "DescriptionStyleModel",
            "_view_count": null,
            "_view_module": "@jupyter-widgets/base",
            "_view_module_version": "1.2.0",
            "_view_name": "StyleView",
            "description_width": ""
          }
        },
        "4192e95112664dbca7e17e206104c7ec": {
          "model_module": "@jupyter-widgets/controls",
          "model_name": "HBoxModel",
          "model_module_version": "1.5.0",
          "state": {
            "_dom_classes": [],
            "_model_module": "@jupyter-widgets/controls",
            "_model_module_version": "1.5.0",
            "_model_name": "HBoxModel",
            "_view_count": null,
            "_view_module": "@jupyter-widgets/controls",
            "_view_module_version": "1.5.0",
            "_view_name": "HBoxView",
            "box_style": "",
            "children": [
              "IPY_MODEL_bf0ea70e56f04c32afdbc6cd0fe38b6a",
              "IPY_MODEL_8f0343f9299248ff890d2b17c0013c55",
              "IPY_MODEL_ba94b2e4708647b789d70a133f1c8c06"
            ],
            "layout": "IPY_MODEL_f6279b4e07714d7d8157a8073c007c0a"
          }
        },
        "bf0ea70e56f04c32afdbc6cd0fe38b6a": {
          "model_module": "@jupyter-widgets/controls",
          "model_name": "HTMLModel",
          "model_module_version": "1.5.0",
          "state": {
            "_dom_classes": [],
            "_model_module": "@jupyter-widgets/controls",
            "_model_module_version": "1.5.0",
            "_model_name": "HTMLModel",
            "_view_count": null,
            "_view_module": "@jupyter-widgets/controls",
            "_view_module_version": "1.5.0",
            "_view_name": "HTMLView",
            "description": "",
            "description_tooltip": null,
            "layout": "IPY_MODEL_e437373baefc41cb80bb720d9a53e2f6",
            "placeholder": "​",
            "style": "IPY_MODEL_e9c8d5bcbdbf4d3db2aae67df1cb1dc9",
            "value": "model.safetensors: 100%"
          }
        },
        "8f0343f9299248ff890d2b17c0013c55": {
          "model_module": "@jupyter-widgets/controls",
          "model_name": "FloatProgressModel",
          "model_module_version": "1.5.0",
          "state": {
            "_dom_classes": [],
            "_model_module": "@jupyter-widgets/controls",
            "_model_module_version": "1.5.0",
            "_model_name": "FloatProgressModel",
            "_view_count": null,
            "_view_module": "@jupyter-widgets/controls",
            "_view_module_version": "1.5.0",
            "_view_name": "ProgressView",
            "bar_style": "success",
            "description": "",
            "description_tooltip": null,
            "layout": "IPY_MODEL_96726c33e0e44b388111a18d423e5eac",
            "max": 344961984,
            "min": 0,
            "orientation": "horizontal",
            "style": "IPY_MODEL_d10e1bc2340f469aa6339d3cb71f45b9",
            "value": 344961984
          }
        },
        "ba94b2e4708647b789d70a133f1c8c06": {
          "model_module": "@jupyter-widgets/controls",
          "model_name": "HTMLModel",
          "model_module_version": "1.5.0",
          "state": {
            "_dom_classes": [],
            "_model_module": "@jupyter-widgets/controls",
            "_model_module_version": "1.5.0",
            "_model_name": "HTMLModel",
            "_view_count": null,
            "_view_module": "@jupyter-widgets/controls",
            "_view_module_version": "1.5.0",
            "_view_name": "HTMLView",
            "description": "",
            "description_tooltip": null,
            "layout": "IPY_MODEL_780e3866723941f3b8a2453a5205526d",
            "placeholder": "​",
            "style": "IPY_MODEL_fd557495b02c49c090f3cb33a5af4de5",
            "value": " 345M/345M [00:08&lt;00:00, 43.0MB/s]"
          }
        },
        "f6279b4e07714d7d8157a8073c007c0a": {
          "model_module": "@jupyter-widgets/base",
          "model_name": "LayoutModel",
          "model_module_version": "1.2.0",
          "state": {
            "_model_module": "@jupyter-widgets/base",
            "_model_module_version": "1.2.0",
            "_model_name": "LayoutModel",
            "_view_count": null,
            "_view_module": "@jupyter-widgets/base",
            "_view_module_version": "1.2.0",
            "_view_name": "LayoutView",
            "align_content": null,
            "align_items": null,
            "align_self": null,
            "border": null,
            "bottom": null,
            "display": null,
            "flex": null,
            "flex_flow": null,
            "grid_area": null,
            "grid_auto_columns": null,
            "grid_auto_flow": null,
            "grid_auto_rows": null,
            "grid_column": null,
            "grid_gap": null,
            "grid_row": null,
            "grid_template_areas": null,
            "grid_template_columns": null,
            "grid_template_rows": null,
            "height": null,
            "justify_content": null,
            "justify_items": null,
            "left": null,
            "margin": null,
            "max_height": null,
            "max_width": null,
            "min_height": null,
            "min_width": null,
            "object_fit": null,
            "object_position": null,
            "order": null,
            "overflow": null,
            "overflow_x": null,
            "overflow_y": null,
            "padding": null,
            "right": null,
            "top": null,
            "visibility": null,
            "width": null
          }
        },
        "e437373baefc41cb80bb720d9a53e2f6": {
          "model_module": "@jupyter-widgets/base",
          "model_name": "LayoutModel",
          "model_module_version": "1.2.0",
          "state": {
            "_model_module": "@jupyter-widgets/base",
            "_model_module_version": "1.2.0",
            "_model_name": "LayoutModel",
            "_view_count": null,
            "_view_module": "@jupyter-widgets/base",
            "_view_module_version": "1.2.0",
            "_view_name": "LayoutView",
            "align_content": null,
            "align_items": null,
            "align_self": null,
            "border": null,
            "bottom": null,
            "display": null,
            "flex": null,
            "flex_flow": null,
            "grid_area": null,
            "grid_auto_columns": null,
            "grid_auto_flow": null,
            "grid_auto_rows": null,
            "grid_column": null,
            "grid_gap": null,
            "grid_row": null,
            "grid_template_areas": null,
            "grid_template_columns": null,
            "grid_template_rows": null,
            "height": null,
            "justify_content": null,
            "justify_items": null,
            "left": null,
            "margin": null,
            "max_height": null,
            "max_width": null,
            "min_height": null,
            "min_width": null,
            "object_fit": null,
            "object_position": null,
            "order": null,
            "overflow": null,
            "overflow_x": null,
            "overflow_y": null,
            "padding": null,
            "right": null,
            "top": null,
            "visibility": null,
            "width": null
          }
        },
        "e9c8d5bcbdbf4d3db2aae67df1cb1dc9": {
          "model_module": "@jupyter-widgets/controls",
          "model_name": "DescriptionStyleModel",
          "model_module_version": "1.5.0",
          "state": {
            "_model_module": "@jupyter-widgets/controls",
            "_model_module_version": "1.5.0",
            "_model_name": "DescriptionStyleModel",
            "_view_count": null,
            "_view_module": "@jupyter-widgets/base",
            "_view_module_version": "1.2.0",
            "_view_name": "StyleView",
            "description_width": ""
          }
        },
        "96726c33e0e44b388111a18d423e5eac": {
          "model_module": "@jupyter-widgets/base",
          "model_name": "LayoutModel",
          "model_module_version": "1.2.0",
          "state": {
            "_model_module": "@jupyter-widgets/base",
            "_model_module_version": "1.2.0",
            "_model_name": "LayoutModel",
            "_view_count": null,
            "_view_module": "@jupyter-widgets/base",
            "_view_module_version": "1.2.0",
            "_view_name": "LayoutView",
            "align_content": null,
            "align_items": null,
            "align_self": null,
            "border": null,
            "bottom": null,
            "display": null,
            "flex": null,
            "flex_flow": null,
            "grid_area": null,
            "grid_auto_columns": null,
            "grid_auto_flow": null,
            "grid_auto_rows": null,
            "grid_column": null,
            "grid_gap": null,
            "grid_row": null,
            "grid_template_areas": null,
            "grid_template_columns": null,
            "grid_template_rows": null,
            "height": null,
            "justify_content": null,
            "justify_items": null,
            "left": null,
            "margin": null,
            "max_height": null,
            "max_width": null,
            "min_height": null,
            "min_width": null,
            "object_fit": null,
            "object_position": null,
            "order": null,
            "overflow": null,
            "overflow_x": null,
            "overflow_y": null,
            "padding": null,
            "right": null,
            "top": null,
            "visibility": null,
            "width": null
          }
        },
        "d10e1bc2340f469aa6339d3cb71f45b9": {
          "model_module": "@jupyter-widgets/controls",
          "model_name": "ProgressStyleModel",
          "model_module_version": "1.5.0",
          "state": {
            "_model_module": "@jupyter-widgets/controls",
            "_model_module_version": "1.5.0",
            "_model_name": "ProgressStyleModel",
            "_view_count": null,
            "_view_module": "@jupyter-widgets/base",
            "_view_module_version": "1.2.0",
            "_view_name": "StyleView",
            "bar_color": null,
            "description_width": ""
          }
        },
        "780e3866723941f3b8a2453a5205526d": {
          "model_module": "@jupyter-widgets/base",
          "model_name": "LayoutModel",
          "model_module_version": "1.2.0",
          "state": {
            "_model_module": "@jupyter-widgets/base",
            "_model_module_version": "1.2.0",
            "_model_name": "LayoutModel",
            "_view_count": null,
            "_view_module": "@jupyter-widgets/base",
            "_view_module_version": "1.2.0",
            "_view_name": "LayoutView",
            "align_content": null,
            "align_items": null,
            "align_self": null,
            "border": null,
            "bottom": null,
            "display": null,
            "flex": null,
            "flex_flow": null,
            "grid_area": null,
            "grid_auto_columns": null,
            "grid_auto_flow": null,
            "grid_auto_rows": null,
            "grid_column": null,
            "grid_gap": null,
            "grid_row": null,
            "grid_template_areas": null,
            "grid_template_columns": null,
            "grid_template_rows": null,
            "height": null,
            "justify_content": null,
            "justify_items": null,
            "left": null,
            "margin": null,
            "max_height": null,
            "max_width": null,
            "min_height": null,
            "min_width": null,
            "object_fit": null,
            "object_position": null,
            "order": null,
            "overflow": null,
            "overflow_x": null,
            "overflow_y": null,
            "padding": null,
            "right": null,
            "top": null,
            "visibility": null,
            "width": null
          }
        },
        "fd557495b02c49c090f3cb33a5af4de5": {
          "model_module": "@jupyter-widgets/controls",
          "model_name": "DescriptionStyleModel",
          "model_module_version": "1.5.0",
          "state": {
            "_model_module": "@jupyter-widgets/controls",
            "_model_module_version": "1.5.0",
            "_model_name": "DescriptionStyleModel",
            "_view_count": null,
            "_view_module": "@jupyter-widgets/base",
            "_view_module_version": "1.2.0",
            "_view_name": "StyleView",
            "description_width": ""
          }
        },
        "7c4269ee388e45a6a0441be0ec7d7e1e": {
          "model_module": "@jupyter-widgets/controls",
          "model_name": "HBoxModel",
          "model_module_version": "1.5.0",
          "state": {
            "_dom_classes": [],
            "_model_module": "@jupyter-widgets/controls",
            "_model_module_version": "1.5.0",
            "_model_name": "HBoxModel",
            "_view_count": null,
            "_view_module": "@jupyter-widgets/controls",
            "_view_module_version": "1.5.0",
            "_view_name": "HBoxView",
            "box_style": "",
            "children": [
              "IPY_MODEL_5190f730250b4f67bbe907c21bcf2a5b",
              "IPY_MODEL_7c6b584a98af42299a2a9a2359e62f62",
              "IPY_MODEL_790fd922852c4104a7b44698081b371e"
            ],
            "layout": "IPY_MODEL_826fe4a6cbfc44ae891c743212c20fe0"
          }
        },
        "5190f730250b4f67bbe907c21bcf2a5b": {
          "model_module": "@jupyter-widgets/controls",
          "model_name": "HTMLModel",
          "model_module_version": "1.5.0",
          "state": {
            "_dom_classes": [],
            "_model_module": "@jupyter-widgets/controls",
            "_model_module_version": "1.5.0",
            "_model_name": "HTMLModel",
            "_view_count": null,
            "_view_module": "@jupyter-widgets/controls",
            "_view_module_version": "1.5.0",
            "_view_name": "HTMLView",
            "description": "",
            "description_tooltip": null,
            "layout": "IPY_MODEL_9c8c9ffa5d814fe1a0d33758dac5da92",
            "placeholder": "​",
            "style": "IPY_MODEL_b220381aa0924b8985dff13c970585d5",
            "value": "preprocessor_config.json: 100%"
          }
        },
        "7c6b584a98af42299a2a9a2359e62f62": {
          "model_module": "@jupyter-widgets/controls",
          "model_name": "FloatProgressModel",
          "model_module_version": "1.5.0",
          "state": {
            "_dom_classes": [],
            "_model_module": "@jupyter-widgets/controls",
            "_model_module_version": "1.5.0",
            "_model_name": "FloatProgressModel",
            "_view_count": null,
            "_view_module": "@jupyter-widgets/controls",
            "_view_module_version": "1.5.0",
            "_view_name": "ProgressView",
            "bar_style": "success",
            "description": "",
            "description_tooltip": null,
            "layout": "IPY_MODEL_357bf868bef844d297413a0ccf687af2",
            "max": 415,
            "min": 0,
            "orientation": "horizontal",
            "style": "IPY_MODEL_2f4f8cc2662f4bfa8500a397bfae35b5",
            "value": 415
          }
        },
        "790fd922852c4104a7b44698081b371e": {
          "model_module": "@jupyter-widgets/controls",
          "model_name": "HTMLModel",
          "model_module_version": "1.5.0",
          "state": {
            "_dom_classes": [],
            "_model_module": "@jupyter-widgets/controls",
            "_model_module_version": "1.5.0",
            "_model_name": "HTMLModel",
            "_view_count": null,
            "_view_module": "@jupyter-widgets/controls",
            "_view_module_version": "1.5.0",
            "_view_name": "HTMLView",
            "description": "",
            "description_tooltip": null,
            "layout": "IPY_MODEL_d2b67b4ebefc420985abd335246d8ace",
            "placeholder": "​",
            "style": "IPY_MODEL_c9202b1c941146e78086550812d1799a",
            "value": " 415/415 [00:00&lt;00:00, 28.2kB/s]"
          }
        },
        "826fe4a6cbfc44ae891c743212c20fe0": {
          "model_module": "@jupyter-widgets/base",
          "model_name": "LayoutModel",
          "model_module_version": "1.2.0",
          "state": {
            "_model_module": "@jupyter-widgets/base",
            "_model_module_version": "1.2.0",
            "_model_name": "LayoutModel",
            "_view_count": null,
            "_view_module": "@jupyter-widgets/base",
            "_view_module_version": "1.2.0",
            "_view_name": "LayoutView",
            "align_content": null,
            "align_items": null,
            "align_self": null,
            "border": null,
            "bottom": null,
            "display": null,
            "flex": null,
            "flex_flow": null,
            "grid_area": null,
            "grid_auto_columns": null,
            "grid_auto_flow": null,
            "grid_auto_rows": null,
            "grid_column": null,
            "grid_gap": null,
            "grid_row": null,
            "grid_template_areas": null,
            "grid_template_columns": null,
            "grid_template_rows": null,
            "height": null,
            "justify_content": null,
            "justify_items": null,
            "left": null,
            "margin": null,
            "max_height": null,
            "max_width": null,
            "min_height": null,
            "min_width": null,
            "object_fit": null,
            "object_position": null,
            "order": null,
            "overflow": null,
            "overflow_x": null,
            "overflow_y": null,
            "padding": null,
            "right": null,
            "top": null,
            "visibility": null,
            "width": null
          }
        },
        "9c8c9ffa5d814fe1a0d33758dac5da92": {
          "model_module": "@jupyter-widgets/base",
          "model_name": "LayoutModel",
          "model_module_version": "1.2.0",
          "state": {
            "_model_module": "@jupyter-widgets/base",
            "_model_module_version": "1.2.0",
            "_model_name": "LayoutModel",
            "_view_count": null,
            "_view_module": "@jupyter-widgets/base",
            "_view_module_version": "1.2.0",
            "_view_name": "LayoutView",
            "align_content": null,
            "align_items": null,
            "align_self": null,
            "border": null,
            "bottom": null,
            "display": null,
            "flex": null,
            "flex_flow": null,
            "grid_area": null,
            "grid_auto_columns": null,
            "grid_auto_flow": null,
            "grid_auto_rows": null,
            "grid_column": null,
            "grid_gap": null,
            "grid_row": null,
            "grid_template_areas": null,
            "grid_template_columns": null,
            "grid_template_rows": null,
            "height": null,
            "justify_content": null,
            "justify_items": null,
            "left": null,
            "margin": null,
            "max_height": null,
            "max_width": null,
            "min_height": null,
            "min_width": null,
            "object_fit": null,
            "object_position": null,
            "order": null,
            "overflow": null,
            "overflow_x": null,
            "overflow_y": null,
            "padding": null,
            "right": null,
            "top": null,
            "visibility": null,
            "width": null
          }
        },
        "b220381aa0924b8985dff13c970585d5": {
          "model_module": "@jupyter-widgets/controls",
          "model_name": "DescriptionStyleModel",
          "model_module_version": "1.5.0",
          "state": {
            "_model_module": "@jupyter-widgets/controls",
            "_model_module_version": "1.5.0",
            "_model_name": "DescriptionStyleModel",
            "_view_count": null,
            "_view_module": "@jupyter-widgets/base",
            "_view_module_version": "1.2.0",
            "_view_name": "StyleView",
            "description_width": ""
          }
        },
        "357bf868bef844d297413a0ccf687af2": {
          "model_module": "@jupyter-widgets/base",
          "model_name": "LayoutModel",
          "model_module_version": "1.2.0",
          "state": {
            "_model_module": "@jupyter-widgets/base",
            "_model_module_version": "1.2.0",
            "_model_name": "LayoutModel",
            "_view_count": null,
            "_view_module": "@jupyter-widgets/base",
            "_view_module_version": "1.2.0",
            "_view_name": "LayoutView",
            "align_content": null,
            "align_items": null,
            "align_self": null,
            "border": null,
            "bottom": null,
            "display": null,
            "flex": null,
            "flex_flow": null,
            "grid_area": null,
            "grid_auto_columns": null,
            "grid_auto_flow": null,
            "grid_auto_rows": null,
            "grid_column": null,
            "grid_gap": null,
            "grid_row": null,
            "grid_template_areas": null,
            "grid_template_columns": null,
            "grid_template_rows": null,
            "height": null,
            "justify_content": null,
            "justify_items": null,
            "left": null,
            "margin": null,
            "max_height": null,
            "max_width": null,
            "min_height": null,
            "min_width": null,
            "object_fit": null,
            "object_position": null,
            "order": null,
            "overflow": null,
            "overflow_x": null,
            "overflow_y": null,
            "padding": null,
            "right": null,
            "top": null,
            "visibility": null,
            "width": null
          }
        },
        "2f4f8cc2662f4bfa8500a397bfae35b5": {
          "model_module": "@jupyter-widgets/controls",
          "model_name": "ProgressStyleModel",
          "model_module_version": "1.5.0",
          "state": {
            "_model_module": "@jupyter-widgets/controls",
            "_model_module_version": "1.5.0",
            "_model_name": "ProgressStyleModel",
            "_view_count": null,
            "_view_module": "@jupyter-widgets/base",
            "_view_module_version": "1.2.0",
            "_view_name": "StyleView",
            "bar_color": null,
            "description_width": ""
          }
        },
        "d2b67b4ebefc420985abd335246d8ace": {
          "model_module": "@jupyter-widgets/base",
          "model_name": "LayoutModel",
          "model_module_version": "1.2.0",
          "state": {
            "_model_module": "@jupyter-widgets/base",
            "_model_module_version": "1.2.0",
            "_model_name": "LayoutModel",
            "_view_count": null,
            "_view_module": "@jupyter-widgets/base",
            "_view_module_version": "1.2.0",
            "_view_name": "LayoutView",
            "align_content": null,
            "align_items": null,
            "align_self": null,
            "border": null,
            "bottom": null,
            "display": null,
            "flex": null,
            "flex_flow": null,
            "grid_area": null,
            "grid_auto_columns": null,
            "grid_auto_flow": null,
            "grid_auto_rows": null,
            "grid_column": null,
            "grid_gap": null,
            "grid_row": null,
            "grid_template_areas": null,
            "grid_template_columns": null,
            "grid_template_rows": null,
            "height": null,
            "justify_content": null,
            "justify_items": null,
            "left": null,
            "margin": null,
            "max_height": null,
            "max_width": null,
            "min_height": null,
            "min_width": null,
            "object_fit": null,
            "object_position": null,
            "order": null,
            "overflow": null,
            "overflow_x": null,
            "overflow_y": null,
            "padding": null,
            "right": null,
            "top": null,
            "visibility": null,
            "width": null
          }
        },
        "c9202b1c941146e78086550812d1799a": {
          "model_module": "@jupyter-widgets/controls",
          "model_name": "DescriptionStyleModel",
          "model_module_version": "1.5.0",
          "state": {
            "_model_module": "@jupyter-widgets/controls",
            "_model_module_version": "1.5.0",
            "_model_name": "DescriptionStyleModel",
            "_view_count": null,
            "_view_module": "@jupyter-widgets/base",
            "_view_module_version": "1.2.0",
            "_view_name": "StyleView",
            "description_width": ""
          }
        }
      }
    }
  },
  "nbformat": 4,
  "nbformat_minor": 0
}