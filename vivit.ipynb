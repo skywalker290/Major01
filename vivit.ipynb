{
 "cells": [
  {
   "cell_type": "code",
   "execution_count": 3,
   "metadata": {},
   "outputs": [
    {
     "name": "stderr",
     "output_type": "stream",
     "text": [
      "/home/skywalker/.pyenv/versions/3.10.12/envs/major/lib/python3.10/site-packages/tqdm/auto.py:21: TqdmWarning: IProgress not found. Please update jupyter and ipywidgets. See https://ipywidgets.readthedocs.io/en/stable/user_install.html\n",
      "  from .autonotebook import tqdm as notebook_tqdm\n"
     ]
    },
    {
     "data": {
      "text/plain": [
       "'UCF101_subset.tar.gz'"
      ]
     },
     "execution_count": 3,
     "metadata": {},
     "output_type": "execute_result"
    }
   ],
   "source": [
    "from huggingface_hub import hf_hub_download\n",
    "import os\n",
    "hf_dataset_identifier = \"sayakpaul/ucf101-subset\"\n",
    "filename = \"UCF101_subset.tar.gz\"\n",
    "file_path = hf_hub_download(repo_id=hf_dataset_identifier, filename=filename, repo_type=\"dataset\", local_dir=\".\")\n",
    "file_path"
   ]
  },
  {
   "cell_type": "code",
   "execution_count": 4,
   "metadata": {},
   "outputs": [],
   "source": [
    "import tarfile\n",
    "import os\n",
    "with tarfile.open(\"UCF101_subset.tar.gz\") as t:\n",
    "     t.extractall(\"./data\")"
   ]
  },
  {
   "cell_type": "code",
   "execution_count": 5,
   "metadata": {},
   "outputs": [
    {
     "name": "stdout",
     "output_type": "stream",
     "text": [
      "--2024-11-09 12:36:20--  https://github.com/olonok69/LLM_Notebooks/raw/main/video/fine_tune_ViViT/data_handling.py\n",
      "Resolving github.com (github.com)... 20.207.73.82\n",
      "Connecting to github.com (github.com)|20.207.73.82|:443... connected.\n",
      "HTTP request sent, awaiting response... 302 Found\n",
      "Location: https://raw.githubusercontent.com/olonok69/LLM_Notebooks/main/video/fine_tune_ViViT/data_handling.py [following]\n",
      "--2024-11-09 12:36:21--  https://raw.githubusercontent.com/olonok69/LLM_Notebooks/main/video/fine_tune_ViViT/data_handling.py\n",
      "Resolving raw.githubusercontent.com (raw.githubusercontent.com)... 2606:50c0:8003::154, 2606:50c0:8002::154, 2606:50c0:8001::154, ...\n",
      "Connecting to raw.githubusercontent.com (raw.githubusercontent.com)|2606:50c0:8003::154|:443... connected.\n",
      "HTTP request sent, awaiting response... 200 OK\n",
      "Length: 2915 (2.8K) [text/plain]\n",
      "Saving to: ‘data_handling.py’\n",
      "\n",
      "data_handling.py    100%[===================>]   2.85K  --.-KB/s    in 0s      \n",
      "\n",
      "2024-11-09 12:36:21 (51.4 MB/s) - ‘data_handling.py’ saved [2915/2915]\n",
      "\n",
      "--2024-11-09 12:36:21--  https://github.com/olonok69/LLM_Notebooks/raw/main/video/fine_tune_ViViT/model_configuration.py\n",
      "Resolving github.com (github.com)... 20.207.73.82\n",
      "Connecting to github.com (github.com)|20.207.73.82|:443... connected.\n",
      "HTTP request sent, awaiting response... 302 Found\n",
      "Location: https://raw.githubusercontent.com/olonok69/LLM_Notebooks/main/video/fine_tune_ViViT/model_configuration.py [following]\n",
      "--2024-11-09 12:36:22--  https://raw.githubusercontent.com/olonok69/LLM_Notebooks/main/video/fine_tune_ViViT/model_configuration.py\n",
      "Resolving raw.githubusercontent.com (raw.githubusercontent.com)... 2606:50c0:8001::154, 2606:50c0:8002::154, 2606:50c0:8000::154, ...\n",
      "Connecting to raw.githubusercontent.com (raw.githubusercontent.com)|2606:50c0:8001::154|:443... connected.\n",
      "HTTP request sent, awaiting response... 200 OK\n",
      "Length: 1139 (1.1K) [text/plain]\n",
      "Saving to: ‘model_configuration.py’\n",
      "\n",
      "model_configuration 100%[===================>]   1.11K  --.-KB/s    in 0s      \n",
      "\n",
      "2024-11-09 12:36:22 (67.8 MB/s) - ‘model_configuration.py’ saved [1139/1139]\n",
      "\n",
      "--2024-11-09 12:36:22--  https://github.com/olonok69/LLM_Notebooks/raw/main/video/fine_tune_ViViT/preprocessing.py\n",
      "Resolving github.com (github.com)... 20.207.73.82\n",
      "Connecting to github.com (github.com)|20.207.73.82|:443... connected.\n",
      "HTTP request sent, awaiting response... 302 Found\n",
      "Location: https://raw.githubusercontent.com/olonok69/LLM_Notebooks/main/video/fine_tune_ViViT/preprocessing.py [following]\n",
      "--2024-11-09 12:36:23--  https://raw.githubusercontent.com/olonok69/LLM_Notebooks/main/video/fine_tune_ViViT/preprocessing.py\n",
      "Resolving raw.githubusercontent.com (raw.githubusercontent.com)... 2606:50c0:8003::154, 2606:50c0:8000::154, 2606:50c0:8002::154, ...\n",
      "Connecting to raw.githubusercontent.com (raw.githubusercontent.com)|2606:50c0:8003::154|:443... connected.\n",
      "HTTP request sent, awaiting response... 200 OK\n",
      "Length: 1018 [text/plain]\n",
      "Saving to: ‘preprocessing.py’\n",
      "\n",
      "preprocessing.py    100%[===================>]    1018  --.-KB/s    in 0s      \n",
      "\n",
      "2024-11-09 12:36:23 (72.9 MB/s) - ‘preprocessing.py’ saved [1018/1018]\n",
      "\n"
     ]
    }
   ],
   "source": [
    "!wget https://github.com/olonok69/LLM_Notebooks/raw/main/video/fine_tune_ViViT/data_handling.py\n",
    "!wget https://github.com/olonok69/LLM_Notebooks/raw/main/video/fine_tune_ViViT/model_configuration.py\n",
    "!wget https://github.com/olonok69/LLM_Notebooks/raw/main/video/fine_tune_ViViT/preprocessing.py"
   ]
  },
  {
   "cell_type": "code",
   "execution_count": 3,
   "metadata": {},
   "outputs": [],
   "source": [
    "from transformers import TrainingArguments\n",
    "from transformers import Trainer, TrainingArguments, AdamW\n",
    "from model_configuration import *\n",
    "from transformers import Trainer\n",
    "from preprocessing import create_dataset\n",
    "from data_handling import frames_convert_and_create_dataset_dictionary\n",
    "from model_configuration import initialise_model\n",
    "import wandb"
   ]
  },
  {
   "cell_type": "code",
   "execution_count": 9,
   "metadata": {},
   "outputs": [
    {
     "data": {
      "text/plain": [
       "True"
      ]
     },
     "execution_count": 9,
     "metadata": {},
     "output_type": "execute_result"
    }
   ],
   "source": [
    "from dotenv import load_dotenv\n",
    "import os\n",
    "env_path =  \".env\"\n",
    "load_dotenv(env_path)"
   ]
  },
  {
   "cell_type": "markdown",
   "metadata": {},
   "source": [
    "## Base Model"
   ]
  },
  {
   "cell_type": "code",
   "execution_count": 16,
   "metadata": {},
   "outputs": [],
   "source": [
    "import model_configuration\n",
    "from model_configuration import compute_metrics\n",
    "import cv2\n",
    "import av\n",
    "from data_handling import sample_frame_indices, read_video_pyav"
   ]
  },
  {
   "cell_type": "code",
   "execution_count": 18,
   "metadata": {},
   "outputs": [
    {
     "data": {
      "text/plain": [
       "209"
      ]
     },
     "execution_count": 18,
     "metadata": {},
     "output_type": "execute_result"
    }
   ],
   "source": [
    "container = av.open(\"./data/UCF101_subset/test/ApplyEyeMakeup/v_ApplyEyeMakeup_g03_c01.avi\")\n",
    "container.streams.video[0].frames"
   ]
  },
  {
   "cell_type": "code",
   "execution_count": 19,
   "metadata": {},
   "outputs": [
    {
     "name": "stdout",
     "output_type": "stream",
     "text": [
      "\u001b[33m  DEPRECATION: moviepy is being installed using the legacy 'setup.py install' method, because it does not have a 'pyproject.toml' and the 'wheel' package is not installed. pip 23.1 will enforce this behaviour change. A possible replacement is to enable the '--use-pep517' option. Discussion can be found at https://github.com/pypa/pip/issues/8559\u001b[0m\u001b[33m\n",
      "\u001b[0m\n",
      "\u001b[1m[\u001b[0m\u001b[34;49mnotice\u001b[0m\u001b[1;39;49m]\u001b[0m\u001b[39;49m A new release of pip is available: \u001b[0m\u001b[31;49m23.0.1\u001b[0m\u001b[39;49m -> \u001b[0m\u001b[32;49m24.3.1\u001b[0m\n",
      "\u001b[1m[\u001b[0m\u001b[34;49mnotice\u001b[0m\u001b[1;39;49m]\u001b[0m\u001b[39;49m To update, run: \u001b[0m\u001b[32;49mpip install --upgrade pip\u001b[0m\n",
      "Note: you may need to restart the kernel to use updated packages.\n"
     ]
    }
   ],
   "source": [
    "%pip install moviepy -q"
   ]
  },
  {
   "cell_type": "code",
   "execution_count": 21,
   "metadata": {},
   "outputs": [],
   "source": [
    "import moviepy.editor\n",
    "container = av.open(\"./data/UCF101_subset/test/ApplyEyeMakeup/v_ApplyEyeMakeup_g03_c01.avi\")\n",
    "indices = sample_frame_indices(clip_len=50, frame_sample_rate=2,seg_len=container.streams.video[0].frames)\n",
    "video = read_video_pyav(container=container, indices=indices)"
   ]
  },
  {
   "cell_type": "code",
   "execution_count": 22,
   "metadata": {},
   "outputs": [
    {
     "data": {
      "text/plain": [
       "array([104, 106, 108, 110, 112, 114, 116, 118, 120, 122, 124, 126, 128,\n",
       "       130, 132, 134, 136, 138, 140, 142, 144, 146, 148, 150, 152, 155,\n",
       "       157, 159, 161, 163, 165, 167, 169, 171, 173, 175, 177, 179, 181,\n",
       "       183, 185, 187, 189, 191, 193, 195, 197, 199, 201, 203])"
      ]
     },
     "execution_count": 22,
     "metadata": {},
     "output_type": "execute_result"
    }
   ],
   "source": [
    "indices"
   ]
  },
  {
   "cell_type": "code",
   "execution_count": 23,
   "metadata": {},
   "outputs": [
    {
     "data": {
      "text/plain": [
       "(50, 224, 224, 3)"
      ]
     },
     "execution_count": 23,
     "metadata": {},
     "output_type": "execute_result"
    }
   ],
   "source": [
    "video.shape"
   ]
  },
  {
   "cell_type": "code",
   "execution_count": 24,
   "metadata": {},
   "outputs": [
    {
     "data": {
      "text/plain": [
       "device(type='cpu')"
      ]
     },
     "execution_count": 24,
     "metadata": {},
     "output_type": "execute_result"
    }
   ],
   "source": [
    "device = torch.device('cuda' if torch.cuda.is_available() else 'cpu')\n",
    "device"
   ]
  },
  {
   "cell_type": "code",
   "execution_count": 26,
   "metadata": {},
   "outputs": [
    {
     "name": "stdout",
     "output_type": "stream",
     "text": [
      "Processing file data/UCF101_subset/train/BenchPress/v_BenchPress_g18_c03.avi number of Frames: 274\n",
      "Processing file data/UCF101_subset/train/BenchPress/v_BenchPress_g13_c05.avi number of Frames: 141\n",
      "Processing file data/UCF101_subset/train/BenchPress/v_BenchPress_g04_c05.avi number of Frames: 148\n",
      "Processing file data/UCF101_subset/train/BenchPress/v_BenchPress_g19_c06.avi number of Frames: 103\n",
      "Processing file data/UCF101_subset/train/BenchPress/v_BenchPress_g02_c03.avi number of Frames: 221\n",
      "Processing file data/UCF101_subset/train/BenchPress/v_BenchPress_g24_c05.avi number of Frames: 111\n",
      "Processing file data/UCF101_subset/train/BenchPress/v_BenchPress_g22_c01.avi number of Frames: 88\n",
      "Processing file data/UCF101_subset/train/BenchPress/v_BenchPress_g06_c05.avi number of Frames: 128\n",
      "Processing file data/UCF101_subset/train/BenchPress/v_BenchPress_g01_c05.avi number of Frames: 88\n",
      "Processing file data/UCF101_subset/train/BenchPress/v_BenchPress_g22_c03.avi number of Frames: 74\n",
      "Processing file data/UCF101_subset/train/BenchPress/v_BenchPress_g07_c02.avi number of Frames: 71\n",
      "Processing file data/UCF101_subset/train/BenchPress/v_BenchPress_g21_c03.avi number of Frames: 93\n",
      "Processing file data/UCF101_subset/train/BenchPress/v_BenchPress_g06_c01.avi number of Frames: 68\n",
      "Processing file data/UCF101_subset/train/BenchPress/v_BenchPress_g15_c05.avi number of Frames: 65\n",
      "Processing file data/UCF101_subset/train/BenchPress/v_BenchPress_g14_c02.avi number of Frames: 99\n",
      "Processing file data/UCF101_subset/train/BenchPress/v_BenchPress_g03_c06.avi number of Frames: 83\n",
      "Processing file data/UCF101_subset/train/BenchPress/v_BenchPress_g23_c02.avi number of Frames: 126\n",
      "Processing file data/UCF101_subset/train/BenchPress/v_BenchPress_g07_c04.avi number of Frames: 272\n",
      "Processing file data/UCF101_subset/train/BenchPress/v_BenchPress_g03_c02.avi number of Frames: 100\n",
      "Processing file data/UCF101_subset/train/BenchPress/v_BenchPress_g04_c01.avi number of Frames: 70\n",
      "Processing file data/UCF101_subset/train/BenchPress/v_BenchPress_g16_c05.avi number of Frames: 124\n",
      "Processing file data/UCF101_subset/train/BenchPress/v_BenchPress_g03_c04.avi number of Frames: 105\n",
      "Processing file data/UCF101_subset/train/BenchPress/v_BenchPress_g02_c01.avi number of Frames: 81\n",
      "Processing file data/UCF101_subset/train/BenchPress/v_BenchPress_g13_c01.avi number of Frames: 140\n",
      "Processing file data/UCF101_subset/train/BenchPress/v_BenchPress_g12_c06.avi number of Frames: 73\n",
      "Processing file data/UCF101_subset/train/BenchPress/v_BenchPress_g21_c01.avi number of Frames: 188\n",
      "Processing file data/UCF101_subset/train/BenchPress/v_BenchPress_g20_c04.avi number of Frames: 210\n",
      "Processing file data/UCF101_subset/train/BenchPress/v_BenchPress_g10_c03.avi number of Frames: 243\n",
      "Processing file data/UCF101_subset/train/BenchPress/v_BenchPress_g08_c05.avi number of Frames: 187\n",
      "Processing file data/UCF101_subset/train/BenchPress/v_BenchPress_g13_c07.avi number of Frames: 103\n",
      "Processing file data/UCF101_subset/train/BaseballPitch/v_BaseballPitch_g17_c05.avi number of Frames: 73\n",
      "Processing file data/UCF101_subset/train/BaseballPitch/v_BaseballPitch_g08_c07.avi number of Frames: 105\n",
      "Processing file data/UCF101_subset/train/BaseballPitch/v_BaseballPitch_g03_c02.avi number of Frames: 120\n",
      "Processing file data/UCF101_subset/train/BaseballPitch/v_BaseballPitch_g19_c03.avi number of Frames: 155\n",
      "Processing file data/UCF101_subset/train/BaseballPitch/v_BaseballPitch_g10_c03.avi number of Frames: 118\n",
      "Processing file data/UCF101_subset/train/BaseballPitch/v_BaseballPitch_g25_c01.avi number of Frames: 133\n",
      "Processing file data/UCF101_subset/train/BaseballPitch/v_BaseballPitch_g01_c02.avi number of Frames: 94\n",
      "Processing file data/UCF101_subset/train/BaseballPitch/v_BaseballPitch_g04_c01.avi number of Frames: 213\n",
      "Processing file data/UCF101_subset/train/BaseballPitch/v_BaseballPitch_g03_c04.avi number of Frames: 80\n",
      "Processing file data/UCF101_subset/train/BaseballPitch/v_BaseballPitch_g15_c06.avi number of Frames: 79\n",
      "Processing file data/UCF101_subset/train/BaseballPitch/v_BaseballPitch_g02_c02.avi number of Frames: 72\n",
      "Processing file data/UCF101_subset/train/BaseballPitch/v_BaseballPitch_g06_c05.avi number of Frames: 63\n",
      "Processing file data/UCF101_subset/train/BaseballPitch/v_BaseballPitch_g13_c05.avi number of Frames: 75\n",
      "Processing file data/UCF101_subset/train/BaseballPitch/v_BaseballPitch_g18_c04.avi number of Frames: 79\n",
      "Processing file data/UCF101_subset/train/BaseballPitch/v_BaseballPitch_g14_c04.avi number of Frames: 109\n",
      "Processing file data/UCF101_subset/train/BaseballPitch/v_BaseballPitch_g08_c05.avi number of Frames: 110\n",
      "Processing file data/UCF101_subset/train/BaseballPitch/v_BaseballPitch_g13_c07.avi number of Frames: 108\n",
      "Processing file data/UCF101_subset/train/BaseballPitch/v_BaseballPitch_g06_c07.avi number of Frames: 81\n",
      "Processing file data/UCF101_subset/train/BaseballPitch/v_BaseballPitch_g21_c02.avi number of Frames: 88\n",
      "Processing file data/UCF101_subset/train/BaseballPitch/v_BaseballPitch_g16_c03.avi number of Frames: 126\n",
      "Processing file data/UCF101_subset/train/BaseballPitch/v_BaseballPitch_g05_c06.avi number of Frames: 116\n",
      "Processing file data/UCF101_subset/train/BaseballPitch/v_BaseballPitch_g13_c03.avi number of Frames: 140\n",
      "Processing file data/UCF101_subset/train/BaseballPitch/v_BaseballPitch_g08_c01.avi number of Frames: 113\n",
      "Processing file data/UCF101_subset/train/BaseballPitch/v_BaseballPitch_g14_c02.avi number of Frames: 138\n",
      "Processing file data/UCF101_subset/train/BaseballPitch/v_BaseballPitch_g01_c04.avi number of Frames: 105\n",
      "Processing file data/UCF101_subset/train/BaseballPitch/v_BaseballPitch_g23_c01.avi number of Frames: 113\n",
      "Processing file data/UCF101_subset/train/BaseballPitch/v_BaseballPitch_g19_c05.avi number of Frames: 94\n",
      "Processing file data/UCF101_subset/train/BaseballPitch/v_BaseballPitch_g18_c06.avi number of Frames: 67\n",
      "Processing file data/UCF101_subset/train/BaseballPitch/v_BaseballPitch_g02_c04.avi number of Frames: 85\n",
      "Processing file data/UCF101_subset/train/BaseballPitch/v_BaseballPitch_g23_c03.avi number of Frames: 78\n",
      "Processing file data/UCF101_subset/train/Basketball/v_Basketball_g14_c04.avi number of Frames: 88\n",
      "Processing file data/UCF101_subset/train/Basketball/v_Basketball_g04_c02.avi number of Frames: 104\n",
      "Processing file data/UCF101_subset/train/Basketball/v_Basketball_g12_c01.avi number of Frames: 278\n",
      "Processing file data/UCF101_subset/train/Basketball/v_Basketball_g01_c03.avi number of Frames: 206\n",
      "Processing file data/UCF101_subset/train/Basketball/v_Basketball_g09_c04.avi number of Frames: 101\n",
      "Processing file data/UCF101_subset/train/Basketball/v_Basketball_g08_c04.avi number of Frames: 101\n",
      "Processing file data/UCF101_subset/train/Basketball/v_Basketball_g23_c04.avi number of Frames: 120\n",
      "Processing file data/UCF101_subset/train/Basketball/v_Basketball_g17_c04.avi number of Frames: 84\n",
      "Processing file data/UCF101_subset/train/Basketball/v_Basketball_g04_c04.avi number of Frames: 72\n",
      "Processing file data/UCF101_subset/train/Basketball/v_Basketball_g15_c01.avi number of Frames: 120\n",
      "Processing file data/UCF101_subset/train/Basketball/v_Basketball_g25_c02.avi number of Frames: 179\n",
      "Processing file data/UCF101_subset/train/Basketball/v_Basketball_g01_c05.avi number of Frames: 141\n",
      "Processing file data/UCF101_subset/train/Basketball/v_Basketball_g09_c02.avi number of Frames: 104\n",
      "Processing file data/UCF101_subset/train/Basketball/v_Basketball_g11_c02.avi number of Frames: 143\n",
      "Processing file data/UCF101_subset/train/Basketball/v_Basketball_g23_c06.avi number of Frames: 97\n",
      "Processing file data/UCF101_subset/train/Basketball/v_Basketball_g22_c05.avi number of Frames: 88\n",
      "Processing file data/UCF101_subset/train/Basketball/v_Basketball_g03_c04.avi number of Frames: 80\n",
      "Processing file data/UCF101_subset/train/Basketball/v_Basketball_g03_c06.avi number of Frames: 86\n",
      "Processing file data/UCF101_subset/train/Basketball/v_Basketball_g16_c06.avi number of Frames: 346\n",
      "Processing file data/UCF101_subset/train/Basketball/v_Basketball_g21_c03.avi number of Frames: 182\n",
      "Processing file data/UCF101_subset/train/Basketball/v_Basketball_g14_c02.avi number of Frames: 131\n",
      "Processing file data/UCF101_subset/train/Basketball/v_Basketball_g01_c07.avi number of Frames: 100\n",
      "Processing file data/UCF101_subset/train/Basketball/v_Basketball_g13_c04.avi number of Frames: 300\n",
      "Processing file data/UCF101_subset/train/Basketball/v_Basketball_g13_c02.avi number of Frames: 330\n",
      "Processing file data/UCF101_subset/train/Basketball/v_Basketball_g15_c07.avi number of Frames: 164\n",
      "Processing file data/UCF101_subset/train/Basketball/v_Basketball_g19_c05.avi number of Frames: 151\n",
      "Processing file data/UCF101_subset/train/Basketball/v_Basketball_g16_c02.avi number of Frames: 518\n",
      "Processing file data/UCF101_subset/train/Basketball/v_Basketball_g19_c07.avi number of Frames: 137\n",
      "Processing file data/UCF101_subset/train/Basketball/v_Basketball_g07_c02.avi number of Frames: 101\n",
      "Processing file data/UCF101_subset/train/Basketball/v_Basketball_g01_c01.avi number of Frames: 141\n",
      "Processing file data/UCF101_subset/train/ApplyEyeMakeup/v_ApplyEyeMakeup_g16_c03.avi number of Frames: 114\n",
      "Processing file data/UCF101_subset/train/ApplyEyeMakeup/v_ApplyEyeMakeup_g25_c07.avi number of Frames: 145\n",
      "Processing file data/UCF101_subset/train/ApplyEyeMakeup/v_ApplyEyeMakeup_g06_c03.avi number of Frames: 245\n",
      "Processing file data/UCF101_subset/train/ApplyEyeMakeup/v_ApplyEyeMakeup_g05_c06.avi number of Frames: 115\n",
      "Processing file data/UCF101_subset/train/ApplyEyeMakeup/v_ApplyEyeMakeup_g22_c05.avi number of Frames: 243\n",
      "Processing file data/UCF101_subset/train/ApplyEyeMakeup/v_ApplyEyeMakeup_g04_c07.avi number of Frames: 158\n",
      "Processing file data/UCF101_subset/train/ApplyEyeMakeup/v_ApplyEyeMakeup_g02_c03.avi number of Frames: 216\n",
      "Processing file data/UCF101_subset/train/ApplyEyeMakeup/v_ApplyEyeMakeup_g15_c06.avi number of Frames: 197\n",
      "Processing file data/UCF101_subset/train/ApplyEyeMakeup/v_ApplyEyeMakeup_g25_c03.avi number of Frames: 125\n",
      "Processing file data/UCF101_subset/train/ApplyEyeMakeup/v_ApplyEyeMakeup_g18_c01.avi number of Frames: 159\n",
      "Processing file data/UCF101_subset/train/ApplyEyeMakeup/v_ApplyEyeMakeup_g25_c01.avi number of Frames: 241\n",
      "Processing file data/UCF101_subset/train/ApplyEyeMakeup/v_ApplyEyeMakeup_g25_c05.avi number of Frames: 93\n",
      "Processing file data/UCF101_subset/train/ApplyEyeMakeup/v_ApplyEyeMakeup_g07_c06.avi number of Frames: 162\n",
      "Processing file data/UCF101_subset/train/ApplyEyeMakeup/v_ApplyEyeMakeup_g12_c05.avi number of Frames: 127\n",
      "Processing file data/UCF101_subset/train/ApplyEyeMakeup/v_ApplyEyeMakeup_g09_c06.avi number of Frames: 188\n",
      "Processing file data/UCF101_subset/train/ApplyEyeMakeup/v_ApplyEyeMakeup_g08_c01.avi number of Frames: 120\n",
      "Processing file data/UCF101_subset/train/ApplyEyeMakeup/v_ApplyEyeMakeup_g13_c05.avi number of Frames: 119\n",
      "Processing file data/UCF101_subset/train/ApplyEyeMakeup/v_ApplyEyeMakeup_g10_c01.avi number of Frames: 153\n",
      "Processing file data/UCF101_subset/train/ApplyEyeMakeup/v_ApplyEyeMakeup_g24_c02.avi number of Frames: 105\n",
      "Processing file data/UCF101_subset/train/ApplyEyeMakeup/v_ApplyEyeMakeup_g09_c02.avi number of Frames: 258\n",
      "Processing file data/UCF101_subset/train/ApplyEyeMakeup/v_ApplyEyeMakeup_g19_c02.avi number of Frames: 243\n",
      "Processing file data/UCF101_subset/train/ApplyEyeMakeup/v_ApplyEyeMakeup_g07_c04.avi number of Frames: 142\n",
      "Processing file data/UCF101_subset/train/ApplyEyeMakeup/v_ApplyEyeMakeup_g17_c04.avi number of Frames: 105\n",
      "Processing file data/UCF101_subset/train/ApplyEyeMakeup/v_ApplyEyeMakeup_g21_c04.avi number of Frames: 227\n",
      "Processing file data/UCF101_subset/train/ApplyEyeMakeup/v_ApplyEyeMakeup_g05_c02.avi number of Frames: 264\n",
      "Processing file data/UCF101_subset/train/ApplyEyeMakeup/v_ApplyEyeMakeup_g11_c02.avi number of Frames: 178\n",
      "Processing file data/UCF101_subset/train/ApplyEyeMakeup/v_ApplyEyeMakeup_g22_c01.avi number of Frames: 170\n",
      "Processing file data/UCF101_subset/train/ApplyEyeMakeup/v_ApplyEyeMakeup_g11_c04.avi number of Frames: 138\n",
      "Processing file data/UCF101_subset/train/ApplyEyeMakeup/v_ApplyEyeMakeup_g18_c03.avi number of Frames: 157\n",
      "Processing file data/UCF101_subset/train/ApplyEyeMakeup/v_ApplyEyeMakeup_g10_c05.avi number of Frames: 120\n",
      "Processing file data/UCF101_subset/train/BandMarching/v_BandMarching_g03_c03.avi number of Frames: 284\n",
      "Processing file data/UCF101_subset/train/BandMarching/v_BandMarching_g21_c02.avi number of Frames: 323\n",
      "Processing file data/UCF101_subset/train/BandMarching/v_BandMarching_g13_c04.avi number of Frames: 303\n",
      "Processing file data/UCF101_subset/train/BandMarching/v_BandMarching_g06_c01.avi number of Frames: 68\n",
      "Processing file data/UCF101_subset/train/BandMarching/v_BandMarching_g07_c05.avi number of Frames: 117\n",
      "Processing file data/UCF101_subset/train/BandMarching/v_BandMarching_g04_c04.avi number of Frames: 167\n",
      "Processing file data/UCF101_subset/train/BandMarching/v_BandMarching_g18_c03.avi number of Frames: 310\n",
      "Processing file data/UCF101_subset/train/BandMarching/v_BandMarching_g03_c05.avi number of Frames: 270\n",
      "Processing file data/UCF101_subset/train/BandMarching/v_BandMarching_g09_c07.avi number of Frames: 132\n",
      "Processing file data/UCF101_subset/train/BandMarching/v_BandMarching_g04_c02.avi number of Frames: 210\n",
      "Processing file data/UCF101_subset/train/BandMarching/v_BandMarching_g21_c06.avi number of Frames: 336\n",
      "Processing file data/UCF101_subset/train/BandMarching/v_BandMarching_g19_c03.avi number of Frames: 307\n",
      "Processing file data/UCF101_subset/train/BandMarching/v_BandMarching_g12_c02.avi number of Frames: 429\n",
      "Processing file data/UCF101_subset/train/BandMarching/v_BandMarching_g25_c05.avi number of Frames: 105\n",
      "Processing file data/UCF101_subset/train/BandMarching/v_BandMarching_g24_c01.avi number of Frames: 340\n",
      "Processing file data/UCF101_subset/train/BandMarching/v_BandMarching_g07_c07.avi number of Frames: 146\n",
      "Processing file data/UCF101_subset/train/BandMarching/v_BandMarching_g02_c06.avi number of Frames: 125\n",
      "Processing file data/UCF101_subset/train/BandMarching/v_BandMarching_g02_c02.avi number of Frames: 156\n",
      "Processing file data/UCF101_subset/train/BandMarching/v_BandMarching_g09_c03.avi number of Frames: 102\n",
      "Processing file data/UCF101_subset/train/BandMarching/v_BandMarching_g14_c05.avi number of Frames: 216\n",
      "Processing file data/UCF101_subset/train/BandMarching/v_BandMarching_g15_c05.avi number of Frames: 471\n",
      "Processing file data/UCF101_subset/train/BandMarching/v_BandMarching_g16_c06.avi number of Frames: 140\n",
      "Processing file data/UCF101_subset/train/BandMarching/v_BandMarching_g01_c01.avi number of Frames: 160\n",
      "Processing file data/UCF101_subset/train/BandMarching/v_BandMarching_g10_c02.avi number of Frames: 139\n",
      "Processing file data/UCF101_subset/train/BandMarching/v_BandMarching_g08_c02.avi number of Frames: 145\n",
      "Processing file data/UCF101_subset/train/BandMarching/v_BandMarching_g19_c05.avi number of Frames: 331\n",
      "Processing file data/UCF101_subset/train/BandMarching/v_BandMarching_g10_c06.avi number of Frames: 138\n",
      "Processing file data/UCF101_subset/train/BandMarching/v_BandMarching_g07_c03.avi number of Frames: 105\n",
      "Processing file data/UCF101_subset/train/BandMarching/v_BandMarching_g25_c07.avi number of Frames: 214\n",
      "Processing file data/UCF101_subset/train/BandMarching/v_BandMarching_g03_c01.avi number of Frames: 405\n",
      "Processing file data/UCF101_subset/train/BasketballDunk/v_BasketballDunk_g10_c01.avi number of Frames: 91\n",
      "Processing file data/UCF101_subset/train/BasketballDunk/v_BasketballDunk_g01_c02.avi number of Frames: 65\n",
      "Processing file data/UCF101_subset/train/BasketballDunk/v_BasketballDunk_g22_c03.avi number of Frames: 111\n",
      "Processing file data/UCF101_subset/train/BasketballDunk/v_BasketballDunk_g25_c01.avi number of Frames: 82\n",
      "Processing file data/UCF101_subset/train/BasketballDunk/v_BasketballDunk_g11_c04.avi number of Frames: 86\n",
      "Processing file data/UCF101_subset/train/BasketballDunk/v_BasketballDunk_g21_c01.avi number of Frames: 84\n",
      "Processing file data/UCF101_subset/train/BasketballDunk/v_BasketballDunk_g17_c02.avi number of Frames: 66\n",
      "Processing file data/UCF101_subset/train/BasketballDunk/v_BasketballDunk_g18_c05.avi number of Frames: 74\n",
      "Processing file data/UCF101_subset/train/BasketballDunk/v_BasketballDunk_g03_c03.avi number of Frames: 74\n",
      "Processing file data/UCF101_subset/train/BasketballDunk/v_BasketballDunk_g16_c02.avi number of Frames: 75\n",
      "Processing file data/UCF101_subset/train/BasketballDunk/v_BasketballDunk_g20_c05.avi number of Frames: 72\n",
      "Processing file data/UCF101_subset/train/BasketballDunk/v_BasketballDunk_g16_c06.avi number of Frames: 76\n",
      "Processing file data/UCF101_subset/train/BasketballDunk/v_BasketballDunk_g07_c03.avi number of Frames: 53\n",
      "Processing file data/UCF101_subset/train/BasketballDunk/v_BasketballDunk_g06_c01.avi number of Frames: 52\n",
      "Processing file data/UCF101_subset/train/BasketballDunk/v_BasketballDunk_g02_c03.avi number of Frames: 71\n",
      "Processing file data/UCF101_subset/train/BasketballDunk/v_BasketballDunk_g15_c01.avi number of Frames: 77\n",
      "Processing file data/UCF101_subset/train/BasketballDunk/v_BasketballDunk_g23_c01.avi number of Frames: 91\n",
      "Processing file data/UCF101_subset/train/BasketballDunk/v_BasketballDunk_g15_c03.avi number of Frames: 124\n",
      "Processing file data/UCF101_subset/train/BasketballDunk/v_BasketballDunk_g13_c02.avi number of Frames: 67\n",
      "Processing file data/UCF101_subset/train/BasketballDunk/v_BasketballDunk_g19_c03.avi number of Frames: 58\n",
      "Processing file data/UCF101_subset/train/BasketballDunk/v_BasketballDunk_g21_c03.avi number of Frames: 116\n",
      "Processing file data/UCF101_subset/train/BasketballDunk/v_BasketballDunk_g01_c04.avi number of Frames: 61\n",
      "Processing file data/UCF101_subset/train/BasketballDunk/v_BasketballDunk_g23_c05.avi number of Frames: 93\n",
      "Processing file data/UCF101_subset/train/BasketballDunk/v_BasketballDunk_g07_c05.avi number of Frames: 37\n",
      "Processing file data/UCF101_subset/train/BasketballDunk/v_BasketballDunk_g24_c04.avi number of Frames: 155\n",
      "Processing file data/UCF101_subset/train/BasketballDunk/v_BasketballDunk_g09_c02.avi number of Frames: 72\n",
      "Processing file data/UCF101_subset/train/BasketballDunk/v_BasketballDunk_g08_c05.avi number of Frames: 87\n",
      "Processing file data/UCF101_subset/train/BasketballDunk/v_BasketballDunk_g04_c01.avi number of Frames: 51\n",
      "Processing file data/UCF101_subset/train/BasketballDunk/v_BasketballDunk_g15_c05.avi number of Frames: 79\n",
      "Processing file data/UCF101_subset/train/BasketballDunk/v_BasketballDunk_g16_c04.avi number of Frames: 59\n",
      "Processing file data/UCF101_subset/train/ApplyLipstick/v_ApplyLipstick_g13_c03.avi number of Frames: 164\n",
      "Processing file data/UCF101_subset/train/ApplyLipstick/v_ApplyLipstick_g12_c04.avi number of Frames: 277\n",
      "Processing file data/UCF101_subset/train/ApplyLipstick/v_ApplyLipstick_g19_c02.avi number of Frames: 111\n",
      "Processing file data/UCF101_subset/train/ApplyLipstick/v_ApplyLipstick_g05_c02.avi number of Frames: 154\n",
      "Processing file data/UCF101_subset/train/ApplyLipstick/v_ApplyLipstick_g11_c04.avi number of Frames: 157\n",
      "Processing file data/UCF101_subset/train/ApplyLipstick/v_ApplyLipstick_g08_c02.avi number of Frames: 219\n",
      "Processing file data/UCF101_subset/train/ApplyLipstick/v_ApplyLipstick_g06_c03.avi number of Frames: 153\n",
      "Processing file data/UCF101_subset/train/ApplyLipstick/v_ApplyLipstick_g02_c03.avi number of Frames: 98\n",
      "Processing file data/UCF101_subset/train/ApplyLipstick/v_ApplyLipstick_g22_c06.avi number of Frames: 172\n",
      "Processing file data/UCF101_subset/train/ApplyLipstick/v_ApplyLipstick_g09_c04.avi number of Frames: 210\n",
      "Processing file data/UCF101_subset/train/ApplyLipstick/v_ApplyLipstick_g18_c02.avi number of Frames: 139\n",
      "Processing file data/UCF101_subset/train/ApplyLipstick/v_ApplyLipstick_g23_c03.avi number of Frames: 135\n",
      "Processing file data/UCF101_subset/train/ApplyLipstick/v_ApplyLipstick_g04_c01.avi number of Frames: 98\n",
      "Processing file data/UCF101_subset/train/ApplyLipstick/v_ApplyLipstick_g21_c03.avi number of Frames: 143\n",
      "Processing file data/UCF101_subset/train/ApplyLipstick/v_ApplyLipstick_g17_c03.avi number of Frames: 142\n",
      "Processing file data/UCF101_subset/train/ApplyLipstick/v_ApplyLipstick_g07_c02.avi number of Frames: 125\n",
      "Processing file data/UCF101_subset/train/ApplyLipstick/v_ApplyLipstick_g19_c04.avi number of Frames: 155\n",
      "Processing file data/UCF101_subset/train/ApplyLipstick/v_ApplyLipstick_g17_c01.avi number of Frames: 161\n",
      "Processing file data/UCF101_subset/train/ApplyLipstick/v_ApplyLipstick_g01_c02.avi number of Frames: 160\n",
      "Processing file data/UCF101_subset/train/ApplyLipstick/v_ApplyLipstick_g18_c04.avi number of Frames: 119\n",
      "Processing file data/UCF101_subset/train/ApplyLipstick/v_ApplyLipstick_g02_c01.avi number of Frames: 127\n",
      "Processing file data/UCF101_subset/train/ApplyLipstick/v_ApplyLipstick_g24_c05.avi number of Frames: 288\n",
      "Processing file data/UCF101_subset/train/ApplyLipstick/v_ApplyLipstick_g22_c02.avi number of Frames: 176\n",
      "Processing file data/UCF101_subset/train/ApplyLipstick/v_ApplyLipstick_g03_c01.avi number of Frames: 180\n",
      "Processing file data/UCF101_subset/train/ApplyLipstick/v_ApplyLipstick_g22_c04.avi number of Frames: 177\n",
      "Processing file data/UCF101_subset/train/ApplyLipstick/v_ApplyLipstick_g15_c03.avi number of Frames: 133\n",
      "Processing file data/UCF101_subset/train/ApplyLipstick/v_ApplyLipstick_g03_c03.avi number of Frames: 154\n",
      "Processing file data/UCF101_subset/train/ApplyLipstick/v_ApplyLipstick_g01_c04.avi number of Frames: 369\n",
      "Processing file data/UCF101_subset/train/ApplyLipstick/v_ApplyLipstick_g04_c05.avi number of Frames: 169\n",
      "Processing file data/UCF101_subset/train/ApplyLipstick/v_ApplyLipstick_g21_c01.avi number of Frames: 85\n",
      "Processing file data/UCF101_subset/train/Archery/v_Archery_g08_c01.avi number of Frames: 363\n",
      "Processing file data/UCF101_subset/train/Archery/v_Archery_g24_c04.avi number of Frames: 121\n",
      "Processing file data/UCF101_subset/train/Archery/v_Archery_g07_c05.avi number of Frames: 64\n",
      "Processing file data/UCF101_subset/train/Archery/v_Archery_g22_c04.avi number of Frames: 73\n",
      "Processing file data/UCF101_subset/train/Archery/v_Archery_g14_c04.avi number of Frames: 244\n",
      "Processing file data/UCF101_subset/train/Archery/v_Archery_g25_c04.avi number of Frames: 259\n",
      "Processing file data/UCF101_subset/train/Archery/v_Archery_g02_c05.avi number of Frames: 127\n",
      "Processing file data/UCF101_subset/train/Archery/v_Archery_g15_c02.avi number of Frames: 184\n",
      "Processing file data/UCF101_subset/train/Archery/v_Archery_g10_c05.avi number of Frames: 188\n",
      "Processing file data/UCF101_subset/train/Archery/v_Archery_g11_c06.avi number of Frames: 243\n",
      "Processing file data/UCF101_subset/train/Archery/v_Archery_g02_c01.avi number of Frames: 158\n",
      "Processing file data/UCF101_subset/train/Archery/v_Archery_g06_c05.avi number of Frames: 130\n",
      "Processing file data/UCF101_subset/train/Archery/v_Archery_g24_c06.avi number of Frames: 122\n",
      "Processing file data/UCF101_subset/train/Archery/v_Archery_g09_c02.avi number of Frames: 83\n",
      "Processing file data/UCF101_subset/train/Archery/v_Archery_g07_c01.avi number of Frames: 91\n",
      "Processing file data/UCF101_subset/train/Archery/v_Archery_g19_c03.avi number of Frames: 159\n",
      "Processing file data/UCF101_subset/train/Archery/v_Archery_g01_c04.avi number of Frames: 125\n",
      "Processing file data/UCF101_subset/train/Archery/v_Archery_g20_c05.avi number of Frames: 120\n",
      "Processing file data/UCF101_subset/train/Archery/v_Archery_g04_c01.avi number of Frames: 165\n",
      "Processing file data/UCF101_subset/train/Archery/v_Archery_g10_c03.avi number of Frames: 203\n",
      "Processing file data/UCF101_subset/train/Archery/v_Archery_g11_c04.avi number of Frames: 258\n",
      "Processing file data/UCF101_subset/train/Archery/v_Archery_g06_c03.avi number of Frames: 87\n",
      "Processing file data/UCF101_subset/train/Archery/v_Archery_g04_c03.avi number of Frames: 140\n",
      "Processing file data/UCF101_subset/train/Archery/v_Archery_g13_c07.avi number of Frames: 190\n",
      "Processing file data/UCF101_subset/train/Archery/v_Archery_g03_c02.avi number of Frames: 176\n",
      "Processing file data/UCF101_subset/train/Archery/v_Archery_g06_c01.avi number of Frames: 81\n",
      "Processing file data/UCF101_subset/train/Archery/v_Archery_g23_c05.avi number of Frames: 91\n",
      "Processing file data/UCF101_subset/train/Archery/v_Archery_g05_c04.avi number of Frames: 51\n",
      "Processing file data/UCF101_subset/train/Archery/v_Archery_g22_c02.avi number of Frames: 70\n",
      "Processing file data/UCF101_subset/train/Archery/v_Archery_g13_c03.avi number of Frames: 160\n",
      "Processing file data/UCF101_subset/train/BalanceBeam/v_BalanceBeam_g25_c01.avi number of Frames: 80\n",
      "Processing file data/UCF101_subset/train/BalanceBeam/v_BalanceBeam_g10_c02.avi number of Frames: 69\n",
      "Processing file data/UCF101_subset/train/BalanceBeam/v_BalanceBeam_g24_c03.avi number of Frames: 100\n",
      "Processing file data/UCF101_subset/train/BalanceBeam/v_BalanceBeam_g06_c05.avi number of Frames: 102\n",
      "Processing file data/UCF101_subset/train/BalanceBeam/v_BalanceBeam_g05_c03.avi number of Frames: 111\n",
      "Processing file data/UCF101_subset/train/BalanceBeam/v_BalanceBeam_g07_c02.avi number of Frames: 110\n",
      "Processing file data/UCF101_subset/train/BalanceBeam/v_BalanceBeam_g08_c04.avi number of Frames: 116\n",
      "Processing file data/UCF101_subset/train/BalanceBeam/v_BalanceBeam_g19_c03.avi number of Frames: 118\n",
      "Processing file data/UCF101_subset/train/BalanceBeam/v_BalanceBeam_g15_c03.avi number of Frames: 125\n",
      "Processing file data/UCF101_subset/train/BalanceBeam/v_BalanceBeam_g04_c01.avi number of Frames: 120\n",
      "Processing file data/UCF101_subset/train/BalanceBeam/v_BalanceBeam_g01_c03.avi number of Frames: 112\n",
      "Processing file data/UCF101_subset/train/BalanceBeam/v_BalanceBeam_g23_c04.avi number of Frames: 107\n",
      "Processing file data/UCF101_subset/train/BalanceBeam/v_BalanceBeam_g17_c01.avi number of Frames: 191\n",
      "Processing file data/UCF101_subset/train/BalanceBeam/v_BalanceBeam_g14_c01.avi number of Frames: 145\n",
      "Processing file data/UCF101_subset/train/BalanceBeam/v_BalanceBeam_g10_c04.avi number of Frames: 122\n",
      "Processing file data/UCF101_subset/train/BalanceBeam/v_BalanceBeam_g14_c03.avi number of Frames: 201\n",
      "Processing file data/UCF101_subset/train/BalanceBeam/v_BalanceBeam_g09_c02.avi number of Frames: 79\n",
      "Processing file data/UCF101_subset/train/BalanceBeam/v_BalanceBeam_g04_c03.avi number of Frames: 160\n",
      "Processing file data/UCF101_subset/train/BalanceBeam/v_BalanceBeam_g03_c03.avi number of Frames: 101\n",
      "Processing file data/UCF101_subset/train/BalanceBeam/v_BalanceBeam_g02_c03.avi number of Frames: 60\n",
      "Processing file data/UCF101_subset/train/BalanceBeam/v_BalanceBeam_g03_c01.avi number of Frames: 197\n",
      "Processing file data/UCF101_subset/train/BalanceBeam/v_BalanceBeam_g19_c01.avi number of Frames: 153\n",
      "Processing file data/UCF101_subset/train/BalanceBeam/v_BalanceBeam_g21_c03.avi number of Frames: 125\n",
      "Processing file data/UCF101_subset/train/BalanceBeam/v_BalanceBeam_g21_c05.avi number of Frames: 115\n",
      "Processing file data/UCF101_subset/train/BalanceBeam/v_BalanceBeam_g06_c01.avi number of Frames: 106\n",
      "Processing file data/UCF101_subset/train/BalanceBeam/v_BalanceBeam_g06_c03.avi number of Frames: 105\n",
      "Processing file data/UCF101_subset/train/BalanceBeam/v_BalanceBeam_g18_c03.avi number of Frames: 181\n",
      "Processing file data/UCF101_subset/train/BalanceBeam/v_BalanceBeam_g05_c01.avi number of Frames: 95\n",
      "Processing file data/UCF101_subset/train/BalanceBeam/v_BalanceBeam_g08_c02.avi number of Frames: 125\n",
      "Processing file data/UCF101_subset/train/BalanceBeam/v_BalanceBeam_g12_c04.avi number of Frames: 96\n",
      "Processing file data/UCF101_subset/train/BabyCrawling/v_BabyCrawling_g16_c05.avi number of Frames: 223\n",
      "Processing file data/UCF101_subset/train/BabyCrawling/v_BabyCrawling_g02_c03.avi number of Frames: 117\n",
      "Processing file data/UCF101_subset/train/BabyCrawling/v_BabyCrawling_g11_c01.avi number of Frames: 106\n",
      "Processing file data/UCF101_subset/train/BabyCrawling/v_BabyCrawling_g07_c06.avi number of Frames: 210\n",
      "Processing file data/UCF101_subset/train/BabyCrawling/v_BabyCrawling_g11_c03.avi number of Frames: 99\n",
      "Processing file data/UCF101_subset/train/BabyCrawling/v_BabyCrawling_g06_c04.avi number of Frames: 113\n",
      "Processing file data/UCF101_subset/train/BabyCrawling/v_BabyCrawling_g05_c01.avi number of Frames: 221\n",
      "Processing file data/UCF101_subset/train/BabyCrawling/v_BabyCrawling_g14_c03.avi number of Frames: 176\n",
      "Processing file data/UCF101_subset/train/BabyCrawling/v_BabyCrawling_g08_c04.avi number of Frames: 95\n",
      "Processing file data/UCF101_subset/train/BabyCrawling/v_BabyCrawling_g24_c01.avi number of Frames: 194\n",
      "Processing file data/UCF101_subset/train/BabyCrawling/v_BabyCrawling_g14_c01.avi number of Frames: 122\n",
      "Processing file data/UCF101_subset/train/BabyCrawling/v_BabyCrawling_g07_c02.avi number of Frames: 145\n",
      "Processing file data/UCF101_subset/train/BabyCrawling/v_BabyCrawling_g01_c03.avi number of Frames: 156\n",
      "Processing file data/UCF101_subset/train/BabyCrawling/v_BabyCrawling_g15_c05.avi number of Frames: 217\n",
      "Processing file data/UCF101_subset/train/BabyCrawling/v_BabyCrawling_g10_c04.avi number of Frames: 184\n",
      "Processing file data/UCF101_subset/train/BabyCrawling/v_BabyCrawling_g18_c02.avi number of Frames: 227\n",
      "Processing file data/UCF101_subset/train/BabyCrawling/v_BabyCrawling_g23_c01.avi number of Frames: 116\n",
      "Processing file data/UCF101_subset/train/BabyCrawling/v_BabyCrawling_g20_c05.avi number of Frames: 178\n",
      "Processing file data/UCF101_subset/train/BabyCrawling/v_BabyCrawling_g02_c01.avi number of Frames: 109\n",
      "Processing file data/UCF101_subset/train/BabyCrawling/v_BabyCrawling_g20_c07.avi number of Frames: 250\n",
      "Processing file data/UCF101_subset/train/BabyCrawling/v_BabyCrawling_g15_c01.avi number of Frames: 198\n",
      "Processing file data/UCF101_subset/train/BabyCrawling/v_BabyCrawling_g25_c01.avi number of Frames: 293\n",
      "Processing file data/UCF101_subset/train/BabyCrawling/v_BabyCrawling_g24_c05.avi number of Frames: 112\n",
      "Processing file data/UCF101_subset/train/BabyCrawling/v_BabyCrawling_g20_c03.avi number of Frames: 263\n",
      "Processing file data/UCF101_subset/train/BabyCrawling/v_BabyCrawling_g17_c05.avi number of Frames: 109\n",
      "Processing file data/UCF101_subset/train/BabyCrawling/v_BabyCrawling_g02_c05.avi number of Frames: 84\n",
      "Processing file data/UCF101_subset/train/BabyCrawling/v_BabyCrawling_g08_c02.avi number of Frames: 111\n",
      "Processing file data/UCF101_subset/train/BabyCrawling/v_BabyCrawling_g15_c03.avi number of Frames: 101\n",
      "Processing file data/UCF101_subset/train/BabyCrawling/v_BabyCrawling_g17_c01.avi number of Frames: 141\n",
      "Processing file data/UCF101_subset/train/BabyCrawling/v_BabyCrawling_g12_c03.avi number of Frames: 96\n",
      "Processing file data/UCF101_subset/test/BenchPress/v_BenchPress_g05_c06.avi number of Frames: 195\n",
      "Processing file data/UCF101_subset/test/BenchPress/v_BenchPress_g09_c06.avi number of Frames: 211\n",
      "Processing file data/UCF101_subset/test/BenchPress/v_BenchPress_g25_c06.avi number of Frames: 123\n",
      "Processing file data/UCF101_subset/test/BenchPress/v_BenchPress_g09_c04.avi number of Frames: 68\n",
      "Processing file data/UCF101_subset/test/BenchPress/v_BenchPress_g05_c04.avi number of Frames: 298\n",
      "Processing file data/UCF101_subset/test/BenchPress/v_BenchPress_g25_c04.avi number of Frames: 216\n",
      "Processing file data/UCF101_subset/test/BenchPress/v_BenchPress_g05_c02.avi number of Frames: 67\n",
      "Processing file data/UCF101_subset/test/BenchPress/v_BenchPress_g09_c02.avi number of Frames: 70\n",
      "Processing file data/UCF101_subset/test/BenchPress/v_BenchPress_g25_c02.avi number of Frames: 108\n",
      "Processing file data/UCF101_subset/test/BaseballPitch/v_BaseballPitch_g11_c04.avi number of Frames: 58\n",
      "Processing file data/UCF101_subset/test/BaseballPitch/v_BaseballPitch_g20_c02.avi number of Frames: 110\n",
      "Processing file data/UCF101_subset/test/BaseballPitch/v_BaseballPitch_g22_c04.avi number of Frames: 94\n",
      "Processing file data/UCF101_subset/test/BaseballPitch/v_BaseballPitch_g24_c02.avi number of Frames: 119\n",
      "Processing file data/UCF101_subset/test/BaseballPitch/v_BaseballPitch_g11_c02.avi number of Frames: 74\n",
      "Processing file data/UCF101_subset/test/BaseballPitch/v_BaseballPitch_g24_c06.avi number of Frames: 120\n",
      "Processing file data/UCF101_subset/test/BaseballPitch/v_BaseballPitch_g20_c04.avi number of Frames: 102\n",
      "Processing file data/UCF101_subset/test/BaseballPitch/v_BaseballPitch_g22_c06.avi number of Frames: 71\n",
      "Processing file data/UCF101_subset/test/BaseballPitch/v_BaseballPitch_g22_c02.avi number of Frames: 104\n",
      "Processing file data/UCF101_subset/test/BaseballPitch/v_BaseballPitch_g24_c04.avi number of Frames: 116\n",
      "Processing file data/UCF101_subset/test/Basketball/v_Basketball_g06_c02.avi number of Frames: 101\n",
      "Processing file data/UCF101_subset/test/Basketball/v_Basketball_g24_c02.avi number of Frames: 120\n",
      "Processing file data/UCF101_subset/test/Basketball/v_Basketball_g05_c04.avi number of Frames: 87\n",
      "Processing file data/UCF101_subset/test/Basketball/v_Basketball_g02_c06.avi number of Frames: 124\n",
      "Processing file data/UCF101_subset/test/Basketball/v_Basketball_g02_c02.avi number of Frames: 56\n",
      "Processing file data/UCF101_subset/test/Basketball/v_Basketball_g18_c02.avi number of Frames: 102\n",
      "Processing file data/UCF101_subset/test/Basketball/v_Basketball_g05_c02.avi number of Frames: 111\n",
      "Processing file data/UCF101_subset/test/Basketball/v_Basketball_g24_c04.avi number of Frames: 120\n",
      "Processing file data/UCF101_subset/test/Basketball/v_Basketball_g02_c04.avi number of Frames: 80\n",
      "Processing file data/UCF101_subset/test/Basketball/v_Basketball_g18_c04.avi number of Frames: 188\n",
      "Processing file data/UCF101_subset/test/Basketball/v_Basketball_g06_c04.avi number of Frames: 77\n",
      "Processing file data/UCF101_subset/test/ApplyEyeMakeup/v_ApplyEyeMakeup_g23_c04.avi number of Frames: 200\n",
      "Processing file data/UCF101_subset/test/ApplyEyeMakeup/v_ApplyEyeMakeup_g23_c02.avi number of Frames: 131\n",
      "Processing file data/UCF101_subset/test/ApplyEyeMakeup/v_ApplyEyeMakeup_g23_c06.avi number of Frames: 140\n",
      "Processing file data/UCF101_subset/test/ApplyEyeMakeup/v_ApplyEyeMakeup_g03_c01.avi number of Frames: 209\n",
      "Processing file data/UCF101_subset/test/ApplyEyeMakeup/v_ApplyEyeMakeup_g03_c05.avi number of Frames: 146\n",
      "Processing file data/UCF101_subset/test/ApplyEyeMakeup/v_ApplyEyeMakeup_g03_c03.avi number of Frames: 115\n",
      "Processing file data/UCF101_subset/test/BandMarching/v_BandMarching_g11_c07.avi number of Frames: 247\n",
      "Processing file data/UCF101_subset/test/BandMarching/v_BandMarching_g22_c04.avi number of Frames: 248\n",
      "Processing file data/UCF101_subset/test/BandMarching/v_BandMarching_g05_c04.avi number of Frames: 89\n",
      "Processing file data/UCF101_subset/test/BandMarching/v_BandMarching_g11_c05.avi number of Frames: 432\n",
      "Processing file data/UCF101_subset/test/BandMarching/v_BandMarching_g05_c06.avi number of Frames: 79\n",
      "Processing file data/UCF101_subset/test/BandMarching/v_BandMarching_g11_c03.avi number of Frames: 389\n",
      "Processing file data/UCF101_subset/test/BandMarching/v_BandMarching_g05_c02.avi number of Frames: 84\n",
      "Processing file data/UCF101_subset/test/BandMarching/v_BandMarching_g11_c01.avi number of Frames: 296\n",
      "Processing file data/UCF101_subset/test/BandMarching/v_BandMarching_g22_c02.avi number of Frames: 131\n",
      "Processing file data/UCF101_subset/test/BasketballDunk/v_BasketballDunk_g14_c04.avi number of Frames: 88\n",
      "Processing file data/UCF101_subset/test/BasketballDunk/v_BasketballDunk_g14_c06.avi number of Frames: 125\n",
      "Processing file data/UCF101_subset/test/BasketballDunk/v_BasketballDunk_g14_c02.avi number of Frames: 82\n",
      "Processing file data/UCF101_subset/test/BasketballDunk/v_BasketballDunk_g12_c05.avi number of Frames: 68\n",
      "Processing file data/UCF101_subset/test/BasketballDunk/v_BasketballDunk_g12_c03.avi number of Frames: 70\n",
      "Processing file data/UCF101_subset/test/BasketballDunk/v_BasketballDunk_g12_c01.avi number of Frames: 50\n",
      "Processing file data/UCF101_subset/test/ApplyLipstick/v_ApplyLipstick_g16_c04.avi number of Frames: 173\n",
      "Processing file data/UCF101_subset/test/ApplyLipstick/v_ApplyLipstick_g14_c03.avi number of Frames: 174\n",
      "Processing file data/UCF101_subset/test/ApplyLipstick/v_ApplyLipstick_g16_c02.avi number of Frames: 165\n",
      "Processing file data/UCF101_subset/test/ApplyLipstick/v_ApplyLipstick_g14_c01.avi number of Frames: 176\n",
      "Processing file data/UCF101_subset/test/Archery/v_Archery_g16_c03.avi number of Frames: 206\n",
      "Processing file data/UCF101_subset/test/Archery/v_Archery_g17_c04.avi number of Frames: 66\n",
      "Processing file data/UCF101_subset/test/Archery/v_Archery_g21_c02.avi number of Frames: 175\n",
      "Processing file data/UCF101_subset/test/Archery/v_Archery_g21_c04.avi number of Frames: 205\n",
      "Processing file data/UCF101_subset/test/Archery/v_Archery_g16_c05.avi number of Frames: 262\n",
      "Processing file data/UCF101_subset/test/Archery/v_Archery_g16_c01.avi number of Frames: 151\n",
      "Processing file data/UCF101_subset/test/Archery/v_Archery_g17_c02.avi number of Frames: 94\n",
      "Processing file data/UCF101_subset/test/BalanceBeam/v_BalanceBeam_g11_c04.avi number of Frames: 116\n",
      "Processing file data/UCF101_subset/test/BalanceBeam/v_BalanceBeam_g20_c01.avi number of Frames: 84\n",
      "Processing file data/UCF101_subset/test/BalanceBeam/v_BalanceBeam_g20_c03.avi number of Frames: 100\n",
      "Processing file data/UCF101_subset/test/BalanceBeam/v_BalanceBeam_g11_c02.avi number of Frames: 68\n",
      "Processing file data/UCF101_subset/test/BabyCrawling/v_BabyCrawling_g22_c02.avi number of Frames: 197\n",
      "Processing file data/UCF101_subset/test/BabyCrawling/v_BabyCrawling_g04_c01.avi number of Frames: 127\n",
      "Processing file data/UCF101_subset/test/BabyCrawling/v_BabyCrawling_g19_c02.avi number of Frames: 170\n",
      "Processing file data/UCF101_subset/test/BabyCrawling/v_BabyCrawling_g03_c01.avi number of Frames: 215\n",
      "Processing file data/UCF101_subset/test/BabyCrawling/v_BabyCrawling_g19_c04.avi number of Frames: 144\n",
      "Processing file data/UCF101_subset/test/BabyCrawling/v_BabyCrawling_g03_c03.avi number of Frames: 198\n",
      "Processing file data/UCF101_subset/test/BabyCrawling/v_BabyCrawling_g22_c04.avi number of Frames: 193\n",
      "Processing file data/UCF101_subset/test/BabyCrawling/v_BabyCrawling_g22_c06.avi number of Frames: 92\n",
      "Processing file data/UCF101_subset/test/BabyCrawling/v_BabyCrawling_g04_c03.avi number of Frames: 159\n",
      "Processing file data/UCF101_subset/val/BenchPress/v_BenchPress_g17_c02.avi number of Frames: 68\n",
      "Processing file data/UCF101_subset/val/BenchPress/v_BenchPress_g17_c06.avi number of Frames: 117\n",
      "Processing file data/UCF101_subset/val/BenchPress/v_BenchPress_g11_c05.avi number of Frames: 114\n",
      "Processing file data/UCF101_subset/val/BaseballPitch/v_BaseballPitch_g09_c02.avi number of Frames: 75\n",
      "Processing file data/UCF101_subset/val/BaseballPitch/v_BaseballPitch_g12_c01.avi number of Frames: 126\n",
      "Processing file data/UCF101_subset/val/BaseballPitch/v_BaseballPitch_g07_c02.avi number of Frames: 138\n",
      "Processing file data/UCF101_subset/val/Basketball/v_Basketball_g10_c03.avi number of Frames: 116\n",
      "Processing file data/UCF101_subset/val/Basketball/v_Basketball_g20_c02.avi number of Frames: 175\n",
      "Processing file data/UCF101_subset/val/Basketball/v_Basketball_g20_c04.avi number of Frames: 120\n",
      "Processing file data/UCF101_subset/val/ApplyEyeMakeup/v_ApplyEyeMakeup_g14_c05.avi number of Frames: 160\n",
      "Processing file data/UCF101_subset/val/ApplyEyeMakeup/v_ApplyEyeMakeup_g20_c04.avi number of Frames: 220\n",
      "Processing file data/UCF101_subset/val/ApplyEyeMakeup/v_ApplyEyeMakeup_g01_c01.avi number of Frames: 164\n",
      "Processing file data/UCF101_subset/val/BandMarching/v_BandMarching_g23_c03.avi number of Frames: 262\n",
      "Processing file data/UCF101_subset/val/BandMarching/v_BandMarching_g17_c01.avi number of Frames: 125\n",
      "Processing file data/UCF101_subset/val/BandMarching/v_BandMarching_g20_c04.avi number of Frames: 165\n",
      "Processing file data/UCF101_subset/val/BasketballDunk/v_BasketballDunk_g05_c05.avi number of Frames: 53\n",
      "Processing file data/UCF101_subset/val/BasketballDunk/v_BasketballDunk_g05_c01.avi number of Frames: 52\n",
      "Processing file data/UCF101_subset/val/BasketballDunk/v_BasketballDunk_g05_c03.avi number of Frames: 56\n",
      "Processing file data/UCF101_subset/val/ApplyLipstick/v_ApplyLipstick_g20_c04.avi number of Frames: 140\n",
      "Processing file data/UCF101_subset/val/ApplyLipstick/v_ApplyLipstick_g10_c04.avi number of Frames: 247\n",
      "Processing file data/UCF101_subset/val/ApplyLipstick/v_ApplyLipstick_g25_c02.avi number of Frames: 151\n",
      "Processing file data/UCF101_subset/val/Archery/v_Archery_g18_c06.avi number of Frames: 160\n",
      "Processing file data/UCF101_subset/val/Archery/v_Archery_g18_c02.avi number of Frames: 291\n",
      "Processing file data/UCF101_subset/val/Archery/v_Archery_g12_c03.avi number of Frames: 436\n",
      "Processing file data/UCF101_subset/val/BalanceBeam/v_BalanceBeam_g16_c01.avi number of Frames: 124\n",
      "Processing file data/UCF101_subset/val/BalanceBeam/v_BalanceBeam_g13_c02.avi number of Frames: 125\n",
      "Processing file data/UCF101_subset/val/BalanceBeam/v_BalanceBeam_g22_c02.avi number of Frames: 96\n",
      "Processing file data/UCF101_subset/val/BabyCrawling/v_BabyCrawling_g21_c04.avi number of Frames: 189\n",
      "Processing file data/UCF101_subset/val/BabyCrawling/v_BabyCrawling_g09_c06.avi number of Frames: 119\n",
      "Processing file data/UCF101_subset/val/BabyCrawling/v_BabyCrawling_g13_c05.avi number of Frames: 85\n",
      "Min number frames 37\n"
     ]
    }
   ],
   "source": [
    "path_files = \"data/UCF101_subset\"\n",
    "video_dict, class_labels = frames_convert_and_create_dataset_dictionary(path_files)\n"
   ]
  },
  {
   "cell_type": "code",
   "execution_count": 27,
   "metadata": {},
   "outputs": [
    {
     "data": {
      "text/plain": [
       "405"
      ]
     },
     "execution_count": 27,
     "metadata": {},
     "output_type": "execute_result"
    }
   ],
   "source": [
    "len(video_dict)"
   ]
  },
  {
   "cell_type": "code",
   "execution_count": 28,
   "metadata": {},
   "outputs": [
    {
     "data": {
      "text/plain": [
       "dict_keys(['video', 'labels'])"
      ]
     },
     "execution_count": 28,
     "metadata": {},
     "output_type": "execute_result"
    }
   ],
   "source": [
    "video_dict[0].keys()"
   ]
  },
  {
   "cell_type": "code",
   "execution_count": 29,
   "metadata": {},
   "outputs": [
    {
     "data": {
      "text/plain": [
       "(10, 224, 224, 3)"
      ]
     },
     "execution_count": 29,
     "metadata": {},
     "output_type": "execute_result"
    }
   ],
   "source": [
    "video_dict[0]['video'].shape"
   ]
  },
  {
   "cell_type": "code",
   "execution_count": 30,
   "metadata": {},
   "outputs": [
    {
     "data": {
      "text/plain": [
       "'BenchPress'"
      ]
     },
     "execution_count": 30,
     "metadata": {},
     "output_type": "execute_result"
    }
   ],
   "source": [
    "video_dict[0]['labels']"
   ]
  },
  {
   "cell_type": "code",
   "execution_count": 31,
   "metadata": {},
   "outputs": [
    {
     "data": {
      "text/plain": [
       "(10, 224, 224, 3)"
      ]
     },
     "execution_count": 31,
     "metadata": {},
     "output_type": "execute_result"
    }
   ],
   "source": [
    "num_frames, height, width, channels =  video_dict[0]['video'].shape\n",
    "num_frames, height, width, channels "
   ]
  },
  {
   "cell_type": "markdown",
   "metadata": {},
   "source": [
    "## Display Video Sample"
   ]
  },
  {
   "cell_type": "code",
   "execution_count": 32,
   "metadata": {},
   "outputs": [
    {
     "name": "stdout",
     "output_type": "stream",
     "text": [
      "Unique classes: ['ApplyEyeMakeup', 'ApplyLipstick', 'Archery', 'BabyCrawling', 'BalanceBeam', 'BandMarching', 'BaseballPitch', 'Basketball', 'BasketballDunk', 'BenchPress'].\n"
     ]
    }
   ],
   "source": [
    "class_labels = sorted(class_labels)\n",
    "label2id = {label: i for i, label in enumerate(class_labels)}\n",
    "id2label = {i: label for label, i in label2id.items()}\n",
    "\n",
    "print(f\"Unique classes: {list(label2id.keys())}.\")"
   ]
  },
  {
   "cell_type": "code",
   "execution_count": null,
   "metadata": {},
   "outputs": [],
   "source": [
    "shuffled_dataset = create_dataset(video_dict)"
   ]
  },
  {
   "cell_type": "code",
   "execution_count": null,
   "metadata": {},
   "outputs": [],
   "source": []
  }
 ],
 "metadata": {
  "kernelspec": {
   "display_name": "major",
   "language": "python",
   "name": "python3"
  },
  "language_info": {
   "codemirror_mode": {
    "name": "ipython",
    "version": 3
   },
   "file_extension": ".py",
   "mimetype": "text/x-python",
   "name": "python",
   "nbconvert_exporter": "python",
   "pygments_lexer": "ipython3",
   "version": "3.10.12"
  }
 },
 "nbformat": 4,
 "nbformat_minor": 2
}
